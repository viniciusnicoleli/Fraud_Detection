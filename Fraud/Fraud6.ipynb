{
 "cells": [
  {
   "cell_type": "markdown",
   "id": "dbcfbe08",
   "metadata": {},
   "source": [
    "# Credit Card Fraud Detection - Case Dealing"
   ]
  },
  {
   "cell_type": "markdown",
   "id": "9489a27e",
   "metadata": {},
   "source": [
    "Proposto por: Vinicius Matheus Nicoleli"
   ]
  },
  {
   "cell_type": "markdown",
   "id": "4e7ebca9",
   "metadata": {},
   "source": [
    "O conjunto de dados foi coletado e analisado durante uma colaboração de pesquisa da Worldline e do Machine Learning Group (http://mlg.ulb.ac.be) da ULB (Université Libre de Bruxelles) sobre mineração de big data e detecção de fraudes."
   ]
  },
  {
   "cell_type": "markdown",
   "id": "30d1da3c",
   "metadata": {},
   "source": [
    "Se trata de uma base de dados de operações de cartão de crédito de clientes europeus de setembro de 2013"
   ]
  },
  {
   "cell_type": "markdown",
   "id": "3e47be91",
   "metadata": {},
   "source": [
    "### Objetivo do Case\n",
    " \n",
    "Intenção do presente Case, é apresentar 2 modelos que sejam capazes de prever um novo caso de fraude.\n",
    "\n",
    "Os modelos escolhidos consistem:\n",
    "    \n",
    "    * Modelo de Árvore de Decisões (Classificação)\n",
    "    \n",
    "    * Modelo: Regressão Logística (Com e sem a ambientação do uso do Algoritmo SMOTE)\n",
    "    \n",
    "Devido a natureza da variável de interesse 'Class' ser discreta, dicotômica-binária que classifica se a operação é uma fraude ou não (0 e 1):\n",
    "\n",
    "Utilizarei modelos de Classificação, evitando modelos de Regressão ou Regularizadores.\n",
    "\n",
    "\n"
   ]
  },
  {
   "cell_type": "markdown",
   "id": "b7d52444",
   "metadata": {},
   "source": [
    "## Pacotes ou bibliotecas necessárias"
   ]
  },
  {
   "cell_type": "code",
   "execution_count": 22,
   "id": "394768f3",
   "metadata": {},
   "outputs": [],
   "source": [
    "import sklearn as sk\n",
    "import numpy as np\n",
    "import pandas as pd\n",
    "import os as os\n",
    "import random\n",
    "from random import sample\n",
    "from matplotlib import pyplot as plt\n",
    "from statsmodels.stats.outliers_influence import variance_inflation_factor\n",
    "import seaborn as sns\n",
    "from boruta import BorutaPy\n",
    "from sklearn.ensemble import RandomForestRegressor\n",
    "from sklearn.ensemble import RandomForestClassifier\n",
    "from sklearn import tree\n",
    "from sklearn.model_selection import cross_validate\n",
    "from sklearn.tree import DecisionTreeClassifier\n",
    "from sklearn.model_selection import GridSearchCV\n",
    "from sklearn.metrics import roc_auc_score\n",
    "from sklearn.metrics import roc_curve, confusion_matrix, classification_report\n",
    "from sklearn.model_selection import train_test_split\n",
    "from imblearn import under_sampling, over_sampling\n",
    "from imblearn.over_sampling import SMOTE\n",
    "from sklearn.linear_model import LogisticRegression\n",
    "from collections import Counter\n",
    "from sklearn import metrics\n",
    "import statsmodels.api as sm"
   ]
  },
  {
   "cell_type": "markdown",
   "id": "58a944ac",
   "metadata": {},
   "source": [
    "### Instalando o Selecionador de Feature Boruta"
   ]
  },
  {
   "cell_type": "code",
   "execution_count": 33,
   "id": "7a10fc20",
   "metadata": {},
   "outputs": [
    {
     "name": "stdout",
     "output_type": "stream",
     "text": [
      "Requirement already satisfied: boruta in c:\\users\\u122097\\anaconda3\\lib\\site-packages (0.3)\n",
      "Requirement already satisfied: scipy>=0.17.0 in c:\\users\\u122097\\anaconda3\\lib\\site-packages (from boruta) (1.7.3)\n",
      "Requirement already satisfied: scikit-learn>=0.17.1 in c:\\users\\u122097\\anaconda3\\lib\\site-packages (from boruta) (1.1.1)\n",
      "Requirement already satisfied: numpy>=1.10.4 in c:\\users\\u122097\\anaconda3\\lib\\site-packages (from boruta) (1.21.5)\n",
      "Requirement already satisfied: threadpoolctl>=2.0.0 in c:\\users\\u122097\\anaconda3\\lib\\site-packages (from scikit-learn>=0.17.1->boruta) (2.2.0)\n",
      "Requirement already satisfied: joblib>=1.0.0 in c:\\users\\u122097\\anaconda3\\lib\\site-packages (from scikit-learn>=0.17.1->boruta) (1.1.0)\n"
     ]
    }
   ],
   "source": [
    "!pip install boruta"
   ]
  },
  {
   "cell_type": "markdown",
   "id": "dbe47d6e",
   "metadata": {},
   "source": [
    "Descobrindo o caminho do arquivo"
   ]
  },
  {
   "cell_type": "code",
   "execution_count": 6,
   "id": "2d79567e",
   "metadata": {},
   "outputs": [
    {
     "name": "stdout",
     "output_type": "stream",
     "text": [
      "C:\\Users\\u122097\\Documents\n"
     ]
    }
   ],
   "source": [
    "caminho = os.getcwd()\n",
    "print(caminho)"
   ]
  },
  {
   "cell_type": "markdown",
   "id": "3e0ebefa",
   "metadata": {},
   "source": [
    "### Adquirindo os dados para o Jupyter Notebook"
   ]
  },
  {
   "cell_type": "markdown",
   "id": "3a0cc54b",
   "metadata": {},
   "source": [
    "### Importante\n",
    "\n",
    "#### As variáveis V1 - V28 foram obtidas através de uma Análise de Componentes Principais, ou seja a informação contida sobre multicolinearidade, correlação tanto linear quanto não linear foram ELIMINADAS!\n",
    "\n",
    "#### Devido a ortogonalidade gerada, os modelos podem ser afetados pela INTERPRETABILIDADE dos resultados."
   ]
  },
  {
   "cell_type": "code",
   "execution_count": 7,
   "id": "3124a5b9",
   "metadata": {},
   "outputs": [
    {
     "data": {
      "text/html": [
       "<div>\n",
       "<style scoped>\n",
       "    .dataframe tbody tr th:only-of-type {\n",
       "        vertical-align: middle;\n",
       "    }\n",
       "\n",
       "    .dataframe tbody tr th {\n",
       "        vertical-align: top;\n",
       "    }\n",
       "\n",
       "    .dataframe thead th {\n",
       "        text-align: right;\n",
       "    }\n",
       "</style>\n",
       "<table border=\"1\" class=\"dataframe\">\n",
       "  <thead>\n",
       "    <tr style=\"text-align: right;\">\n",
       "      <th></th>\n",
       "      <th>Time</th>\n",
       "      <th>V1</th>\n",
       "      <th>V2</th>\n",
       "      <th>V3</th>\n",
       "      <th>V4</th>\n",
       "      <th>V5</th>\n",
       "      <th>V6</th>\n",
       "      <th>V7</th>\n",
       "      <th>V8</th>\n",
       "      <th>V9</th>\n",
       "      <th>...</th>\n",
       "      <th>V21</th>\n",
       "      <th>V22</th>\n",
       "      <th>V23</th>\n",
       "      <th>V24</th>\n",
       "      <th>V25</th>\n",
       "      <th>V26</th>\n",
       "      <th>V27</th>\n",
       "      <th>V28</th>\n",
       "      <th>Amount</th>\n",
       "      <th>Class</th>\n",
       "    </tr>\n",
       "  </thead>\n",
       "  <tbody>\n",
       "    <tr>\n",
       "      <th>0</th>\n",
       "      <td>0.0</td>\n",
       "      <td>-1.359807</td>\n",
       "      <td>-0.072781</td>\n",
       "      <td>2.536347</td>\n",
       "      <td>1.378155</td>\n",
       "      <td>-0.338321</td>\n",
       "      <td>0.462388</td>\n",
       "      <td>0.239599</td>\n",
       "      <td>0.098698</td>\n",
       "      <td>0.363787</td>\n",
       "      <td>...</td>\n",
       "      <td>-0.018307</td>\n",
       "      <td>0.277838</td>\n",
       "      <td>-0.110474</td>\n",
       "      <td>0.066928</td>\n",
       "      <td>0.128539</td>\n",
       "      <td>-0.189115</td>\n",
       "      <td>0.133558</td>\n",
       "      <td>-0.021053</td>\n",
       "      <td>149.62</td>\n",
       "      <td>0</td>\n",
       "    </tr>\n",
       "    <tr>\n",
       "      <th>1</th>\n",
       "      <td>0.0</td>\n",
       "      <td>1.191857</td>\n",
       "      <td>0.266151</td>\n",
       "      <td>0.166480</td>\n",
       "      <td>0.448154</td>\n",
       "      <td>0.060018</td>\n",
       "      <td>-0.082361</td>\n",
       "      <td>-0.078803</td>\n",
       "      <td>0.085102</td>\n",
       "      <td>-0.255425</td>\n",
       "      <td>...</td>\n",
       "      <td>-0.225775</td>\n",
       "      <td>-0.638672</td>\n",
       "      <td>0.101288</td>\n",
       "      <td>-0.339846</td>\n",
       "      <td>0.167170</td>\n",
       "      <td>0.125895</td>\n",
       "      <td>-0.008983</td>\n",
       "      <td>0.014724</td>\n",
       "      <td>2.69</td>\n",
       "      <td>0</td>\n",
       "    </tr>\n",
       "    <tr>\n",
       "      <th>2</th>\n",
       "      <td>1.0</td>\n",
       "      <td>-1.358354</td>\n",
       "      <td>-1.340163</td>\n",
       "      <td>1.773209</td>\n",
       "      <td>0.379780</td>\n",
       "      <td>-0.503198</td>\n",
       "      <td>1.800499</td>\n",
       "      <td>0.791461</td>\n",
       "      <td>0.247676</td>\n",
       "      <td>-1.514654</td>\n",
       "      <td>...</td>\n",
       "      <td>0.247998</td>\n",
       "      <td>0.771679</td>\n",
       "      <td>0.909412</td>\n",
       "      <td>-0.689281</td>\n",
       "      <td>-0.327642</td>\n",
       "      <td>-0.139097</td>\n",
       "      <td>-0.055353</td>\n",
       "      <td>-0.059752</td>\n",
       "      <td>378.66</td>\n",
       "      <td>0</td>\n",
       "    </tr>\n",
       "    <tr>\n",
       "      <th>3</th>\n",
       "      <td>1.0</td>\n",
       "      <td>-0.966272</td>\n",
       "      <td>-0.185226</td>\n",
       "      <td>1.792993</td>\n",
       "      <td>-0.863291</td>\n",
       "      <td>-0.010309</td>\n",
       "      <td>1.247203</td>\n",
       "      <td>0.237609</td>\n",
       "      <td>0.377436</td>\n",
       "      <td>-1.387024</td>\n",
       "      <td>...</td>\n",
       "      <td>-0.108300</td>\n",
       "      <td>0.005274</td>\n",
       "      <td>-0.190321</td>\n",
       "      <td>-1.175575</td>\n",
       "      <td>0.647376</td>\n",
       "      <td>-0.221929</td>\n",
       "      <td>0.062723</td>\n",
       "      <td>0.061458</td>\n",
       "      <td>123.50</td>\n",
       "      <td>0</td>\n",
       "    </tr>\n",
       "    <tr>\n",
       "      <th>4</th>\n",
       "      <td>2.0</td>\n",
       "      <td>-1.158233</td>\n",
       "      <td>0.877737</td>\n",
       "      <td>1.548718</td>\n",
       "      <td>0.403034</td>\n",
       "      <td>-0.407193</td>\n",
       "      <td>0.095921</td>\n",
       "      <td>0.592941</td>\n",
       "      <td>-0.270533</td>\n",
       "      <td>0.817739</td>\n",
       "      <td>...</td>\n",
       "      <td>-0.009431</td>\n",
       "      <td>0.798278</td>\n",
       "      <td>-0.137458</td>\n",
       "      <td>0.141267</td>\n",
       "      <td>-0.206010</td>\n",
       "      <td>0.502292</td>\n",
       "      <td>0.219422</td>\n",
       "      <td>0.215153</td>\n",
       "      <td>69.99</td>\n",
       "      <td>0</td>\n",
       "    </tr>\n",
       "  </tbody>\n",
       "</table>\n",
       "<p>5 rows × 31 columns</p>\n",
       "</div>"
      ],
      "text/plain": [
       "   Time        V1        V2        V3        V4        V5        V6        V7  \\\n",
       "0   0.0 -1.359807 -0.072781  2.536347  1.378155 -0.338321  0.462388  0.239599   \n",
       "1   0.0  1.191857  0.266151  0.166480  0.448154  0.060018 -0.082361 -0.078803   \n",
       "2   1.0 -1.358354 -1.340163  1.773209  0.379780 -0.503198  1.800499  0.791461   \n",
       "3   1.0 -0.966272 -0.185226  1.792993 -0.863291 -0.010309  1.247203  0.237609   \n",
       "4   2.0 -1.158233  0.877737  1.548718  0.403034 -0.407193  0.095921  0.592941   \n",
       "\n",
       "         V8        V9  ...       V21       V22       V23       V24       V25  \\\n",
       "0  0.098698  0.363787  ... -0.018307  0.277838 -0.110474  0.066928  0.128539   \n",
       "1  0.085102 -0.255425  ... -0.225775 -0.638672  0.101288 -0.339846  0.167170   \n",
       "2  0.247676 -1.514654  ...  0.247998  0.771679  0.909412 -0.689281 -0.327642   \n",
       "3  0.377436 -1.387024  ... -0.108300  0.005274 -0.190321 -1.175575  0.647376   \n",
       "4 -0.270533  0.817739  ... -0.009431  0.798278 -0.137458  0.141267 -0.206010   \n",
       "\n",
       "        V26       V27       V28  Amount  Class  \n",
       "0 -0.189115  0.133558 -0.021053  149.62      0  \n",
       "1  0.125895 -0.008983  0.014724    2.69      0  \n",
       "2 -0.139097 -0.055353 -0.059752  378.66      0  \n",
       "3 -0.221929  0.062723  0.061458  123.50      0  \n",
       "4  0.502292  0.219422  0.215153   69.99      0  \n",
       "\n",
       "[5 rows x 31 columns]"
      ]
     },
     "execution_count": 7,
     "metadata": {},
     "output_type": "execute_result"
    }
   ],
   "source": [
    "base = pd.read_csv('creditcard.csv', sep = ',')\n",
    "base.head()"
   ]
  },
  {
   "cell_type": "markdown",
   "id": "55d48988",
   "metadata": {},
   "source": [
    "## Análise Exploratória:\n",
    "\n",
    "Para iniciar, vamos testar a existência de dados NaN ou NULL"
   ]
  },
  {
   "cell_type": "code",
   "execution_count": 87,
   "id": "20b128f9",
   "metadata": {},
   "outputs": [
    {
     "data": {
      "text/plain": [
       "Time      284807\n",
       "V1        284807\n",
       "V2        284807\n",
       "V3        284807\n",
       "V4        284807\n",
       "V5        284807\n",
       "V6        284807\n",
       "V7        284807\n",
       "V8        284807\n",
       "V9        284807\n",
       "V10       284807\n",
       "V11       284807\n",
       "V12       284807\n",
       "V13       284807\n",
       "V14       284807\n",
       "V15       284807\n",
       "V16       284807\n",
       "V17       284807\n",
       "V18       284807\n",
       "V19       284807\n",
       "V20       284807\n",
       "V21       284807\n",
       "V22       284807\n",
       "V23       284807\n",
       "V24       284807\n",
       "V25       284807\n",
       "V26       284807\n",
       "V27       284807\n",
       "V28       284807\n",
       "Amount    284807\n",
       "Class     284807\n",
       "dtype: int64"
      ]
     },
     "execution_count": 87,
     "metadata": {},
     "output_type": "execute_result"
    }
   ],
   "source": [
    "base.count(0)"
   ]
  },
  {
   "cell_type": "markdown",
   "id": "2fe5acd0",
   "metadata": {},
   "source": [
    "### Podemos rodar um Describe que tem a mesma funcionalidade do Summary do R."
   ]
  },
  {
   "cell_type": "markdown",
   "id": "f6771fde",
   "metadata": {},
   "source": [
    "Minha ideia aqui é avaliar a performance de algumas variáveis e compreender a lógica por trás.\n",
    "\n",
    "Devido a falta de Informação e Interpretabilidade das V.As V1-V28, foquei em aprender sobre os Features, Time, Amount, Class."
   ]
  },
  {
   "cell_type": "code",
   "execution_count": 95,
   "id": "7a61d650",
   "metadata": {},
   "outputs": [
    {
     "data": {
      "text/html": [
       "<div>\n",
       "<style scoped>\n",
       "    .dataframe tbody tr th:only-of-type {\n",
       "        vertical-align: middle;\n",
       "    }\n",
       "\n",
       "    .dataframe tbody tr th {\n",
       "        vertical-align: top;\n",
       "    }\n",
       "\n",
       "    .dataframe thead th {\n",
       "        text-align: right;\n",
       "    }\n",
       "</style>\n",
       "<table border=\"1\" class=\"dataframe\">\n",
       "  <thead>\n",
       "    <tr style=\"text-align: right;\">\n",
       "      <th></th>\n",
       "      <th>Time</th>\n",
       "      <th>Amount</th>\n",
       "      <th>Class</th>\n",
       "    </tr>\n",
       "  </thead>\n",
       "  <tbody>\n",
       "    <tr>\n",
       "      <th>count</th>\n",
       "      <td>284807.000000</td>\n",
       "      <td>284807.000000</td>\n",
       "      <td>284807.000000</td>\n",
       "    </tr>\n",
       "    <tr>\n",
       "      <th>mean</th>\n",
       "      <td>94813.859575</td>\n",
       "      <td>88.349619</td>\n",
       "      <td>0.001727</td>\n",
       "    </tr>\n",
       "    <tr>\n",
       "      <th>std</th>\n",
       "      <td>47488.145955</td>\n",
       "      <td>250.120109</td>\n",
       "      <td>0.041527</td>\n",
       "    </tr>\n",
       "    <tr>\n",
       "      <th>min</th>\n",
       "      <td>0.000000</td>\n",
       "      <td>0.000000</td>\n",
       "      <td>0.000000</td>\n",
       "    </tr>\n",
       "    <tr>\n",
       "      <th>25%</th>\n",
       "      <td>54201.500000</td>\n",
       "      <td>5.600000</td>\n",
       "      <td>0.000000</td>\n",
       "    </tr>\n",
       "    <tr>\n",
       "      <th>50%</th>\n",
       "      <td>84692.000000</td>\n",
       "      <td>22.000000</td>\n",
       "      <td>0.000000</td>\n",
       "    </tr>\n",
       "    <tr>\n",
       "      <th>75%</th>\n",
       "      <td>139320.500000</td>\n",
       "      <td>77.165000</td>\n",
       "      <td>0.000000</td>\n",
       "    </tr>\n",
       "    <tr>\n",
       "      <th>max</th>\n",
       "      <td>172792.000000</td>\n",
       "      <td>25691.160000</td>\n",
       "      <td>1.000000</td>\n",
       "    </tr>\n",
       "  </tbody>\n",
       "</table>\n",
       "</div>"
      ],
      "text/plain": [
       "                Time         Amount          Class\n",
       "count  284807.000000  284807.000000  284807.000000\n",
       "mean    94813.859575      88.349619       0.001727\n",
       "std     47488.145955     250.120109       0.041527\n",
       "min         0.000000       0.000000       0.000000\n",
       "25%     54201.500000       5.600000       0.000000\n",
       "50%     84692.000000      22.000000       0.000000\n",
       "75%    139320.500000      77.165000       0.000000\n",
       "max    172792.000000   25691.160000       1.000000"
      ]
     },
     "execution_count": 95,
     "metadata": {},
     "output_type": "execute_result"
    }
   ],
   "source": [
    "base_sumup = base.drop(['V1','V2','V3','V4','V5','V6','V7','V8','V9','V10','V11','V12',\n",
    "                         'V13','V14','V15','V16','V17','V18','V19','V20','V21','V22','V23','V24','V25','V26','V27','V28'], \n",
    "                       axis = 1)\n",
    "base_sumup.describe()"
   ]
  },
  {
   "cell_type": "markdown",
   "id": "39e2a451",
   "metadata": {},
   "source": [
    "### Printando as colunas da base de Dados, Observando os Features."
   ]
  },
  {
   "cell_type": "code",
   "execution_count": 96,
   "id": "0dce7aa5",
   "metadata": {},
   "outputs": [
    {
     "name": "stdout",
     "output_type": "stream",
     "text": [
      "Index(['Time', 'V1', 'V2', 'V3', 'V4', 'V5', 'V6', 'V7', 'V8', 'V9', 'V10',\n",
      "       'V11', 'V12', 'V13', 'V14', 'V15', 'V16', 'V17', 'V18', 'V19', 'V20',\n",
      "       'V21', 'V22', 'V23', 'V24', 'V25', 'V26', 'V27', 'V28', 'Amount',\n",
      "       'Class'],\n",
      "      dtype='object')\n"
     ]
    }
   ],
   "source": [
    "print(base.columns)"
   ]
  },
  {
   "cell_type": "markdown",
   "id": "7c81c8cd",
   "metadata": {},
   "source": [
    "### Plotando um gráfico para observar a dimensão dos dados em relação ao valor das Fraudes\n",
    "\n",
    "Observem como as Fraudes não estão ultrapassando um Amount maior que 5000.\n",
    "\n",
    "Observem também o indicativo de Dados Desbalanceados"
   ]
  },
  {
   "cell_type": "code",
   "execution_count": 98,
   "id": "94db6974",
   "metadata": {},
   "outputs": [
    {
     "name": "stderr",
     "output_type": "stream",
     "text": [
      "C:\\Users\\u122097\\Anaconda3\\lib\\site-packages\\seaborn\\_decorators.py:36: FutureWarning: Pass the following variables as keyword args: x, y, data. From version 0.12, the only valid positional argument will be `data`, and passing other arguments without an explicit keyword will result in an error or misinterpretation.\n",
      "  warnings.warn(\n"
     ]
    },
    {
     "data": {
      "image/png": "[encoded data removed]",
      "text/plain": [
       "<Figure size 1080x720 with 1 Axes>"
      ]
     },
     "metadata": {
      "needs_background": "light"
     },
     "output_type": "display_data"
    }
   ],
   "source": [
    "sns.lmplot('Time', 'Amount', base, hue='Class', fit_reg=False)\n",
    "fig = plt.gcf()\n",
    "fig.set_size_inches(15, 10)\n",
    "plt.show()"
   ]
  },
  {
   "cell_type": "markdown",
   "id": "65d27f92",
   "metadata": {},
   "source": [
    "### Evidenciando Dados Desbalanceados"
   ]
  },
  {
   "cell_type": "code",
   "execution_count": 106,
   "id": "73dfdd56",
   "metadata": {},
   "outputs": [
    {
     "name": "stdout",
     "output_type": "stream",
     "text": [
      "\u001b[4m\u001b[95m\u001b[1mTemos 492 FRAUDES e 284315 que NÃO são FRAUDES, isso nos da uma porcentagem de:  0.1727 de Fraudes na base\u001b[0m\n"
     ]
    }
   ],
   "source": [
    "x = sum(base['Class']) # Isso funciona aqui pois a V.A é binária. (Respostas que são 0 e 1)\n",
    "y = len(base['Class'])-x\n",
    "total = round((x/len(base['Class']))*100,4)\n",
    "\n",
    "class color:\n",
    "   PURPLE = '\\033[95m'\n",
    "   CYAN = '\\033[96m'\n",
    "   DARKCYAN = '\\033[36m'\n",
    "   BLUE = '\\033[94m'\n",
    "   GREEN = '\\033[92m'\n",
    "   YELLOW = '\\033[93m'\n",
    "   RED = '\\033[91m'\n",
    "   BOLD = '\\033[1m'\n",
    "   UNDERLINE = '\\033[4m'\n",
    "   END = '\\033[0m'\n",
    "    \n",
    "print(color.UNDERLINE +color.PURPLE + color.BOLD + 'Temos', x , 'FRAUDES e', y, 'que NÃO são FRAUDES, isso nos da uma porcentagem de: ', total, 'de Fraudes na base' + color.END)"
   ]
  },
  {
   "cell_type": "markdown",
   "id": "b3afedb1",
   "metadata": {},
   "source": [
    "# Plotando as distribuições das Features"
   ]
  },
  {
   "cell_type": "code",
   "execution_count": 99,
   "id": "1787b9ff",
   "metadata": {},
   "outputs": [
    {
     "data": {
      "image/png": "[encoded data removed]",
      "text/plain": [
       "<Figure size 1152x1728 with 28 Axes>"
      ]
     },
     "metadata": {
      "needs_background": "light"
     },
     "output_type": "display_data"
    }
   ],
   "source": [
    "plt.figure(figsize=(16,24))\n",
    "numRange= [i for i in range(1,29)]\n",
    "for i in numRange:\n",
    "    plt.subplot(6,5,i,aspect='auto')\n",
    "    indice = 'V'+str(i)\n",
    "    sns.histplot(base,x=indice)"
   ]
  },
  {
   "cell_type": "markdown",
   "id": "2c6050f1",
   "metadata": {},
   "source": [
    "# Processo para o Feature Selecting"
   ]
  },
  {
   "cell_type": "markdown",
   "id": "cf2cf037",
   "metadata": {},
   "source": [
    "## Rodando um VIF para compreender a Multicolinearidade dos dados em relação com a resposta"
   ]
  },
  {
   "cell_type": "markdown",
   "id": "47ffbc44",
   "metadata": {},
   "source": [
    "A ideia é conseguir distinguir quais features vamos utilizar para o modelo de árvore de decisão\n",
    "\n",
    "        * Como a base já tinha sido apresentada com PCA, multicolinearidade deve ser mais próxima de 0."
   ]
  },
  {
   "cell_type": "code",
   "execution_count": 11,
   "id": "94620151",
   "metadata": {},
   "outputs": [],
   "source": [
    "def calculate_vif(dataset):\n",
    "    vif = pd.DataFrame()\n",
    "    vif['features'] = dataset.columns\n",
    "    vif['VIF_Value'] = [variance_inflation_factor(dataset.values, i) for i in range(dataset.shape[1])]\n",
    "    \n",
    "    return(vif)"
   ]
  },
  {
   "cell_type": "code",
   "execution_count": 12,
   "id": "0d6f5857",
   "metadata": {},
   "outputs": [
    {
     "name": "stdout",
     "output_type": "stream",
     "text": [
      "   features  VIF_Value\n",
      "0      Time   2.339084\n",
      "1        V1   1.621694\n",
      "2        V2   3.869377\n",
      "3        V3   1.255585\n",
      "4        V4   1.137944\n",
      "5        V5   2.753075\n",
      "6        V6   1.522122\n",
      "7        V7   2.510165\n",
      "8        V8   1.097151\n",
      "9        V9   1.018831\n",
      "10      V10   1.115668\n",
      "11      V11   1.028861\n",
      "12      V12   1.011961\n",
      "13      V13   1.003434\n",
      "14      V14   1.026832\n",
      "15      V15   1.014135\n",
      "16      V16   1.000371\n",
      "17      V17   1.004772\n",
      "18      V18   1.006568\n",
      "19      V19   1.037809\n",
      "20      V20   2.233934\n",
      "21      V21   1.100720\n",
      "22      V22   1.082384\n",
      "23      V23   1.149268\n",
      "24      V24   1.000659\n",
      "25      V25   1.013388\n",
      "26      V26   1.000487\n",
      "27      V27   1.008979\n",
      "28      V28   1.001425\n",
      "29   Amount  11.499791\n"
     ]
    }
   ],
   "source": [
    "features = base.iloc[:,:-1]\n",
    "print(calculate_vif(features))"
   ]
  },
  {
   "cell_type": "markdown",
   "id": "4e62c8b8",
   "metadata": {},
   "source": [
    "# Utilizando a correlação de Pearson\n",
    "\n",
    "### Devido a escala intervalar dos dados afim de excluir variáveis com as mesmas informações.\n",
    "Devido ao PCA novamente a correção linear que a medição de Pearson se torna ideal, apresenta próxima de 0."
   ]
  },
  {
   "cell_type": "code",
   "execution_count": 3,
   "id": "4a596a0b",
   "metadata": {},
   "outputs": [
    {
     "data": {
      "text/html": [
       "<style type=\"text/css\">\n",
       "#T_882f8_row0_col0, #T_882f8_row1_col1, #T_882f8_row2_col2, #T_882f8_row3_col3, #T_882f8_row4_col4, #T_882f8_row5_col5, #T_882f8_row6_col6, #T_882f8_row7_col7, #T_882f8_row8_col8, #T_882f8_row9_col9, #T_882f8_row10_col10, #T_882f8_row11_col11, #T_882f8_row12_col12, #T_882f8_row13_col13, #T_882f8_row14_col14, #T_882f8_row15_col15, #T_882f8_row16_col16, #T_882f8_row17_col17, #T_882f8_row18_col18, #T_882f8_row19_col19, #T_882f8_row20_col20, #T_882f8_row21_col21, #T_882f8_row22_col22, #T_882f8_row23_col23, #T_882f8_row24_col24, #T_882f8_row25_col25, #T_882f8_row26_col26, #T_882f8_row27_col27, #T_882f8_row28_col28, #T_882f8_row29_col29, #T_882f8_row30_col30 {\n",
       "  background-color: #b40426;\n",
       "  color: #f1f1f1;\n",
       "}\n",
       "#T_882f8_row0_col1, #T_882f8_row28_col2 {\n",
       "  background-color: #c9d7f0;\n",
       "  color: #000000;\n",
       "}\n",
       "#T_882f8_row0_col2, #T_882f8_row10_col0, #T_882f8_row13_col29, #T_882f8_row14_col29, #T_882f8_row16_col23, #T_882f8_row20_col25, #T_882f8_row30_col29 {\n",
       "  background-color: #a9c6fd;\n",
       "  color: #000000;\n",
       "}\n",
       "#T_882f8_row0_col3, #T_882f8_row0_col4, #T_882f8_row0_col11, #T_882f8_row0_col15, #T_882f8_row1_col20, #T_882f8_row1_col28, #T_882f8_row2_col29, #T_882f8_row3_col0, #T_882f8_row3_col1, #T_882f8_row6_col24, #T_882f8_row7_col6, #T_882f8_row7_col8, #T_882f8_row8_col7, #T_882f8_row8_col13, #T_882f8_row9_col10, #T_882f8_row10_col9, #T_882f8_row12_col30, #T_882f8_row14_col30, #T_882f8_row16_col17, #T_882f8_row17_col12, #T_882f8_row17_col14, #T_882f8_row17_col16, #T_882f8_row17_col18, #T_882f8_row23_col19, #T_882f8_row23_col21, #T_882f8_row23_col22, #T_882f8_row23_col25, #T_882f8_row25_col23, #T_882f8_row26_col27, #T_882f8_row27_col26, #T_882f8_row29_col2, #T_882f8_row29_col5 {\n",
       "  background-color: #3b4cc0;\n",
       "  color: #f1f1f1;\n",
       "}\n",
       "#T_882f8_row0_col5, #T_882f8_row22_col0 {\n",
       "  background-color: #c4d5f3;\n",
       "  color: #000000;\n",
       "}\n",
       "#T_882f8_row0_col6, #T_882f8_row0_col26, #T_882f8_row9_col27, #T_882f8_row11_col15, #T_882f8_row13_col26, #T_882f8_row15_col13, #T_882f8_row15_col24, #T_882f8_row19_col28, #T_882f8_row23_col26, #T_882f8_row26_col14, #T_882f8_row29_col12, #T_882f8_row29_col14 {\n",
       "  background-color: #6687ed;\n",
       "  color: #f1f1f1;\n",
       "}\n",
       "#T_882f8_row0_col7, #T_882f8_row4_col1, #T_882f8_row18_col29, #T_882f8_row19_col20, #T_882f8_row24_col23 {\n",
       "  background-color: #b5cdfa;\n",
       "  color: #000000;\n",
       "}\n",
       "#T_882f8_row0_col8, #T_882f8_row2_col20, #T_882f8_row6_col27, #T_882f8_row15_col10, #T_882f8_row15_col28, #T_882f8_row17_col6, #T_882f8_row17_col22, #T_882f8_row19_col16, #T_882f8_row23_col24, #T_882f8_row24_col22, #T_882f8_row26_col10 {\n",
       "  background-color: #7da0f9;\n",
       "  color: #f1f1f1;\n",
       "}\n",
       "#T_882f8_row0_col9, #T_882f8_row2_col25, #T_882f8_row5_col8, #T_882f8_row16_col11, #T_882f8_row18_col11, #T_882f8_row18_col22, #T_882f8_row20_col0 {\n",
       "  background-color: #89acfd;\n",
       "  color: #000000;\n",
       "}\n",
       "#T_882f8_row0_col10, #T_882f8_row23_col12, #T_882f8_row29_col17 {\n",
       "  background-color: #88abfd;\n",
       "  color: #000000;\n",
       "}\n",
       "#T_882f8_row0_col12, #T_882f8_row2_col23, #T_882f8_row3_col11, #T_882f8_row4_col17, #T_882f8_row4_col21, #T_882f8_row6_col1, #T_882f8_row6_col5, #T_882f8_row6_col11, #T_882f8_row14_col3, #T_882f8_row16_col5, #T_882f8_row22_col5, #T_882f8_row24_col17, #T_882f8_row27_col25, #T_882f8_row30_col11 {\n",
       "  background-color: #86a9fc;\n",
       "  color: #f1f1f1;\n",
       "}\n",
       "#T_882f8_row0_col13, #T_882f8_row9_col28, #T_882f8_row14_col16, #T_882f8_row16_col4, #T_882f8_row16_col19, #T_882f8_row27_col24, #T_882f8_row27_col30, #T_882f8_row30_col14 {\n",
       "  background-color: #5572df;\n",
       "  color: #f1f1f1;\n",
       "}\n",
       "#T_882f8_row0_col14, #T_882f8_row2_col10, #T_882f8_row7_col27, #T_882f8_row13_col14, #T_882f8_row14_col27, #T_882f8_row22_col19, #T_882f8_row25_col27 {\n",
       "  background-color: #4c66d6;\n",
       "  color: #f1f1f1;\n",
       "}\n",
       "#T_882f8_row0_col16, #T_882f8_row5_col11, #T_882f8_row7_col14, #T_882f8_row8_col18, #T_882f8_row9_col22, #T_882f8_row10_col2, #T_882f8_row10_col8, #T_882f8_row11_col22, #T_882f8_row13_col16, #T_882f8_row15_col22, #T_882f8_row16_col7, #T_882f8_row17_col21, #T_882f8_row19_col11, #T_882f8_row25_col17, #T_882f8_row27_col12, #T_882f8_row27_col15, #T_882f8_row30_col22 {\n",
       "  background-color: #799cf8;\n",
       "  color: #f1f1f1;\n",
       "}\n",
       "#T_882f8_row0_col17, #T_882f8_row2_col30, #T_882f8_row5_col10, #T_882f8_row7_col24, #T_882f8_row19_col4, #T_882f8_row21_col26, #T_882f8_row22_col26, #T_882f8_row24_col27, #T_882f8_row29_col16, #T_882f8_row29_col24, #T_882f8_row30_col18 {\n",
       "  background-color: #5b7ae5;\n",
       "  color: #f1f1f1;\n",
       "}\n",
       "#T_882f8_row0_col18, #T_882f8_row2_col14, #T_882f8_row5_col1, #T_882f8_row6_col20, #T_882f8_row9_col4, #T_882f8_row25_col6, #T_882f8_row25_col22, #T_882f8_row27_col1, #T_882f8_row28_col5, #T_882f8_row30_col5 {\n",
       "  background-color: #81a4fb;\n",
       "  color: #f1f1f1;\n",
       "}\n",
       "#T_882f8_row0_col19, #T_882f8_row3_col18, #T_882f8_row7_col16, #T_882f8_row8_col24, #T_882f8_row11_col13, #T_882f8_row12_col14, #T_882f8_row12_col16, #T_882f8_row21_col30, #T_882f8_row24_col18, #T_882f8_row25_col26, #T_882f8_row27_col4 {\n",
       "  background-color: #5875e1;\n",
       "  color: #f1f1f1;\n",
       "}\n",
       "#T_882f8_row0_col20, #T_882f8_row5_col17, #T_882f8_row7_col17, #T_882f8_row7_col19, #T_882f8_row10_col17, #T_882f8_row16_col12 {\n",
       "  background-color: #506bda;\n",
       "  color: #f1f1f1;\n",
       "}\n",
       "#T_882f8_row0_col21, #T_882f8_row9_col8, #T_882f8_row19_col7, #T_882f8_row30_col3 {\n",
       "  background-color: #97b8ff;\n",
       "  color: #000000;\n",
       "}\n",
       "#T_882f8_row0_col22, #T_882f8_row9_col3, #T_882f8_row13_col23, #T_882f8_row13_col25, #T_882f8_row17_col3, #T_882f8_row24_col25, #T_882f8_row26_col23, #T_882f8_row27_col0 {\n",
       "  background-color: #9ebeff;\n",
       "  color: #000000;\n",
       "}\n",
       "#T_882f8_row0_col23, #T_882f8_row1_col10 {\n",
       "  background-color: #c1d4f4;\n",
       "  color: #000000;\n",
       "}\n",
       "#T_882f8_row0_col24, #T_882f8_row1_col19, #T_882f8_row4_col13, #T_882f8_row6_col19, #T_882f8_row13_col4, #T_882f8_row29_col4 {\n",
       "  background-color: #5a78e4;\n",
       "  color: #f1f1f1;\n",
       "}\n",
       "#T_882f8_row0_col25, #T_882f8_row1_col7, #T_882f8_row8_col4, #T_882f8_row9_col14, #T_882f8_row10_col26, #T_882f8_row11_col24, #T_882f8_row11_col30, #T_882f8_row12_col15, #T_882f8_row17_col19, #T_882f8_row18_col12, #T_882f8_row20_col4, #T_882f8_row21_col27, #T_882f8_row23_col28, #T_882f8_row24_col4, #T_882f8_row26_col18 {\n",
       "  background-color: #5e7de7;\n",
       "  color: #f1f1f1;\n",
       "}\n",
       "#T_882f8_row0_col27, #T_882f8_row1_col8, #T_882f8_row4_col24, #T_882f8_row4_col27, #T_882f8_row7_col13, #T_882f8_row10_col19, #T_882f8_row10_col24, #T_882f8_row11_col4, #T_882f8_row14_col18, #T_882f8_row15_col12, #T_882f8_row17_col10, #T_882f8_row17_col13, #T_882f8_row29_col15, #T_882f8_row30_col24 {\n",
       "  background-color: #5d7ce6;\n",
       "  color: #f1f1f1;\n",
       "}\n",
       "#T_882f8_row0_col28, #T_882f8_row24_col30, #T_882f8_row29_col30 {\n",
       "  background-color: #4a63d3;\n",
       "  color: #f1f1f1;\n",
       "}\n",
       "#T_882f8_row0_col29, #T_882f8_row4_col9, #T_882f8_row4_col23, #T_882f8_row7_col20, #T_882f8_row11_col29, #T_882f8_row12_col9, #T_882f8_row12_col29, #T_882f8_row14_col11, #T_882f8_row15_col25 {\n",
       "  background-color: #a1c0ff;\n",
       "  color: #000000;\n",
       "}\n",
       "#T_882f8_row0_col30, #T_882f8_row1_col27, #T_882f8_row20_col14 {\n",
       "  background-color: #4961d2;\n",
       "  color: #f1f1f1;\n",
       "}\n",
       "#T_882f8_row1_col0 {\n",
       "  background-color: #cfdaea;\n",
       "  color: #000000;\n",
       "}\n",
       "#T_882f8_row1_col2, #T_882f8_row8_col30, #T_882f8_row11_col19, #T_882f8_row12_col18, #T_882f8_row19_col30, #T_882f8_row20_col30, #T_882f8_row28_col30 {\n",
       "  background-color: #536edd;\n",
       "  color: #f1f1f1;\n",
       "}\n",
       "#T_882f8_row1_col3, #T_882f8_row8_col19, #T_882f8_row23_col18 {\n",
       "  background-color: #465ecf;\n",
       "  color: #f1f1f1;\n",
       "}\n",
       "#T_882f8_row1_col4, #T_882f8_row2_col12, #T_882f8_row3_col15, #T_882f8_row4_col15, #T_882f8_row10_col11, #T_882f8_row14_col4, #T_882f8_row18_col9, #T_882f8_row20_col9, #T_882f8_row20_col13, #T_882f8_row21_col14, #T_882f8_row25_col10, #T_882f8_row26_col20, #T_882f8_row27_col7 {\n",
       "  background-color: #80a3fa;\n",
       "  color: #f1f1f1;\n",
       "}\n",
       "#T_882f8_row1_col5, #T_882f8_row1_col6, #T_882f8_row4_col16, #T_882f8_row8_col15, #T_882f8_row9_col11, #T_882f8_row13_col11, #T_882f8_row14_col28, #T_882f8_row15_col14, #T_882f8_row16_col18, #T_882f8_row16_col22, #T_882f8_row17_col20, #T_882f8_row18_col27, #T_882f8_row20_col10, #T_882f8_row21_col4, #T_882f8_row21_col18, #T_882f8_row22_col12, #T_882f8_row23_col5, #T_882f8_row26_col15, #T_882f8_row28_col24 {\n",
       "  background-color: #6c8ff1;\n",
       "  color: #f1f1f1;\n",
       "}\n",
       "#T_882f8_row1_col9, #T_882f8_row1_col25, #T_882f8_row3_col29, #T_882f8_row9_col0, #T_882f8_row11_col12, #T_882f8_row17_col2, #T_882f8_row17_col8, #T_882f8_row19_col2, #T_882f8_row20_col16, #T_882f8_row21_col8, #T_882f8_row23_col8, #T_882f8_row27_col23 {\n",
       "  background-color: #aac7fd;\n",
       "  color: #000000;\n",
       "}\n",
       "#T_882f8_row1_col11, #T_882f8_row1_col15, #T_882f8_row3_col22, #T_882f8_row8_col5, #T_882f8_row9_col5, #T_882f8_row11_col18, #T_882f8_row13_col22, #T_882f8_row19_col21, #T_882f8_row21_col12, #T_882f8_row21_col15, #T_882f8_row23_col15, #T_882f8_row30_col6 {\n",
       "  background-color: #7a9df8;\n",
       "  color: #f1f1f1;\n",
       "}\n",
       "#T_882f8_row1_col12, #T_882f8_row2_col11, #T_882f8_row4_col11, #T_882f8_row5_col14, #T_882f8_row6_col16, #T_882f8_row7_col22, #T_882f8_row14_col6, #T_882f8_row15_col17, #T_882f8_row17_col7, #T_882f8_row17_col9, #T_882f8_row21_col9, #T_882f8_row25_col12, #T_882f8_row25_col14 {\n",
       "  background-color: #7295f4;\n",
       "  color: #f1f1f1;\n",
       "}\n",
       "#T_882f8_row1_col13, #T_882f8_row1_col22, #T_882f8_row2_col26, #T_882f8_row3_col10, #T_882f8_row5_col3, #T_882f8_row6_col17, #T_882f8_row15_col4, #T_882f8_row22_col15, #T_882f8_row24_col12, #T_882f8_row26_col21, #T_882f8_row30_col15 {\n",
       "  background-color: #7093f3;\n",
       "  color: #f1f1f1;\n",
       "}\n",
       "#T_882f8_row1_col14, #T_882f8_row1_col24, #T_882f8_row3_col24, #T_882f8_row4_col30, #T_882f8_row6_col26, #T_882f8_row9_col24, #T_882f8_row11_col27, #T_882f8_row12_col24, #T_882f8_row18_col13, #T_882f8_row18_col14, #T_882f8_row18_col26, #T_882f8_row19_col13, #T_882f8_row22_col4, #T_882f8_row25_col24, #T_882f8_row28_col13, #T_882f8_row30_col12 {\n",
       "  background-color: #5f7fe8;\n",
       "  color: #f1f1f1;\n",
       "}\n",
       "#T_882f8_row1_col16, #T_882f8_row5_col6, #T_882f8_row5_col20, #T_882f8_row5_col23, #T_882f8_row7_col28, #T_882f8_row15_col9, #T_882f8_row18_col21, #T_882f8_row18_col23, #T_882f8_row20_col11, #T_882f8_row20_col22, #T_882f8_row23_col17, #T_882f8_row24_col5, #T_882f8_row24_col10 {\n",
       "  background-color: #82a6fb;\n",
       "  color: #f1f1f1;\n",
       "}\n",
       "#T_882f8_row1_col17, #T_882f8_row1_col26, #T_882f8_row2_col18, #T_882f8_row2_col22, #T_882f8_row7_col9, #T_882f8_row9_col21, #T_882f8_row10_col4, #T_882f8_row10_col14, #T_882f8_row10_col15, #T_882f8_row10_col16, #T_882f8_row15_col18, #T_882f8_row21_col24, #T_882f8_row23_col7, #T_882f8_row24_col26, #T_882f8_row25_col0, #T_882f8_row28_col1, #T_882f8_row28_col9, #T_882f8_row30_col26 {\n",
       "  background-color: #688aef;\n",
       "  color: #f1f1f1;\n",
       "}\n",
       "#T_882f8_row1_col18, #T_882f8_row5_col24, #T_882f8_row10_col20, #T_882f8_row12_col10, #T_882f8_row14_col24, #T_882f8_row16_col27 {\n",
       "  background-color: #5977e3;\n",
       "  color: #f1f1f1;\n",
       "}\n",
       "#T_882f8_row1_col21, #T_882f8_row2_col13, #T_882f8_row5_col27, #T_882f8_row5_col28, #T_882f8_row11_col28, #T_882f8_row12_col26, #T_882f8_row17_col15, #T_882f8_row29_col11, #T_882f8_row30_col16 {\n",
       "  background-color: #6a8bef;\n",
       "  color: #f1f1f1;\n",
       "}\n",
       "#T_882f8_row1_col23, #T_882f8_row3_col8, #T_882f8_row7_col0, #T_882f8_row20_col28, #T_882f8_row28_col20 {\n",
       "  background-color: #c0d4f5;\n",
       "  color: #000000;\n",
       "}\n",
       "#T_882f8_row1_col29, #T_882f8_row6_col10, #T_882f8_row10_col6, #T_882f8_row14_col1, #T_882f8_row16_col21, #T_882f8_row25_col2, #T_882f8_row26_col8 {\n",
       "  background-color: #96b7ff;\n",
       "  color: #000000;\n",
       "}\n",
       "#T_882f8_row1_col30, #T_882f8_row2_col1, #T_882f8_row15_col19, #T_882f8_row24_col19 {\n",
       "  background-color: #4055c8;\n",
       "  color: #f1f1f1;\n",
       "}\n",
       "#T_882f8_row2_col0, #T_882f8_row4_col29, #T_882f8_row11_col8, #T_882f8_row16_col1, #T_882f8_row16_col20, #T_882f8_row22_col25 {\n",
       "  background-color: #a5c3fe;\n",
       "  color: #000000;\n",
       "}\n",
       "#T_882f8_row2_col3, #T_882f8_row12_col0 {\n",
       "  background-color: #b7cff9;\n",
       "  color: #000000;\n",
       "}\n",
       "#T_882f8_row2_col4, #T_882f8_row3_col27, #T_882f8_row6_col2, #T_882f8_row8_col12, #T_882f8_row8_col21, #T_882f8_row14_col0, #T_882f8_row18_col1, #T_882f8_row22_col10, #T_882f8_row26_col5, #T_882f8_row26_col25, #T_882f8_row27_col20, #T_882f8_row29_col7, #T_882f8_row29_col22, #T_882f8_row29_col23 {\n",
       "  background-color: #90b2fe;\n",
       "  color: #000000;\n",
       "}\n",
       "#T_882f8_row2_col5 {\n",
       "  background-color: #dcdddd;\n",
       "  color: #000000;\n",
       "}\n",
       "#T_882f8_row2_col6, #T_882f8_row5_col4, #T_882f8_row5_col13, #T_882f8_row13_col27, #T_882f8_row18_col4, #T_882f8_row20_col1, #T_882f8_row22_col28 {\n",
       "  background-color: #6788ee;\n",
       "  color: #f1f1f1;\n",
       "}\n",
       "#T_882f8_row2_col7 {\n",
       "  background-color: #f0cdbb;\n",
       "  color: #000000;\n",
       "}\n",
       "#T_882f8_row2_col8, #T_882f8_row2_col28, #T_882f8_row5_col25, #T_882f8_row10_col25, #T_882f8_row12_col3, #T_882f8_row15_col29, #T_882f8_row16_col25, #T_882f8_row20_col19, #T_882f8_row23_col10 {\n",
       "  background-color: #9abbff;\n",
       "  color: #000000;\n",
       "}\n",
       "#T_882f8_row2_col9, #T_882f8_row3_col21, #T_882f8_row4_col20, #T_882f8_row5_col21, #T_882f8_row5_col26, #T_882f8_row7_col23, #T_882f8_row9_col15, #T_882f8_row9_col16, #T_882f8_row11_col0, #T_882f8_row12_col27, #T_882f8_row12_col28, #T_882f8_row13_col28, #T_882f8_row15_col27, #T_882f8_row17_col4, #T_882f8_row17_col24, #T_882f8_row24_col16, #T_882f8_row29_col9, #T_882f8_row30_col27 {\n",
       "  background-color: #6f92f3;\n",
       "  color: #f1f1f1;\n",
       "}\n",
       "#T_882f8_row2_col15, #T_882f8_row3_col9, #T_882f8_row3_col23, #T_882f8_row6_col12, #T_882f8_row11_col9, #T_882f8_row11_col21, #T_882f8_row12_col5, #T_882f8_row14_col9, #T_882f8_row15_col16, #T_882f8_row16_col9, #T_882f8_row22_col17, #T_882f8_row22_col20, #T_882f8_row22_col27, #T_882f8_row28_col15 {\n",
       "  background-color: #7b9ff9;\n",
       "  color: #f1f1f1;\n",
       "}\n",
       "#T_882f8_row2_col16, #T_882f8_row6_col9, #T_882f8_row8_col25, #T_882f8_row8_col28, #T_882f8_row9_col6, #T_882f8_row11_col5, #T_882f8_row11_col16, #T_882f8_row12_col7, #T_882f8_row19_col5, #T_882f8_row20_col15, #T_882f8_row21_col1, #T_882f8_row25_col7, #T_882f8_row26_col9, #T_882f8_row27_col5, #T_882f8_row27_col29, #T_882f8_row28_col23 {\n",
       "  background-color: #8caffe;\n",
       "  color: #000000;\n",
       "}\n",
       "#T_882f8_row2_col17, #T_882f8_row4_col22, #T_882f8_row6_col4, #T_882f8_row6_col28, #T_882f8_row7_col11, #T_882f8_row13_col9, #T_882f8_row15_col6, #T_882f8_row18_col28, #T_882f8_row21_col10, #T_882f8_row23_col6, #T_882f8_row24_col15, #T_882f8_row30_col20, #T_882f8_row30_col28 {\n",
       "  background-color: #779af7;\n",
       "  color: #f1f1f1;\n",
       "}\n",
       "#T_882f8_row2_col19, #T_882f8_row7_col18, #T_882f8_row9_col19, #T_882f8_row18_col24, #T_882f8_row25_col19 {\n",
       "  background-color: #516ddb;\n",
       "  color: #f1f1f1;\n",
       "}\n",
       "#T_882f8_row2_col21, #T_882f8_row5_col18, #T_882f8_row6_col13, #T_882f8_row8_col1, #T_882f8_row9_col18, #T_882f8_row10_col5, #T_882f8_row10_col27, #T_882f8_row13_col24, #T_882f8_row19_col27, #T_882f8_row21_col23, #T_882f8_row24_col6, #T_882f8_row24_col14, #T_882f8_row26_col13, #T_882f8_row26_col24, #T_882f8_row28_col10, #T_882f8_row28_col26, #T_882f8_row29_col13, #T_882f8_row30_col13 {\n",
       "  background-color: #6180e9;\n",
       "  color: #f1f1f1;\n",
       "}\n",
       "#T_882f8_row2_col24, #T_882f8_row3_col13, #T_882f8_row5_col12, #T_882f8_row6_col15, #T_882f8_row7_col1, #T_882f8_row8_col10, #T_882f8_row10_col7, #T_882f8_row19_col18, #T_882f8_row22_col13, #T_882f8_row22_col23, #T_882f8_row22_col24, #T_882f8_row24_col13, #T_882f8_row25_col13, #T_882f8_row25_col18, #T_882f8_row25_col28, #T_882f8_row27_col13 {\n",
       "  background-color: #6384eb;\n",
       "  color: #f1f1f1;\n",
       "}\n",
       "#T_882f8_row2_col27, #T_882f8_row8_col0, #T_882f8_row8_col17, #T_882f8_row11_col10, #T_882f8_row11_col17, #T_882f8_row12_col4, #T_882f8_row13_col5, #T_882f8_row15_col20, #T_882f8_row17_col0, #T_882f8_row17_col1, #T_882f8_row19_col6, #T_882f8_row21_col6, #T_882f8_row27_col22 {\n",
       "  background-color: #8db0fe;\n",
       "  color: #000000;\n",
       "}\n",
       "#T_882f8_row3_col2, #T_882f8_row18_col0, #T_882f8_row29_col6 {\n",
       "  background-color: #bbd1f8;\n",
       "  color: #000000;\n",
       "}\n",
       "#T_882f8_row3_col4, #T_882f8_row4_col28, #T_882f8_row7_col4, #T_882f8_row8_col14, #T_882f8_row8_col20, #T_882f8_row13_col8, #T_882f8_row13_col17, #T_882f8_row16_col26, #T_882f8_row17_col27, #T_882f8_row20_col17, #T_882f8_row25_col4, #T_882f8_row25_col15, #T_882f8_row25_col16, #T_882f8_row27_col21, #T_882f8_row29_col18, #T_882f8_row30_col4, #T_882f8_row30_col10 {\n",
       "  background-color: #7396f5;\n",
       "  color: #f1f1f1;\n",
       "}\n",
       "#T_882f8_row3_col5, #T_882f8_row6_col7, #T_882f8_row13_col19, #T_882f8_row18_col19, #T_882f8_row19_col24, #T_882f8_row21_col19, #T_882f8_row26_col4 {\n",
       "  background-color: #4f69d9;\n",
       "  color: #f1f1f1;\n",
       "}\n",
       "#T_882f8_row3_col6, #T_882f8_row11_col3, #T_882f8_row12_col8, #T_882f8_row12_col23, #T_882f8_row15_col3, #T_882f8_row26_col2 {\n",
       "  background-color: #b2ccfb;\n",
       "  color: #000000;\n",
       "}\n",
       "#T_882f8_row3_col7, #T_882f8_row4_col0, #T_882f8_row6_col22, #T_882f8_row8_col9, #T_882f8_row12_col21, #T_882f8_row13_col6, #T_882f8_row13_col10, #T_882f8_row15_col21, #T_882f8_row17_col28, #T_882f8_row23_col3, #T_882f8_row24_col9, #T_882f8_row24_col21, #T_882f8_row26_col16, #T_882f8_row27_col9, #T_882f8_row28_col0 {\n",
       "  background-color: #84a7fc;\n",
       "  color: #f1f1f1;\n",
       "}\n",
       "#T_882f8_row3_col12, #T_882f8_row3_col26, #T_882f8_row5_col29, #T_882f8_row7_col15, #T_882f8_row10_col13, #T_882f8_row13_col18, #T_882f8_row14_col12, #T_882f8_row15_col26, #T_882f8_row16_col13, #T_882f8_row17_col5, #T_882f8_row19_col15, #T_882f8_row19_col26, #T_882f8_row23_col13, #T_882f8_row28_col4, #T_882f8_row28_col14 {\n",
       "  background-color: #6282ea;\n",
       "  color: #f1f1f1;\n",
       "}\n",
       "#T_882f8_row3_col14, #T_882f8_row18_col30, #T_882f8_row29_col27 {\n",
       "  background-color: #4358cb;\n",
       "  color: #f1f1f1;\n",
       "}\n",
       "#T_882f8_row3_col16, #T_882f8_row4_col18, #T_882f8_row7_col26, #T_882f8_row15_col11, #T_882f8_row20_col24, #T_882f8_row22_col16, #T_882f8_row23_col14, #T_882f8_row26_col28, #T_882f8_row27_col16, #T_882f8_row27_col18, #T_882f8_row28_col18, #T_882f8_row30_col17 {\n",
       "  background-color: #6b8df0;\n",
       "  color: #f1f1f1;\n",
       "}\n",
       "#T_882f8_row3_col17, #T_882f8_row9_col20, #T_882f8_row9_col26, #T_882f8_row10_col21, #T_882f8_row13_col21, #T_882f8_row16_col28, #T_882f8_row19_col14, #T_882f8_row20_col23, #T_882f8_row26_col22, #T_882f8_row27_col11, #T_882f8_row28_col11, #T_882f8_row28_col12, #T_882f8_row28_col22 {\n",
       "  background-color: #6e90f2;\n",
       "  color: #f1f1f1;\n",
       "}\n",
       "#T_882f8_row3_col19, #T_882f8_row4_col19, #T_882f8_row13_col30, #T_882f8_row14_col17, #T_882f8_row15_col30, #T_882f8_row23_col30, #T_882f8_row26_col19, #T_882f8_row27_col19 {\n",
       "  background-color: #4b64d5;\n",
       "  color: #f1f1f1;\n",
       "}\n",
       "#T_882f8_row3_col20, #T_882f8_row6_col23, #T_882f8_row8_col16, #T_882f8_row16_col29, #T_882f8_row21_col7, #T_882f8_row22_col7, #T_882f8_row24_col8, #T_882f8_row28_col25, #T_882f8_row30_col1 {\n",
       "  background-color: #92b4fe;\n",
       "  color: #000000;\n",
       "}\n",
       "#T_882f8_row3_col25, #T_882f8_row3_col28, #T_882f8_row4_col7, #T_882f8_row11_col23, #T_882f8_row14_col7, #T_882f8_row14_col25, #T_882f8_row15_col23, #T_882f8_row16_col0, #T_882f8_row24_col3, #T_882f8_row26_col0, #T_882f8_row28_col7, #T_882f8_row29_col3 {\n",
       "  background-color: #a6c4fe;\n",
       "  color: #000000;\n",
       "}\n",
       "#T_882f8_row3_col30, #T_882f8_row10_col30 {\n",
       "  background-color: #3c4ec2;\n",
       "  color: #f1f1f1;\n",
       "}\n",
       "#T_882f8_row4_col2 {\n",
       "  background-color: #cbd8ee;\n",
       "  color: #000000;\n",
       "}\n",
       "#T_882f8_row4_col3, #T_882f8_row15_col2, #T_882f8_row20_col2 {\n",
       "  background-color: #b3cdfb;\n",
       "  color: #000000;\n",
       "}\n",
       "#T_882f8_row4_col5, #T_882f8_row9_col12, #T_882f8_row12_col6, #T_882f8_row13_col20, #T_882f8_row19_col8, #T_882f8_row19_col10, #T_882f8_row22_col6, #T_882f8_row28_col21 {\n",
       "  background-color: #8fb1fe;\n",
       "  color: #000000;\n",
       "}\n",
       "#T_882f8_row4_col6, #T_882f8_row9_col2, #T_882f8_row9_col25, #T_882f8_row9_col29, #T_882f8_row11_col7, #T_882f8_row20_col5, #T_882f8_row20_col8, #T_882f8_row23_col9, #T_882f8_row27_col6, #T_882f8_row29_col8 {\n",
       "  background-color: #98b9ff;\n",
       "  color: #000000;\n",
       "}\n",
       "#T_882f8_row4_col8, #T_882f8_row7_col3, #T_882f8_row10_col3, #T_882f8_row11_col6, #T_882f8_row11_col14, #T_882f8_row22_col1, #T_882f8_row23_col2, #T_882f8_row24_col7 {\n",
       "  background-color: #94b6ff;\n",
       "  color: #000000;\n",
       "}\n",
       "#T_882f8_row4_col10, #T_882f8_row6_col0, #T_882f8_row15_col7, #T_882f8_row17_col11, #T_882f8_row19_col23, #T_882f8_row28_col6, #T_882f8_row28_col17, #T_882f8_row30_col7 {\n",
       "  background-color: #8badfd;\n",
       "  color: #000000;\n",
       "}\n",
       "#T_882f8_row4_col12, #T_882f8_row6_col25, #T_882f8_row12_col13, #T_882f8_row13_col0, #T_882f8_row16_col3, #T_882f8_row18_col3, #T_882f8_row20_col21, #T_882f8_row24_col1, #T_882f8_row26_col7, #T_882f8_row26_col29 {\n",
       "  background-color: #9bbcff;\n",
       "  color: #000000;\n",
       "}\n",
       "#T_882f8_row4_col14, #T_882f8_row6_col21, #T_882f8_row8_col11, #T_882f8_row10_col22, #T_882f8_row14_col10, #T_882f8_row18_col5, #T_882f8_row18_col7, #T_882f8_row19_col9, #T_882f8_row19_col17, #T_882f8_row20_col27, #T_882f8_row21_col28, #T_882f8_row22_col9, #T_882f8_row23_col16, #T_882f8_row25_col5, #T_882f8_row25_col8, #T_882f8_row25_col21, #T_882f8_row27_col17, #T_882f8_row29_col1, #T_882f8_row30_col21 {\n",
       "  background-color: #85a8fc;\n",
       "  color: #f1f1f1;\n",
       "}\n",
       "#T_882f8_row4_col25, #T_882f8_row18_col2, #T_882f8_row24_col2, #T_882f8_row25_col3, #T_882f8_row28_col29 {\n",
       "  background-color: #adc9fd;\n",
       "  color: #000000;\n",
       "}\n",
       "#T_882f8_row4_col26, #T_882f8_row5_col19, #T_882f8_row6_col14, #T_882f8_row9_col13, #T_882f8_row14_col20, #T_882f8_row18_col20, #T_882f8_row21_col13, #T_882f8_row29_col26 {\n",
       "  background-color: #5470de;\n",
       "  color: #f1f1f1;\n",
       "}\n",
       "#T_882f8_row5_col0 {\n",
       "  background-color: #d6dce4;\n",
       "  color: #000000;\n",
       "}\n",
       "#T_882f8_row5_col2 {\n",
       "  background-color: #ebd3c6;\n",
       "  color: #000000;\n",
       "}\n",
       "#T_882f8_row5_col7 {\n",
       "  background-color: #f1cdba;\n",
       "  color: #000000;\n",
       "}\n",
       "#T_882f8_row5_col9, #T_882f8_row6_col18, #T_882f8_row7_col21, #T_882f8_row12_col22, #T_882f8_row13_col15, #T_882f8_row15_col0, #T_882f8_row16_col10, #T_882f8_row16_col15, #T_882f8_row18_col15, #T_882f8_row19_col22, #T_882f8_row20_col12, #T_882f8_row20_col26, #T_882f8_row23_col27, #T_882f8_row24_col11, #T_882f8_row25_col11, #T_882f8_row26_col11, #T_882f8_row26_col12, #T_882f8_row28_col16, #T_882f8_row29_col28 {\n",
       "  background-color: #7597f6;\n",
       "  color: #f1f1f1;\n",
       "}\n",
       "#T_882f8_row5_col15, #T_882f8_row7_col12, #T_882f8_row8_col26, #T_882f8_row9_col17, #T_882f8_row11_col26, #T_882f8_row14_col26, #T_882f8_row17_col26, #T_882f8_row22_col14, #T_882f8_row23_col4 {\n",
       "  background-color: #6485ec;\n",
       "  color: #f1f1f1;\n",
       "}\n",
       "#T_882f8_row5_col16, #T_882f8_row5_col22, #T_882f8_row12_col20, #T_882f8_row14_col15, #T_882f8_row14_col22, #T_882f8_row18_col10, #T_882f8_row19_col12, #T_882f8_row21_col11, #T_882f8_row21_col17, #T_882f8_row22_col11, #T_882f8_row22_col18, #T_882f8_row26_col17, #T_882f8_row30_col9 {\n",
       "  background-color: #7699f6;\n",
       "  color: #f1f1f1;\n",
       "}\n",
       "#T_882f8_row5_col30, #T_882f8_row10_col12, #T_882f8_row16_col14, #T_882f8_row28_col19 {\n",
       "  background-color: #445acc;\n",
       "  color: #f1f1f1;\n",
       "}\n",
       "#T_882f8_row6_col3 {\n",
       "  background-color: #ccd9ed;\n",
       "  color: #000000;\n",
       "}\n",
       "#T_882f8_row6_col8 {\n",
       "  background-color: #f2cbb7;\n",
       "  color: #000000;\n",
       "}\n",
       "#T_882f8_row6_col29 {\n",
       "  background-color: #d5dbe5;\n",
       "  color: #000000;\n",
       "}\n",
       "#T_882f8_row6_col30, #T_882f8_row12_col17 {\n",
       "  background-color: #4257c9;\n",
       "  color: #f1f1f1;\n",
       "}\n",
       "#T_882f8_row7_col2 {\n",
       "  background-color: #f4c6af;\n",
       "  color: #000000;\n",
       "}\n",
       "#T_882f8_row7_col5, #T_882f8_row8_col6 {\n",
       "  background-color: #edd2c3;\n",
       "  color: #000000;\n",
       "}\n",
       "#T_882f8_row7_col10, #T_882f8_row10_col28, #T_882f8_row18_col17, #T_882f8_row22_col30, #T_882f8_row25_col30, #T_882f8_row26_col30, #T_882f8_row27_col14, #T_882f8_row29_col19 {\n",
       "  background-color: #4e68d8;\n",
       "  color: #f1f1f1;\n",
       "}\n",
       "#T_882f8_row7_col25, #T_882f8_row13_col7, #T_882f8_row14_col5, #T_882f8_row14_col21, #T_882f8_row15_col8, #T_882f8_row18_col6, #T_882f8_row20_col6, #T_882f8_row21_col2, #T_882f8_row21_col16, #T_882f8_row21_col20, #T_882f8_row29_col10 {\n",
       "  background-color: #93b5fe;\n",
       "  color: #000000;\n",
       "}\n",
       "#T_882f8_row7_col29, #T_882f8_row15_col1, #T_882f8_row19_col1, #T_882f8_row29_col25, #T_882f8_row30_col0 {\n",
       "  background-color: #a3c2fe;\n",
       "  color: #000000;\n",
       "}\n",
       "#T_882f8_row7_col30, #T_882f8_row9_col30, #T_882f8_row16_col30, #T_882f8_row23_col20 {\n",
       "  background-color: #3e51c5;\n",
       "  color: #f1f1f1;\n",
       "}\n",
       "#T_882f8_row8_col2, #T_882f8_row8_col29, #T_882f8_row19_col0, #T_882f8_row29_col20 {\n",
       "  background-color: #abc8fd;\n",
       "  color: #000000;\n",
       "}\n",
       "#T_882f8_row8_col3 {\n",
       "  background-color: #cad8ef;\n",
       "  color: #000000;\n",
       "}\n",
       "#T_882f8_row8_col22, #T_882f8_row9_col7, #T_882f8_row11_col20, #T_882f8_row15_col5, #T_882f8_row16_col6, #T_882f8_row18_col16, #T_882f8_row21_col5, #T_882f8_row23_col11, #T_882f8_row24_col20, #T_882f8_row24_col28, #T_882f8_row25_col9, #T_882f8_row25_col20, #T_882f8_row26_col6, #T_882f8_row27_col10 {\n",
       "  background-color: #7ea1fa;\n",
       "  color: #f1f1f1;\n",
       "}\n",
       "#T_882f8_row8_col23, #T_882f8_row9_col23, #T_882f8_row25_col29 {\n",
       "  background-color: #afcafc;\n",
       "  color: #000000;\n",
       "}\n",
       "#T_882f8_row8_col27, #T_882f8_row11_col1, #T_882f8_row12_col25, #T_882f8_row17_col25, #T_882f8_row19_col25, #T_882f8_row30_col25 {\n",
       "  background-color: #9fbfff;\n",
       "  color: #000000;\n",
       "}\n",
       "#T_882f8_row9_col1, #T_882f8_row21_col0, #T_882f8_row22_col29 {\n",
       "  background-color: #bcd2f7;\n",
       "  color: #000000;\n",
       "}\n",
       "#T_882f8_row10_col1 {\n",
       "  background-color: #d1dae9;\n",
       "  color: #000000;\n",
       "}\n",
       "#T_882f8_row10_col18, #T_882f8_row12_col19, #T_882f8_row14_col19, #T_882f8_row16_col24, #T_882f8_row30_col19 {\n",
       "  background-color: #5673e0;\n",
       "  color: #f1f1f1;\n",
       "}\n",
       "#T_882f8_row10_col23, #T_882f8_row13_col2, #T_882f8_row29_col21 {\n",
       "  background-color: #b1cbfc;\n",
       "  color: #000000;\n",
       "}\n",
       "#T_882f8_row10_col29, #T_882f8_row12_col2, #T_882f8_row17_col29, #T_882f8_row30_col2 {\n",
       "  background-color: #b6cefa;\n",
       "  color: #000000;\n",
       "}\n",
       "#T_882f8_row11_col2, #T_882f8_row13_col1, #T_882f8_row13_col3, #T_882f8_row13_col12, #T_882f8_row17_col23, #T_882f8_row18_col8, #T_882f8_row19_col29, #T_882f8_row21_col25, #T_882f8_row22_col3, #T_882f8_row24_col29, #T_882f8_row25_col1 {\n",
       "  background-color: #a7c5fe;\n",
       "  color: #000000;\n",
       "}\n",
       "#T_882f8_row11_col25, #T_882f8_row12_col1, #T_882f8_row18_col25, #T_882f8_row21_col3, #T_882f8_row22_col2, #T_882f8_row22_col8, #T_882f8_row23_col29, #T_882f8_row26_col1, #T_882f8_row29_col0, #T_882f8_row30_col8, #T_882f8_row30_col23 {\n",
       "  background-color: #9dbdff;\n",
       "  color: #000000;\n",
       "}\n",
       "#T_882f8_row12_col11, #T_882f8_row16_col8, #T_882f8_row28_col8 {\n",
       "  background-color: #aec9fc;\n",
       "  color: #000000;\n",
       "}\n",
       "#T_882f8_row14_col2 {\n",
       "  background-color: #bed2f6;\n",
       "  color: #000000;\n",
       "}\n",
       "#T_882f8_row14_col8, #T_882f8_row14_col23, #T_882f8_row19_col3, #T_882f8_row24_col0, #T_882f8_row26_col3 {\n",
       "  background-color: #a2c1ff;\n",
       "  color: #000000;\n",
       "}\n",
       "#T_882f8_row14_col13, #T_882f8_row20_col18 {\n",
       "  background-color: #485fd1;\n",
       "  color: #f1f1f1;\n",
       "}\n",
       "#T_882f8_row16_col2 {\n",
       "  background-color: #bad0f8;\n",
       "  color: #000000;\n",
       "}\n",
       "#T_882f8_row17_col30 {\n",
       "  background-color: #3f53c6;\n",
       "  color: #f1f1f1;\n",
       "}\n",
       "#T_882f8_row20_col3, #T_882f8_row20_col7, #T_882f8_row23_col1 {\n",
       "  background-color: #bfd3f6;\n",
       "  color: #000000;\n",
       "}\n",
       "#T_882f8_row20_col29 {\n",
       "  background-color: #d4dbe6;\n",
       "  color: #000000;\n",
       "}\n",
       "#T_882f8_row21_col22, #T_882f8_row22_col21 {\n",
       "  background-color: #f59d7e;\n",
       "  color: #000000;\n",
       "}\n",
       "#T_882f8_row21_col29 {\n",
       "  background-color: #d3dbe7;\n",
       "  color: #000000;\n",
       "}\n",
       "#T_882f8_row23_col0 {\n",
       "  background-color: #c7d7f0;\n",
       "  color: #000000;\n",
       "}\n",
       "#T_882f8_row27_col2 {\n",
       "  background-color: #c6d6f1;\n",
       "  color: #000000;\n",
       "}\n",
       "#T_882f8_row27_col3, #T_882f8_row27_col8 {\n",
       "  background-color: #c5d6f2;\n",
       "  color: #000000;\n",
       "}\n",
       "#T_882f8_row27_col28 {\n",
       "  background-color: #ead5c9;\n",
       "  color: #000000;\n",
       "}\n",
       "#T_882f8_row28_col3 {\n",
       "  background-color: #cdd9ec;\n",
       "  color: #000000;\n",
       "}\n",
       "#T_882f8_row28_col27 {\n",
       "  background-color: #e5d8d1;\n",
       "  color: #000000;\n",
       "}\n",
       "</style>\n",
       "<table id=\"T_882f8\">\n",
       "  <thead>\n",
       "    <tr>\n",
       "      <th class=\"blank level0\" >&nbsp;</th>\n",
       "      <th id=\"T_882f8_level0_col0\" class=\"col_heading level0 col0\" >Time</th>\n",
       "      <th id=\"T_882f8_level0_col1\" class=\"col_heading level0 col1\" >V1</th>\n",
       "      <th id=\"T_882f8_level0_col2\" class=\"col_heading level0 col2\" >V2</th>\n",
       "      <th id=\"T_882f8_level0_col3\" class=\"col_heading level0 col3\" >V3</th>\n",
       "      <th id=\"T_882f8_level0_col4\" class=\"col_heading level0 col4\" >V4</th>\n",
       "      <th id=\"T_882f8_level0_col5\" class=\"col_heading level0 col5\" >V5</th>\n",
       "      <th id=\"T_882f8_level0_col6\" class=\"col_heading level0 col6\" >V6</th>\n",
       "      <th id=\"T_882f8_level0_col7\" class=\"col_heading level0 col7\" >V7</th>\n",
       "      <th id=\"T_882f8_level0_col8\" class=\"col_heading level0 col8\" >V8</th>\n",
       "      <th id=\"T_882f8_level0_col9\" class=\"col_heading level0 col9\" >V9</th>\n",
       "      <th id=\"T_882f8_level0_col10\" class=\"col_heading level0 col10\" >V10</th>\n",
       "      <th id=\"T_882f8_level0_col11\" class=\"col_heading level0 col11\" >V11</th>\n",
       "      <th id=\"T_882f8_level0_col12\" class=\"col_heading level0 col12\" >V12</th>\n",
       "      <th id=\"T_882f8_level0_col13\" class=\"col_heading level0 col13\" >V13</th>\n",
       "      <th id=\"T_882f8_level0_col14\" class=\"col_heading level0 col14\" >V14</th>\n",
       "      <th id=\"T_882f8_level0_col15\" class=\"col_heading level0 col15\" >V15</th>\n",
       "      <th id=\"T_882f8_level0_col16\" class=\"col_heading level0 col16\" >V16</th>\n",
       "      <th id=\"T_882f8_level0_col17\" class=\"col_heading level0 col17\" >V17</th>\n",
       "      <th id=\"T_882f8_level0_col18\" class=\"col_heading level0 col18\" >V18</th>\n",
       "      <th id=\"T_882f8_level0_col19\" class=\"col_heading level0 col19\" >V19</th>\n",
       "      <th id=\"T_882f8_level0_col20\" class=\"col_heading level0 col20\" >V20</th>\n",
       "      <th id=\"T_882f8_level0_col21\" class=\"col_heading level0 col21\" >V21</th>\n",
       "      <th id=\"T_882f8_level0_col22\" class=\"col_heading level0 col22\" >V22</th>\n",
       "      <th id=\"T_882f8_level0_col23\" class=\"col_heading level0 col23\" >V23</th>\n",
       "      <th id=\"T_882f8_level0_col24\" class=\"col_heading level0 col24\" >V24</th>\n",
       "      <th id=\"T_882f8_level0_col25\" class=\"col_heading level0 col25\" >V25</th>\n",
       "      <th id=\"T_882f8_level0_col26\" class=\"col_heading level0 col26\" >V26</th>\n",
       "      <th id=\"T_882f8_level0_col27\" class=\"col_heading level0 col27\" >V27</th>\n",
       "      <th id=\"T_882f8_level0_col28\" class=\"col_heading level0 col28\" >V28</th>\n",
       "      <th id=\"T_882f8_level0_col29\" class=\"col_heading level0 col29\" >Amount</th>\n",
       "      <th id=\"T_882f8_level0_col30\" class=\"col_heading level0 col30\" >Class</th>\n",
       "    </tr>\n",
       "  </thead>\n",
       "  <tbody>\n",
       "    <tr>\n",
       "      <th id=\"T_882f8_level0_row0\" class=\"row_heading level0 row0\" >Time</th>\n",
       "      <td id=\"T_882f8_row0_col0\" class=\"data row0 col0\" >1.000000</td>\n",
       "      <td id=\"T_882f8_row0_col1\" class=\"data row0 col1\" >0.190647</td>\n",
       "      <td id=\"T_882f8_row0_col2\" class=\"data row0 col2\" >-0.006419</td>\n",
       "      <td id=\"T_882f8_row0_col3\" class=\"data row0 col3\" >-0.473348</td>\n",
       "      <td id=\"T_882f8_row0_col4\" class=\"data row0 col4\" >-0.142156</td>\n",
       "      <td id=\"T_882f8_row0_col5\" class=\"data row0 col5\" >0.226004</td>\n",
       "      <td id=\"T_882f8_row0_col6\" class=\"data row0 col6\" >-0.111408</td>\n",
       "      <td id=\"T_882f8_row0_col7\" class=\"data row0 col7\" >0.116722</td>\n",
       "      <td id=\"T_882f8_row0_col8\" class=\"data row0 col8\" >-0.103882</td>\n",
       "      <td id=\"T_882f8_row0_col9\" class=\"data row0 col9\" >0.017986</td>\n",
       "      <td id=\"T_882f8_row0_col10\" class=\"data row0 col10\" >0.014692</td>\n",
       "      <td id=\"T_882f8_row0_col11\" class=\"data row0 col11\" >-0.227116</td>\n",
       "      <td id=\"T_882f8_row0_col12\" class=\"data row0 col12\" >0.073665</td>\n",
       "      <td id=\"T_882f8_row0_col13\" class=\"data row0 col13\" >-0.045340</td>\n",
       "      <td id=\"T_882f8_row0_col14\" class=\"data row0 col14\" >-0.092388</td>\n",
       "      <td id=\"T_882f8_row0_col15\" class=\"data row0 col15\" >-0.205421</td>\n",
       "      <td id=\"T_882f8_row0_col16\" class=\"data row0 col16\" >0.002415</td>\n",
       "      <td id=\"T_882f8_row0_col17\" class=\"data row0 col17\" >-0.102351</td>\n",
       "      <td id=\"T_882f8_row0_col18\" class=\"data row0 col18\" >0.090840</td>\n",
       "      <td id=\"T_882f8_row0_col19\" class=\"data row0 col19\" >0.025136</td>\n",
       "      <td id=\"T_882f8_row0_col20\" class=\"data row0 col20\" >-0.120319</td>\n",
       "      <td id=\"T_882f8_row0_col21\" class=\"data row0 col21\" >0.096564</td>\n",
       "      <td id=\"T_882f8_row0_col22\" class=\"data row0 col22\" >0.132651</td>\n",
       "      <td id=\"T_882f8_row0_col23\" class=\"data row0 col23\" >0.148505</td>\n",
       "      <td id=\"T_882f8_row0_col24\" class=\"data row0 col24\" >-0.015980</td>\n",
       "      <td id=\"T_882f8_row0_col25\" class=\"data row0 col25\" >-0.259220</td>\n",
       "      <td id=\"T_882f8_row0_col26\" class=\"data row0 col26\" >0.000132</td>\n",
       "      <td id=\"T_882f8_row0_col27\" class=\"data row0 col27\" >-0.035063</td>\n",
       "      <td id=\"T_882f8_row0_col28\" class=\"data row0 col28\" >-0.143200</td>\n",
       "      <td id=\"T_882f8_row0_col29\" class=\"data row0 col29\" >-0.040007</td>\n",
       "      <td id=\"T_882f8_row0_col30\" class=\"data row0 col30\" >-0.011692</td>\n",
       "    </tr>\n",
       "    <tr>\n",
       "      <th id=\"T_882f8_level0_row1\" class=\"row_heading level0 row1\" >V1</th>\n",
       "      <td id=\"T_882f8_row1_col0\" class=\"data row1 col0\" >0.190647</td>\n",
       "      <td id=\"T_882f8_row1_col1\" class=\"data row1 col1\" >1.000000</td>\n",
       "      <td id=\"T_882f8_row1_col2\" class=\"data row1 col2\" >-0.384328</td>\n",
       "      <td id=\"T_882f8_row1_col3\" class=\"data row1 col3\" >-0.412095</td>\n",
       "      <td id=\"T_882f8_row1_col4\" class=\"data row1 col4\" >0.101011</td>\n",
       "      <td id=\"T_882f8_row1_col5\" class=\"data row1 col5\" >-0.106632</td>\n",
       "      <td id=\"T_882f8_row1_col6\" class=\"data row1 col6\" >-0.086561</td>\n",
       "      <td id=\"T_882f8_row1_col7\" class=\"data row1 col7\" >-0.227650</td>\n",
       "      <td id=\"T_882f8_row1_col8\" class=\"data row1 col8\" >-0.236140</td>\n",
       "      <td id=\"T_882f8_row1_col9\" class=\"data row1 col9\" >0.138614</td>\n",
       "      <td id=\"T_882f8_row1_col10\" class=\"data row1 col10\" >0.231636</td>\n",
       "      <td id=\"T_882f8_row1_col11\" class=\"data row1 col11\" >0.013750</td>\n",
       "      <td id=\"T_882f8_row1_col12\" class=\"data row1 col12\" >0.003095</td>\n",
       "      <td id=\"T_882f8_row1_col13\" class=\"data row1 col13\" >0.047839</td>\n",
       "      <td id=\"T_882f8_row1_col14\" class=\"data row1 col14\" >-0.024329</td>\n",
       "      <td id=\"T_882f8_row1_col15\" class=\"data row1 col15\" >0.030048</td>\n",
       "      <td id=\"T_882f8_row1_col16\" class=\"data row1 col16\" >0.037791</td>\n",
       "      <td id=\"T_882f8_row1_col17\" class=\"data row1 col17\" >-0.057902</td>\n",
       "      <td id=\"T_882f8_row1_col18\" class=\"data row1 col18\" >-0.043565</td>\n",
       "      <td id=\"T_882f8_row1_col19\" class=\"data row1 col19\" >0.031168</td>\n",
       "      <td id=\"T_882f8_row1_col20\" class=\"data row1 col20\" >-0.209614</td>\n",
       "      <td id=\"T_882f8_row1_col21\" class=\"data row1 col21\" >-0.061958</td>\n",
       "      <td id=\"T_882f8_row1_col22\" class=\"data row1 col22\" >-0.028827</td>\n",
       "      <td id=\"T_882f8_row1_col23\" class=\"data row1 col23\" >0.145440</td>\n",
       "      <td id=\"T_882f8_row1_col24\" class=\"data row1 col24\" >-0.000315</td>\n",
       "      <td id=\"T_882f8_row1_col25\" class=\"data row1 col25\" >0.049291</td>\n",
       "      <td id=\"T_882f8_row1_col26\" class=\"data row1 col26\" >0.006380</td>\n",
       "      <td id=\"T_882f8_row1_col27\" class=\"data row1 col27\" >-0.104815</td>\n",
       "      <td id=\"T_882f8_row1_col28\" class=\"data row1 col28\" >-0.207967</td>\n",
       "      <td id=\"T_882f8_row1_col29\" class=\"data row1 col29\" >-0.086663</td>\n",
       "      <td id=\"T_882f8_row1_col30\" class=\"data row1 col30\" >-0.042424</td>\n",
       "    </tr>\n",
       "    <tr>\n",
       "      <th id=\"T_882f8_level0_row2\" class=\"row_heading level0 row2\" >V2</th>\n",
       "      <td id=\"T_882f8_row2_col0\" class=\"data row2 col0\" >-0.006419</td>\n",
       "      <td id=\"T_882f8_row2_col1\" class=\"data row2 col1\" >-0.384328</td>\n",
       "      <td id=\"T_882f8_row2_col2\" class=\"data row2 col2\" >1.000000</td>\n",
       "      <td id=\"T_882f8_row2_col3\" class=\"data row2 col3\" >0.073967</td>\n",
       "      <td id=\"T_882f8_row2_col4\" class=\"data row2 col4\" >0.155042</td>\n",
       "      <td id=\"T_882f8_row2_col5\" class=\"data row2 col5\" >0.342701</td>\n",
       "      <td id=\"T_882f8_row2_col6\" class=\"data row2 col6\" >-0.110393</td>\n",
       "      <td id=\"T_882f8_row2_col7\" class=\"data row2 col7\" >0.426320</td>\n",
       "      <td id=\"T_882f8_row2_col8\" class=\"data row2 col8\" >0.006980</td>\n",
       "      <td id=\"T_882f8_row2_col9\" class=\"data row2 col9\" >-0.077880</td>\n",
       "      <td id=\"T_882f8_row2_col10\" class=\"data row2 col10\" >-0.212437</td>\n",
       "      <td id=\"T_882f8_row2_col11\" class=\"data row2 col11\" >-0.013464</td>\n",
       "      <td id=\"T_882f8_row2_col12\" class=\"data row2 col12\" >0.052846</td>\n",
       "      <td id=\"T_882f8_row2_col13\" class=\"data row2 col13\" >0.028702</td>\n",
       "      <td id=\"T_882f8_row2_col14\" class=\"data row2 col14\" >0.088108</td>\n",
       "      <td id=\"T_882f8_row2_col15\" class=\"data row2 col15\" >0.038186</td>\n",
       "      <td id=\"T_882f8_row2_col16\" class=\"data row2 col16\" >0.068053</td>\n",
       "      <td id=\"T_882f8_row2_col17\" class=\"data row2 col17\" >-0.002416</td>\n",
       "      <td id=\"T_882f8_row2_col18\" class=\"data row2 col18\" >0.011481</td>\n",
       "      <td id=\"T_882f8_row2_col19\" class=\"data row2 col19\" >0.002082</td>\n",
       "      <td id=\"T_882f8_row2_col20\" class=\"data row2 col20\" >0.040716</td>\n",
       "      <td id=\"T_882f8_row2_col21\" class=\"data row2 col21\" >-0.098255</td>\n",
       "      <td id=\"T_882f8_row2_col22\" class=\"data row2 col22\" >-0.056478</td>\n",
       "      <td id=\"T_882f8_row2_col23\" class=\"data row2 col23\" >-0.094982</td>\n",
       "      <td id=\"T_882f8_row2_col24\" class=\"data row2 col24\" >0.012617</td>\n",
       "      <td id=\"T_882f8_row2_col25\" class=\"data row2 col25\" >-0.085682</td>\n",
       "      <td id=\"T_882f8_row2_col26\" class=\"data row2 col26\" >0.033865</td>\n",
       "      <td id=\"T_882f8_row2_col27\" class=\"data row2 col27\" >0.129234</td>\n",
       "      <td id=\"T_882f8_row2_col28\" class=\"data row2 col28\" >0.137976</td>\n",
       "      <td id=\"T_882f8_row2_col29\" class=\"data row2 col29\" >-0.502052</td>\n",
       "      <td id=\"T_882f8_row2_col30\" class=\"data row2 col30\" >0.051062</td>\n",
       "    </tr>\n",
       "    <tr>\n",
       "      <th id=\"T_882f8_level0_row3\" class=\"row_heading level0 row3\" >V3</th>\n",
       "      <td id=\"T_882f8_row3_col0\" class=\"data row3 col0\" >-0.473348</td>\n",
       "      <td id=\"T_882f8_row3_col1\" class=\"data row3 col1\" >-0.412095</td>\n",
       "      <td id=\"T_882f8_row3_col2\" class=\"data row3 col2\" >0.073967</td>\n",
       "      <td id=\"T_882f8_row3_col3\" class=\"data row3 col3\" >1.000000</td>\n",
       "      <td id=\"T_882f8_row3_col4\" class=\"data row3 col4\" >0.060812</td>\n",
       "      <td id=\"T_882f8_row3_col5\" class=\"data row3 col5\" >-0.223849</td>\n",
       "      <td id=\"T_882f8_row3_col6\" class=\"data row3 col6\" >0.171263</td>\n",
       "      <td id=\"T_882f8_row3_col7\" class=\"data row3 col7\" >-0.074582</td>\n",
       "      <td id=\"T_882f8_row3_col8\" class=\"data row3 col8\" >0.164374</td>\n",
       "      <td id=\"T_882f8_row3_col9\" class=\"data row3 col9\" >-0.030876</td>\n",
       "      <td id=\"T_882f8_row3_col10\" class=\"data row3 col10\" >-0.070960</td>\n",
       "      <td id=\"T_882f8_row3_col11\" class=\"data row3 col11\" >0.056105</td>\n",
       "      <td id=\"T_882f8_row3_col12\" class=\"data row3 col12\" >-0.051875</td>\n",
       "      <td id=\"T_882f8_row3_col13\" class=\"data row3 col13\" >0.006839</td>\n",
       "      <td id=\"T_882f8_row3_col14\" class=\"data row3 col14\" >-0.130565</td>\n",
       "      <td id=\"T_882f8_row3_col15\" class=\"data row3 col15\" >0.051314</td>\n",
       "      <td id=\"T_882f8_row3_col16\" class=\"data row3 col16\" >-0.046590</td>\n",
       "      <td id=\"T_882f8_row3_col17\" class=\"data row3 col17\" >-0.035420</td>\n",
       "      <td id=\"T_882f8_row3_col18\" class=\"data row3 col18\" >-0.045167</td>\n",
       "      <td id=\"T_882f8_row3_col19\" class=\"data row3 col19\" >-0.015326</td>\n",
       "      <td id=\"T_882f8_row3_col20\" class=\"data row3 col20\" >0.108271</td>\n",
       "      <td id=\"T_882f8_row3_col21\" class=\"data row3 col21\" >-0.040234</td>\n",
       "      <td id=\"T_882f8_row3_col22\" class=\"data row3 col22\" >0.004404</td>\n",
       "      <td id=\"T_882f8_row3_col23\" class=\"data row3 col23\" >-0.140076</td>\n",
       "      <td id=\"T_882f8_row3_col24\" class=\"data row3 col24\" >-0.000559</td>\n",
       "      <td id=\"T_882f8_row3_col25\" class=\"data row3 col25\" >0.031854</td>\n",
       "      <td id=\"T_882f8_row3_col26\" class=\"data row3 col26\" >-0.016689</td>\n",
       "      <td id=\"T_882f8_row3_col27\" class=\"data row3 col27\" >0.140724</td>\n",
       "      <td id=\"T_882f8_row3_col28\" class=\"data row3 col28\" >0.180169</td>\n",
       "      <td id=\"T_882f8_row3_col29\" class=\"data row3 col29\" >-0.000236</td>\n",
       "      <td id=\"T_882f8_row3_col30\" class=\"data row3 col30\" >-0.059278</td>\n",
       "    </tr>\n",
       "    <tr>\n",
       "      <th id=\"T_882f8_level0_row4\" class=\"row_heading level0 row4\" >V4</th>\n",
       "      <td id=\"T_882f8_row4_col0\" class=\"data row4 col0\" >-0.142156</td>\n",
       "      <td id=\"T_882f8_row4_col1\" class=\"data row4 col1\" >0.101011</td>\n",
       "      <td id=\"T_882f8_row4_col2\" class=\"data row4 col2\" >0.155042</td>\n",
       "      <td id=\"T_882f8_row4_col3\" class=\"data row4 col3\" >0.060812</td>\n",
       "      <td id=\"T_882f8_row4_col4\" class=\"data row4 col4\" >1.000000</td>\n",
       "      <td id=\"T_882f8_row4_col5\" class=\"data row4 col5\" >0.021367</td>\n",
       "      <td id=\"T_882f8_row4_col6\" class=\"data row4 col6\" >0.075185</td>\n",
       "      <td id=\"T_882f8_row4_col7\" class=\"data row4 col7\" >0.059920</td>\n",
       "      <td id=\"T_882f8_row4_col8\" class=\"data row4 col8\" >-0.009608</td>\n",
       "      <td id=\"T_882f8_row4_col9\" class=\"data row4 col9\" >0.105248</td>\n",
       "      <td id=\"T_882f8_row4_col10\" class=\"data row4 col10\" >0.025553</td>\n",
       "      <td id=\"T_882f8_row4_col11\" class=\"data row4 col11\" >-0.013122</td>\n",
       "      <td id=\"T_882f8_row4_col12\" class=\"data row4 col12\" >0.147738</td>\n",
       "      <td id=\"T_882f8_row4_col13\" class=\"data row4 col13\" >-0.024538</td>\n",
       "      <td id=\"T_882f8_row4_col14\" class=\"data row4 col14\" >0.099464</td>\n",
       "      <td id=\"T_882f8_row4_col15\" class=\"data row4 col15\" >0.053405</td>\n",
       "      <td id=\"T_882f8_row4_col16\" class=\"data row4 col16\" >-0.041414</td>\n",
       "      <td id=\"T_882f8_row4_col17\" class=\"data row4 col17\" >0.049298</td>\n",
       "      <td id=\"T_882f8_row4_col18\" class=\"data row4 col18\" >0.021175</td>\n",
       "      <td id=\"T_882f8_row4_col19\" class=\"data row4 col19\" >-0.017866</td>\n",
       "      <td id=\"T_882f8_row4_col20\" class=\"data row4 col20\" >-0.009598</td>\n",
       "      <td id=\"T_882f8_row4_col21\" class=\"data row4 col21\" >0.038960</td>\n",
       "      <td id=\"T_882f8_row4_col22\" class=\"data row4 col22\" >-0.004931</td>\n",
       "      <td id=\"T_882f8_row4_col23\" class=\"data row4 col23\" >0.009615</td>\n",
       "      <td id=\"T_882f8_row4_col24\" class=\"data row4 col24\" >-0.008782</td>\n",
       "      <td id=\"T_882f8_row4_col25\" class=\"data row4 col25\" >0.060647</td>\n",
       "      <td id=\"T_882f8_row4_col26\" class=\"data row4 col26\" >-0.064357</td>\n",
       "      <td id=\"T_882f8_row4_col27\" class=\"data row4 col27\" >-0.033634</td>\n",
       "      <td id=\"T_882f8_row4_col28\" class=\"data row4 col28\" >0.004757</td>\n",
       "      <td id=\"T_882f8_row4_col29\" class=\"data row4 col29\" >-0.022117</td>\n",
       "      <td id=\"T_882f8_row4_col30\" class=\"data row4 col30\" >0.063045</td>\n",
       "    </tr>\n",
       "    <tr>\n",
       "      <th id=\"T_882f8_level0_row5\" class=\"row_heading level0 row5\" >V5</th>\n",
       "      <td id=\"T_882f8_row5_col0\" class=\"data row5 col0\" >0.226004</td>\n",
       "      <td id=\"T_882f8_row5_col1\" class=\"data row5 col1\" >-0.106632</td>\n",
       "      <td id=\"T_882f8_row5_col2\" class=\"data row5 col2\" >0.342701</td>\n",
       "      <td id=\"T_882f8_row5_col3\" class=\"data row5 col3\" >-0.223849</td>\n",
       "      <td id=\"T_882f8_row5_col4\" class=\"data row5 col4\" >0.021367</td>\n",
       "      <td id=\"T_882f8_row5_col5\" class=\"data row5 col5\" >1.000000</td>\n",
       "      <td id=\"T_882f8_row5_col6\" class=\"data row5 col6\" >-0.007577</td>\n",
       "      <td id=\"T_882f8_row5_col7\" class=\"data row5 col7\" >0.431573</td>\n",
       "      <td id=\"T_882f8_row5_col8\" class=\"data row5 col8\" >-0.057022</td>\n",
       "      <td id=\"T_882f8_row5_col9\" class=\"data row5 col9\" >-0.056580</td>\n",
       "      <td id=\"T_882f8_row5_col10\" class=\"data row5 col10\" >-0.154910</td>\n",
       "      <td id=\"T_882f8_row5_col11\" class=\"data row5 col11\" >0.010749</td>\n",
       "      <td id=\"T_882f8_row5_col12\" class=\"data row5 col12\" >-0.048560</td>\n",
       "      <td id=\"T_882f8_row5_col13\" class=\"data row5 col13\" >0.019549</td>\n",
       "      <td id=\"T_882f8_row5_col14\" class=\"data row5 col14\" >0.035107</td>\n",
       "      <td id=\"T_882f8_row5_col15\" class=\"data row5 col15\" >-0.041029</td>\n",
       "      <td id=\"T_882f8_row5_col16\" class=\"data row5 col16\" >-0.007564</td>\n",
       "      <td id=\"T_882f8_row5_col17\" class=\"data row5 col17\" >-0.145735</td>\n",
       "      <td id=\"T_882f8_row5_col18\" class=\"data row5 col18\" >-0.016252</td>\n",
       "      <td id=\"T_882f8_row5_col19\" class=\"data row5 col19\" >0.012257</td>\n",
       "      <td id=\"T_882f8_row5_col20\" class=\"data row5 col20\" >0.056719</td>\n",
       "      <td id=\"T_882f8_row5_col21\" class=\"data row5 col21\" >-0.040364</td>\n",
       "      <td id=\"T_882f8_row5_col22\" class=\"data row5 col22\" >-0.010920</td>\n",
       "      <td id=\"T_882f8_row5_col23\" class=\"data row5 col23\" >-0.108300</td>\n",
       "      <td id=\"T_882f8_row5_col24\" class=\"data row5 col24\" >-0.023076</td>\n",
       "      <td id=\"T_882f8_row5_col25\" class=\"data row5 col25\" >-0.015618</td>\n",
       "      <td id=\"T_882f8_row5_col26\" class=\"data row5 col26\" >0.029513</td>\n",
       "      <td id=\"T_882f8_row5_col27\" class=\"data row5 col27\" >0.012883</td>\n",
       "      <td id=\"T_882f8_row5_col28\" class=\"data row5 col28\" >-0.027806</td>\n",
       "      <td id=\"T_882f8_row5_col29\" class=\"data row5 col29\" >-0.314061</td>\n",
       "      <td id=\"T_882f8_row5_col30\" class=\"data row5 col30\" >-0.030147</td>\n",
       "    </tr>\n",
       "    <tr>\n",
       "      <th id=\"T_882f8_level0_row6\" class=\"row_heading level0 row6\" >V6</th>\n",
       "      <td id=\"T_882f8_row6_col0\" class=\"data row6 col0\" >-0.111408</td>\n",
       "      <td id=\"T_882f8_row6_col1\" class=\"data row6 col1\" >-0.086561</td>\n",
       "      <td id=\"T_882f8_row6_col2\" class=\"data row6 col2\" >-0.110393</td>\n",
       "      <td id=\"T_882f8_row6_col3\" class=\"data row6 col3\" >0.171263</td>\n",
       "      <td id=\"T_882f8_row6_col4\" class=\"data row6 col4\" >0.075185</td>\n",
       "      <td id=\"T_882f8_row6_col5\" class=\"data row6 col5\" >-0.007577</td>\n",
       "      <td id=\"T_882f8_row6_col6\" class=\"data row6 col6\" >1.000000</td>\n",
       "      <td id=\"T_882f8_row6_col7\" class=\"data row6 col7\" >-0.292680</td>\n",
       "      <td id=\"T_882f8_row6_col8\" class=\"data row6 col8\" >0.444053</td>\n",
       "      <td id=\"T_882f8_row6_col9\" class=\"data row6 col9\" >0.028864</td>\n",
       "      <td id=\"T_882f8_row6_col10\" class=\"data row6 col10\" >0.063326</td>\n",
       "      <td id=\"T_882f8_row6_col11\" class=\"data row6 col11\" >0.059672</td>\n",
       "      <td id=\"T_882f8_row6_col12\" class=\"data row6 col12\" >0.037176</td>\n",
       "      <td id=\"T_882f8_row6_col13\" class=\"data row6 col13\" >-0.004068</td>\n",
       "      <td id=\"T_882f8_row6_col14\" class=\"data row6 col14\" >-0.068788</td>\n",
       "      <td id=\"T_882f8_row6_col15\" class=\"data row6 col15\" >-0.046259</td>\n",
       "      <td id=\"T_882f8_row6_col16\" class=\"data row6 col16\" >-0.020208</td>\n",
       "      <td id=\"T_882f8_row6_col17\" class=\"data row6 col17\" >-0.027470</td>\n",
       "      <td id=\"T_882f8_row6_col18\" class=\"data row6 col18\" >0.052293</td>\n",
       "      <td id=\"T_882f8_row6_col19\" class=\"data row6 col19\" >0.031965</td>\n",
       "      <td id=\"T_882f8_row6_col20\" class=\"data row6 col20\" >0.052824</td>\n",
       "      <td id=\"T_882f8_row6_col21\" class=\"data row6 col21\" >0.034595</td>\n",
       "      <td id=\"T_882f8_row6_col22\" class=\"data row6 col22\" >0.040370</td>\n",
       "      <td id=\"T_882f8_row6_col23\" class=\"data row6 col23\" >-0.050293</td>\n",
       "      <td id=\"T_882f8_row6_col24\" class=\"data row6 col24\" >-0.135166</td>\n",
       "      <td id=\"T_882f8_row6_col25\" class=\"data row6 col25\" >-0.011131</td>\n",
       "      <td id=\"T_882f8_row6_col26\" class=\"data row6 col26\" >-0.023932</td>\n",
       "      <td id=\"T_882f8_row6_col27\" class=\"data row6 col27\" >0.073772</td>\n",
       "      <td id=\"T_882f8_row6_col28\" class=\"data row6 col28\" >0.020459</td>\n",
       "      <td id=\"T_882f8_row6_col29\" class=\"data row6 col29\" >0.205452</td>\n",
       "      <td id=\"T_882f8_row6_col30\" class=\"data row6 col30\" >-0.038410</td>\n",
       "    </tr>\n",
       "    <tr>\n",
       "      <th id=\"T_882f8_level0_row7\" class=\"row_heading level0 row7\" >V7</th>\n",
       "      <td id=\"T_882f8_row7_col0\" class=\"data row7 col0\" >0.116722</td>\n",
       "      <td id=\"T_882f8_row7_col1\" class=\"data row7 col1\" >-0.227650</td>\n",
       "      <td id=\"T_882f8_row7_col2\" class=\"data row7 col2\" >0.426320</td>\n",
       "      <td id=\"T_882f8_row7_col3\" class=\"data row7 col3\" >-0.074582</td>\n",
       "      <td id=\"T_882f8_row7_col4\" class=\"data row7 col4\" >0.059920</td>\n",
       "      <td id=\"T_882f8_row7_col5\" class=\"data row7 col5\" >0.431573</td>\n",
       "      <td id=\"T_882f8_row7_col6\" class=\"data row7 col6\" >-0.292680</td>\n",
       "      <td id=\"T_882f8_row7_col7\" class=\"data row7 col7\" >1.000000</td>\n",
       "      <td id=\"T_882f8_row7_col8\" class=\"data row7 col8\" >-0.389213</td>\n",
       "      <td id=\"T_882f8_row7_col9\" class=\"data row7 col9\" >-0.100252</td>\n",
       "      <td id=\"T_882f8_row7_col10\" class=\"data row7 col10\" >-0.207930</td>\n",
       "      <td id=\"T_882f8_row7_col11\" class=\"data row7 col11\" >0.003714</td>\n",
       "      <td id=\"T_882f8_row7_col12\" class=\"data row7 col12\" >-0.043924</td>\n",
       "      <td id=\"T_882f8_row7_col13\" class=\"data row7 col13\" >-0.015749</td>\n",
       "      <td id=\"T_882f8_row7_col14\" class=\"data row7 col14\" >0.058462</td>\n",
       "      <td id=\"T_882f8_row7_col15\" class=\"data row7 col15\" >-0.051186</td>\n",
       "      <td id=\"T_882f8_row7_col16\" class=\"data row7 col16\" >-0.120372</td>\n",
       "      <td id=\"T_882f8_row7_col17\" class=\"data row7 col17\" >-0.147005</td>\n",
       "      <td id=\"T_882f8_row7_col18\" class=\"data row7 col18\" >-0.070876</td>\n",
       "      <td id=\"T_882f8_row7_col19\" class=\"data row7 col19\" >0.000808</td>\n",
       "      <td id=\"T_882f8_row7_col20\" class=\"data row7 col20\" >0.160522</td>\n",
       "      <td id=\"T_882f8_row7_col21\" class=\"data row7 col21\" >-0.022250</td>\n",
       "      <td id=\"T_882f8_row7_col22\" class=\"data row7 col22\" >-0.023750</td>\n",
       "      <td id=\"T_882f8_row7_col23\" class=\"data row7 col23\" >-0.186343</td>\n",
       "      <td id=\"T_882f8_row7_col24\" class=\"data row7 col24\" >-0.012879</td>\n",
       "      <td id=\"T_882f8_row7_col25\" class=\"data row7 col25\" >-0.046468</td>\n",
       "      <td id=\"T_882f8_row7_col26\" class=\"data row7 col26\" >0.016724</td>\n",
       "      <td id=\"T_882f8_row7_col27\" class=\"data row7 col27\" >-0.094494</td>\n",
       "      <td id=\"T_882f8_row7_col28\" class=\"data row7 col28\" >0.056405</td>\n",
       "      <td id=\"T_882f8_row7_col29\" class=\"data row7 col29\" >-0.030003</td>\n",
       "      <td id=\"T_882f8_row7_col30\" class=\"data row7 col30\" >-0.048308</td>\n",
       "    </tr>\n",
       "    <tr>\n",
       "      <th id=\"T_882f8_level0_row8\" class=\"row_heading level0 row8\" >V8</th>\n",
       "      <td id=\"T_882f8_row8_col0\" class=\"data row8 col0\" >-0.103882</td>\n",
       "      <td id=\"T_882f8_row8_col1\" class=\"data row8 col1\" >-0.236140</td>\n",
       "      <td id=\"T_882f8_row8_col2\" class=\"data row8 col2\" >0.006980</td>\n",
       "      <td id=\"T_882f8_row8_col3\" class=\"data row8 col3\" >0.164374</td>\n",
       "      <td id=\"T_882f8_row8_col4\" class=\"data row8 col4\" >-0.009608</td>\n",
       "      <td id=\"T_882f8_row8_col5\" class=\"data row8 col5\" >-0.057022</td>\n",
       "      <td id=\"T_882f8_row8_col6\" class=\"data row8 col6\" >0.444053</td>\n",
       "      <td id=\"T_882f8_row8_col7\" class=\"data row8 col7\" >-0.389213</td>\n",
       "      <td id=\"T_882f8_row8_col8\" class=\"data row8 col8\" >1.000000</td>\n",
       "      <td id=\"T_882f8_row8_col9\" class=\"data row8 col9\" >-0.002511</td>\n",
       "      <td id=\"T_882f8_row8_col10\" class=\"data row8 col10\" >-0.120992</td>\n",
       "      <td id=\"T_882f8_row8_col11\" class=\"data row8 col11\" >0.053048</td>\n",
       "      <td id=\"T_882f8_row8_col12\" class=\"data row8 col12\" >0.106016</td>\n",
       "      <td id=\"T_882f8_row8_col13\" class=\"data row8 col13\" >-0.144864</td>\n",
       "      <td id=\"T_882f8_row8_col14\" class=\"data row8 col14\" >0.041255</td>\n",
       "      <td id=\"T_882f8_row8_col15\" class=\"data row8 col15\" >-0.016752</td>\n",
       "      <td id=\"T_882f8_row8_col16\" class=\"data row8 col16\" >0.089504</td>\n",
       "      <td id=\"T_882f8_row8_col17\" class=\"data row8 col17\" >0.074985</td>\n",
       "      <td id=\"T_882f8_row8_col18\" class=\"data row8 col18\" >0.066508</td>\n",
       "      <td id=\"T_882f8_row8_col19\" class=\"data row8 col19\" >-0.033248</td>\n",
       "      <td id=\"T_882f8_row8_col20\" class=\"data row8 col20\" >0.006028</td>\n",
       "      <td id=\"T_882f8_row8_col21\" class=\"data row8 col21\" >0.076569</td>\n",
       "      <td id=\"T_882f8_row8_col22\" class=\"data row8 col22\" >0.019775</td>\n",
       "      <td id=\"T_882f8_row8_col23\" class=\"data row8 col23\" >0.075212</td>\n",
       "      <td id=\"T_882f8_row8_col24\" class=\"data row8 col24\" >-0.024536</td>\n",
       "      <td id=\"T_882f8_row8_col25\" class=\"data row8 col25\" >-0.074303</td>\n",
       "      <td id=\"T_882f8_row8_col26\" class=\"data row8 col26\" >-0.007648</td>\n",
       "      <td id=\"T_882f8_row8_col27\" class=\"data row8 col27\" >0.189916</td>\n",
       "      <td id=\"T_882f8_row8_col28\" class=\"data row8 col28\" >0.089700</td>\n",
       "      <td id=\"T_882f8_row8_col29\" class=\"data row8 col29\" >0.004371</td>\n",
       "      <td id=\"T_882f8_row8_col30\" class=\"data row8 col30\" >0.022706</td>\n",
       "    </tr>\n",
       "    <tr>\n",
       "      <th id=\"T_882f8_level0_row9\" class=\"row_heading level0 row9\" >V9</th>\n",
       "      <td id=\"T_882f8_row9_col0\" class=\"data row9 col0\" >0.017986</td>\n",
       "      <td id=\"T_882f8_row9_col1\" class=\"data row9 col1\" >0.138614</td>\n",
       "      <td id=\"T_882f8_row9_col2\" class=\"data row9 col2\" >-0.077880</td>\n",
       "      <td id=\"T_882f8_row9_col3\" class=\"data row9 col3\" >-0.030876</td>\n",
       "      <td id=\"T_882f8_row9_col4\" class=\"data row9 col4\" >0.105248</td>\n",
       "      <td id=\"T_882f8_row9_col5\" class=\"data row9 col5\" >-0.056580</td>\n",
       "      <td id=\"T_882f8_row9_col6\" class=\"data row9 col6\" >0.028864</td>\n",
       "      <td id=\"T_882f8_row9_col7\" class=\"data row9 col7\" >-0.100252</td>\n",
       "      <td id=\"T_882f8_row9_col8\" class=\"data row9 col8\" >-0.002511</td>\n",
       "      <td id=\"T_882f8_row9_col9\" class=\"data row9 col9\" >1.000000</td>\n",
       "      <td id=\"T_882f8_row9_col10\" class=\"data row9 col10\" >-0.291153</td>\n",
       "      <td id=\"T_882f8_row9_col11\" class=\"data row9 col11\" >-0.031365</td>\n",
       "      <td id=\"T_882f8_row9_col12\" class=\"data row9 col12\" >0.103193</td>\n",
       "      <td id=\"T_882f8_row9_col13\" class=\"data row9 col13\" >-0.047521</td>\n",
       "      <td id=\"T_882f8_row9_col14\" class=\"data row9 col14\" >-0.031144</td>\n",
       "      <td id=\"T_882f8_row9_col15\" class=\"data row9 col15\" >-0.004438</td>\n",
       "      <td id=\"T_882f8_row9_col16\" class=\"data row9 col16\" >-0.031735</td>\n",
       "      <td id=\"T_882f8_row9_col17\" class=\"data row9 col17\" >-0.068576</td>\n",
       "      <td id=\"T_882f8_row9_col18\" class=\"data row9 col18\" >-0.014809</td>\n",
       "      <td id=\"T_882f8_row9_col19\" class=\"data row9 col19\" >0.003057</td>\n",
       "      <td id=\"T_882f8_row9_col20\" class=\"data row9 col20\" >-0.015357</td>\n",
       "      <td id=\"T_882f8_row9_col21\" class=\"data row9 col21\" >-0.065773</td>\n",
       "      <td id=\"T_882f8_row9_col22\" class=\"data row9 col22\" >0.001958</td>\n",
       "      <td id=\"T_882f8_row9_col23\" class=\"data row9 col23\" >0.074164</td>\n",
       "      <td id=\"T_882f8_row9_col24\" class=\"data row9 col24\" >-0.001572</td>\n",
       "      <td id=\"T_882f8_row9_col25\" class=\"data row9 col25\" >-0.022575</td>\n",
       "      <td id=\"T_882f8_row9_col26\" class=\"data row9 col26\" >0.026677</td>\n",
       "      <td id=\"T_882f8_row9_col27\" class=\"data row9 col27\" >-0.001804</td>\n",
       "      <td id=\"T_882f8_row9_col28\" class=\"data row9 col28\" >-0.103743</td>\n",
       "      <td id=\"T_882f8_row9_col29\" class=\"data row9 col29\" >-0.077437</td>\n",
       "      <td id=\"T_882f8_row9_col30\" class=\"data row9 col30\" >-0.049499</td>\n",
       "    </tr>\n",
       "    <tr>\n",
       "      <th id=\"T_882f8_level0_row10\" class=\"row_heading level0 row10\" >V10</th>\n",
       "      <td id=\"T_882f8_row10_col0\" class=\"data row10 col0\" >0.014692</td>\n",
       "      <td id=\"T_882f8_row10_col1\" class=\"data row10 col1\" >0.231636</td>\n",
       "      <td id=\"T_882f8_row10_col2\" class=\"data row10 col2\" >-0.212437</td>\n",
       "      <td id=\"T_882f8_row10_col3\" class=\"data row10 col3\" >-0.070960</td>\n",
       "      <td id=\"T_882f8_row10_col4\" class=\"data row10 col4\" >0.025553</td>\n",
       "      <td id=\"T_882f8_row10_col5\" class=\"data row10 col5\" >-0.154910</td>\n",
       "      <td id=\"T_882f8_row10_col6\" class=\"data row10 col6\" >0.063326</td>\n",
       "      <td id=\"T_882f8_row10_col7\" class=\"data row10 col7\" >-0.207930</td>\n",
       "      <td id=\"T_882f8_row10_col8\" class=\"data row10 col8\" >-0.120992</td>\n",
       "      <td id=\"T_882f8_row10_col9\" class=\"data row10 col9\" >-0.291153</td>\n",
       "      <td id=\"T_882f8_row10_col10\" class=\"data row10 col10\" >1.000000</td>\n",
       "      <td id=\"T_882f8_row10_col11\" class=\"data row10 col11\" >0.034302</td>\n",
       "      <td id=\"T_882f8_row10_col12\" class=\"data row10 col12\" >-0.164351</td>\n",
       "      <td id=\"T_882f8_row10_col13\" class=\"data row10 col13\" >0.000447</td>\n",
       "      <td id=\"T_882f8_row10_col14\" class=\"data row10 col14\" >0.004775</td>\n",
       "      <td id=\"T_882f8_row10_col15\" class=\"data row10 col15\" >-0.027435</td>\n",
       "      <td id=\"T_882f8_row10_col16\" class=\"data row10 col16\" >-0.055068</td>\n",
       "      <td id=\"T_882f8_row10_col17\" class=\"data row10 col17\" >-0.147597</td>\n",
       "      <td id=\"T_882f8_row10_col18\" class=\"data row10 col18\" >-0.053661</td>\n",
       "      <td id=\"T_882f8_row10_col19\" class=\"data row10 col19\" >0.039552</td>\n",
       "      <td id=\"T_882f8_row10_col20\" class=\"data row10 col20\" >-0.087240</td>\n",
       "      <td id=\"T_882f8_row10_col21\" class=\"data row10 col21\" >-0.046775</td>\n",
       "      <td id=\"T_882f8_row10_col22\" class=\"data row10 col22\" >0.042022</td>\n",
       "      <td id=\"T_882f8_row10_col23\" class=\"data row10 col23\" >0.077078</td>\n",
       "      <td id=\"T_882f8_row10_col24\" class=\"data row10 col24\" >-0.007778</td>\n",
       "      <td id=\"T_882f8_row10_col25\" class=\"data row10 col25\" >-0.016904</td>\n",
       "      <td id=\"T_882f8_row10_col26\" class=\"data row10 col26\" >-0.026877</td>\n",
       "      <td id=\"T_882f8_row10_col27\" class=\"data row10 col27\" >-0.020471</td>\n",
       "      <td id=\"T_882f8_row10_col28\" class=\"data row10 col28\" >-0.130545</td>\n",
       "      <td id=\"T_882f8_row10_col29\" class=\"data row10 col29\" >0.054835</td>\n",
       "      <td id=\"T_882f8_row10_col30\" class=\"data row10 col30\" >-0.059564</td>\n",
       "    </tr>\n",
       "    <tr>\n",
       "      <th id=\"T_882f8_level0_row11\" class=\"row_heading level0 row11\" >V11</th>\n",
       "      <td id=\"T_882f8_row11_col0\" class=\"data row11 col0\" >-0.227116</td>\n",
       "      <td id=\"T_882f8_row11_col1\" class=\"data row11 col1\" >0.013750</td>\n",
       "      <td id=\"T_882f8_row11_col2\" class=\"data row11 col2\" >-0.013464</td>\n",
       "      <td id=\"T_882f8_row11_col3\" class=\"data row11 col3\" >0.056105</td>\n",
       "      <td id=\"T_882f8_row11_col4\" class=\"data row11 col4\" >-0.013122</td>\n",
       "      <td id=\"T_882f8_row11_col5\" class=\"data row11 col5\" >0.010749</td>\n",
       "      <td id=\"T_882f8_row11_col6\" class=\"data row11 col6\" >0.059672</td>\n",
       "      <td id=\"T_882f8_row11_col7\" class=\"data row11 col7\" >0.003714</td>\n",
       "      <td id=\"T_882f8_row11_col8\" class=\"data row11 col8\" >0.053048</td>\n",
       "      <td id=\"T_882f8_row11_col9\" class=\"data row11 col9\" >-0.031365</td>\n",
       "      <td id=\"T_882f8_row11_col10\" class=\"data row11 col10\" >0.034302</td>\n",
       "      <td id=\"T_882f8_row11_col11\" class=\"data row11 col11\" >1.000000</td>\n",
       "      <td id=\"T_882f8_row11_col12\" class=\"data row11 col12\" >0.196537</td>\n",
       "      <td id=\"T_882f8_row11_col13\" class=\"data row11 col13\" >-0.035353</td>\n",
       "      <td id=\"T_882f8_row11_col14\" class=\"data row11 col14\" >0.151355</td>\n",
       "      <td id=\"T_882f8_row11_col15\" class=\"data row11 col15\" >-0.036396</td>\n",
       "      <td id=\"T_882f8_row11_col16\" class=\"data row11 col16\" >0.069376</td>\n",
       "      <td id=\"T_882f8_row11_col17\" class=\"data row11 col17\" >0.073664</td>\n",
       "      <td id=\"T_882f8_row11_col18\" class=\"data row11 col18\" >0.069107</td>\n",
       "      <td id=\"T_882f8_row11_col19\" class=\"data row11 col19\" >0.009885</td>\n",
       "      <td id=\"T_882f8_row11_col20\" class=\"data row11 col20\" >0.042478</td>\n",
       "      <td id=\"T_882f8_row11_col21\" class=\"data row11 col21\" >-0.001111</td>\n",
       "      <td id=\"T_882f8_row11_col22\" class=\"data row11 col22\" >0.000753</td>\n",
       "      <td id=\"T_882f8_row11_col23\" class=\"data row11 col23\" >0.031314</td>\n",
       "      <td id=\"T_882f8_row11_col24\" class=\"data row11 col24\" >-0.005295</td>\n",
       "      <td id=\"T_882f8_row11_col25\" class=\"data row11 col25\" >-0.005389</td>\n",
       "      <td id=\"T_882f8_row11_col26\" class=\"data row11 col26\" >-0.005930</td>\n",
       "      <td id=\"T_882f8_row11_col27\" class=\"data row11 col27\" >-0.026304</td>\n",
       "      <td id=\"T_882f8_row11_col28\" class=\"data row11 col28\" >-0.027859</td>\n",
       "      <td id=\"T_882f8_row11_col29\" class=\"data row11 col29\" >-0.044158</td>\n",
       "      <td id=\"T_882f8_row11_col30\" class=\"data row11 col30\" >0.060143</td>\n",
       "    </tr>\n",
       "    <tr>\n",
       "      <th id=\"T_882f8_level0_row12\" class=\"row_heading level0 row12\" >V12</th>\n",
       "      <td id=\"T_882f8_row12_col0\" class=\"data row12 col0\" >0.073665</td>\n",
       "      <td id=\"T_882f8_row12_col1\" class=\"data row12 col1\" >0.003095</td>\n",
       "      <td id=\"T_882f8_row12_col2\" class=\"data row12 col2\" >0.052846</td>\n",
       "      <td id=\"T_882f8_row12_col3\" class=\"data row12 col3\" >-0.051875</td>\n",
       "      <td id=\"T_882f8_row12_col4\" class=\"data row12 col4\" >0.147738</td>\n",
       "      <td id=\"T_882f8_row12_col5\" class=\"data row12 col5\" >-0.048560</td>\n",
       "      <td id=\"T_882f8_row12_col6\" class=\"data row12 col6\" >0.037176</td>\n",
       "      <td id=\"T_882f8_row12_col7\" class=\"data row12 col7\" >-0.043924</td>\n",
       "      <td id=\"T_882f8_row12_col8\" class=\"data row12 col8\" >0.106016</td>\n",
       "      <td id=\"T_882f8_row12_col9\" class=\"data row12 col9\" >0.103193</td>\n",
       "      <td id=\"T_882f8_row12_col10\" class=\"data row12 col10\" >-0.164351</td>\n",
       "      <td id=\"T_882f8_row12_col11\" class=\"data row12 col11\" >0.196537</td>\n",
       "      <td id=\"T_882f8_row12_col12\" class=\"data row12 col12\" >1.000000</td>\n",
       "      <td id=\"T_882f8_row12_col13\" class=\"data row12 col13\" >0.187426</td>\n",
       "      <td id=\"T_882f8_row12_col14\" class=\"data row12 col14\" >-0.052563</td>\n",
       "      <td id=\"T_882f8_row12_col15\" class=\"data row12 col15\" >-0.068740</td>\n",
       "      <td id=\"T_882f8_row12_col16\" class=\"data row12 col16\" >-0.118218</td>\n",
       "      <td id=\"T_882f8_row12_col17\" class=\"data row12 col17\" >-0.204867</td>\n",
       "      <td id=\"T_882f8_row12_col18\" class=\"data row12 col18\" >-0.065605</td>\n",
       "      <td id=\"T_882f8_row12_col19\" class=\"data row12 col19\" >0.019610</td>\n",
       "      <td id=\"T_882f8_row12_col20\" class=\"data row12 col20\" >0.013717</td>\n",
       "      <td id=\"T_882f8_row12_col21\" class=\"data row12 col21\" >0.030667</td>\n",
       "      <td id=\"T_882f8_row12_col22\" class=\"data row12 col22\" >-0.014063</td>\n",
       "      <td id=\"T_882f8_row12_col23\" class=\"data row12 col23\" >0.081191</td>\n",
       "      <td id=\"T_882f8_row12_col24\" class=\"data row12 col24\" >-0.001926</td>\n",
       "      <td id=\"T_882f8_row12_col25\" class=\"data row12 col25\" >0.003252</td>\n",
       "      <td id=\"T_882f8_row12_col26\" class=\"data row12 col26\" >0.011659</td>\n",
       "      <td id=\"T_882f8_row12_col27\" class=\"data row12 col27\" >0.028654</td>\n",
       "      <td id=\"T_882f8_row12_col28\" class=\"data row12 col28\" >-0.007827</td>\n",
       "      <td id=\"T_882f8_row12_col29\" class=\"data row12 col29\" >-0.038711</td>\n",
       "      <td id=\"T_882f8_row12_col30\" class=\"data row12 col30\" >-0.062870</td>\n",
       "    </tr>\n",
       "    <tr>\n",
       "      <th id=\"T_882f8_level0_row13\" class=\"row_heading level0 row13\" >V13</th>\n",
       "      <td id=\"T_882f8_row13_col0\" class=\"data row13 col0\" >-0.045340</td>\n",
       "      <td id=\"T_882f8_row13_col1\" class=\"data row13 col1\" >0.047839</td>\n",
       "      <td id=\"T_882f8_row13_col2\" class=\"data row13 col2\" >0.028702</td>\n",
       "      <td id=\"T_882f8_row13_col3\" class=\"data row13 col3\" >0.006839</td>\n",
       "      <td id=\"T_882f8_row13_col4\" class=\"data row13 col4\" >-0.024538</td>\n",
       "      <td id=\"T_882f8_row13_col5\" class=\"data row13 col5\" >0.019549</td>\n",
       "      <td id=\"T_882f8_row13_col6\" class=\"data row13 col6\" >-0.004068</td>\n",
       "      <td id=\"T_882f8_row13_col7\" class=\"data row13 col7\" >-0.015749</td>\n",
       "      <td id=\"T_882f8_row13_col8\" class=\"data row13 col8\" >-0.144864</td>\n",
       "      <td id=\"T_882f8_row13_col9\" class=\"data row13 col9\" >-0.047521</td>\n",
       "      <td id=\"T_882f8_row13_col10\" class=\"data row13 col10\" >0.000447</td>\n",
       "      <td id=\"T_882f8_row13_col11\" class=\"data row13 col11\" >-0.035353</td>\n",
       "      <td id=\"T_882f8_row13_col12\" class=\"data row13 col12\" >0.187426</td>\n",
       "      <td id=\"T_882f8_row13_col13\" class=\"data row13 col13\" >1.000000</td>\n",
       "      <td id=\"T_882f8_row13_col14\" class=\"data row13 col14\" >-0.093152</td>\n",
       "      <td id=\"T_882f8_row13_col15\" class=\"data row13 col15\" >0.014484</td>\n",
       "      <td id=\"T_882f8_row13_col16\" class=\"data row13 col16\" >0.000260</td>\n",
       "      <td id=\"T_882f8_row13_col17\" class=\"data row13 col17\" >-0.016981</td>\n",
       "      <td id=\"T_882f8_row13_col18\" class=\"data row13 col18\" >-0.009849</td>\n",
       "      <td id=\"T_882f8_row13_col19\" class=\"data row13 col19\" >-0.006247</td>\n",
       "      <td id=\"T_882f8_row13_col20\" class=\"data row13 col20\" >0.100839</td>\n",
       "      <td id=\"T_882f8_row13_col21\" class=\"data row13 col21\" >-0.049897</td>\n",
       "      <td id=\"T_882f8_row13_col22\" class=\"data row13 col22\" >0.006830</td>\n",
       "      <td id=\"T_882f8_row13_col23\" class=\"data row13 col23\" >0.002265</td>\n",
       "      <td id=\"T_882f8_row13_col24\" class=\"data row13 col24\" >0.004753</td>\n",
       "      <td id=\"T_882f8_row13_col25\" class=\"data row13 col25\" >0.002930</td>\n",
       "      <td id=\"T_882f8_row13_col26\" class=\"data row13 col26\" >-0.003904</td>\n",
       "      <td id=\"T_882f8_row13_col27\" class=\"data row13 col27\" >0.003783</td>\n",
       "      <td id=\"T_882f8_row13_col28\" class=\"data row13 col28\" >-0.006607</td>\n",
       "      <td id=\"T_882f8_row13_col29\" class=\"data row13 col29\" >-0.005677</td>\n",
       "      <td id=\"T_882f8_row13_col30\" class=\"data row13 col30\" >-0.003653</td>\n",
       "    </tr>\n",
       "    <tr>\n",
       "      <th id=\"T_882f8_level0_row14\" class=\"row_heading level0 row14\" >V14</th>\n",
       "      <td id=\"T_882f8_row14_col0\" class=\"data row14 col0\" >-0.092388</td>\n",
       "      <td id=\"T_882f8_row14_col1\" class=\"data row14 col1\" >-0.024329</td>\n",
       "      <td id=\"T_882f8_row14_col2\" class=\"data row14 col2\" >0.088108</td>\n",
       "      <td id=\"T_882f8_row14_col3\" class=\"data row14 col3\" >-0.130565</td>\n",
       "      <td id=\"T_882f8_row14_col4\" class=\"data row14 col4\" >0.099464</td>\n",
       "      <td id=\"T_882f8_row14_col5\" class=\"data row14 col5\" >0.035107</td>\n",
       "      <td id=\"T_882f8_row14_col6\" class=\"data row14 col6\" >-0.068788</td>\n",
       "      <td id=\"T_882f8_row14_col7\" class=\"data row14 col7\" >0.058462</td>\n",
       "      <td id=\"T_882f8_row14_col8\" class=\"data row14 col8\" >0.041255</td>\n",
       "      <td id=\"T_882f8_row14_col9\" class=\"data row14 col9\" >-0.031144</td>\n",
       "      <td id=\"T_882f8_row14_col10\" class=\"data row14 col10\" >0.004775</td>\n",
       "      <td id=\"T_882f8_row14_col11\" class=\"data row14 col11\" >0.151355</td>\n",
       "      <td id=\"T_882f8_row14_col12\" class=\"data row14 col12\" >-0.052563</td>\n",
       "      <td id=\"T_882f8_row14_col13\" class=\"data row14 col13\" >-0.093152</td>\n",
       "      <td id=\"T_882f8_row14_col14\" class=\"data row14 col14\" >1.000000</td>\n",
       "      <td id=\"T_882f8_row14_col15\" class=\"data row14 col15\" >0.019141</td>\n",
       "      <td id=\"T_882f8_row14_col16\" class=\"data row14 col16\" >-0.127108</td>\n",
       "      <td id=\"T_882f8_row14_col17\" class=\"data row14 col17\" >-0.165207</td>\n",
       "      <td id=\"T_882f8_row14_col18\" class=\"data row14 col18\" >-0.027373</td>\n",
       "      <td id=\"T_882f8_row14_col19\" class=\"data row14 col19\" >0.021479</td>\n",
       "      <td id=\"T_882f8_row14_col20\" class=\"data row14 col20\" >-0.106410</td>\n",
       "      <td id=\"T_882f8_row14_col21\" class=\"data row14 col21\" >0.084425</td>\n",
       "      <td id=\"T_882f8_row14_col22\" class=\"data row14 col22\" >-0.008544</td>\n",
       "      <td id=\"T_882f8_row14_col23\" class=\"data row14 col23\" >0.016451</td>\n",
       "      <td id=\"T_882f8_row14_col24\" class=\"data row14 col24\" >-0.022123</td>\n",
       "      <td id=\"T_882f8_row14_col25\" class=\"data row14 col25\" >0.035528</td>\n",
       "      <td id=\"T_882f8_row14_col26\" class=\"data row14 col26\" >-0.004562</td>\n",
       "      <td id=\"T_882f8_row14_col27\" class=\"data row14 col27\" >-0.090996</td>\n",
       "      <td id=\"T_882f8_row14_col28\" class=\"data row14 col28\" >-0.018130</td>\n",
       "      <td id=\"T_882f8_row14_col29\" class=\"data row14 col29\" >-0.004950</td>\n",
       "      <td id=\"T_882f8_row14_col30\" class=\"data row14 col30\" >-0.064613</td>\n",
       "    </tr>\n",
       "    <tr>\n",
       "      <th id=\"T_882f8_level0_row15\" class=\"row_heading level0 row15\" >V15</th>\n",
       "      <td id=\"T_882f8_row15_col0\" class=\"data row15 col0\" >-0.205421</td>\n",
       "      <td id=\"T_882f8_row15_col1\" class=\"data row15 col1\" >0.030048</td>\n",
       "      <td id=\"T_882f8_row15_col2\" class=\"data row15 col2\" >0.038186</td>\n",
       "      <td id=\"T_882f8_row15_col3\" class=\"data row15 col3\" >0.051314</td>\n",
       "      <td id=\"T_882f8_row15_col4\" class=\"data row15 col4\" >0.053405</td>\n",
       "      <td id=\"T_882f8_row15_col5\" class=\"data row15 col5\" >-0.041029</td>\n",
       "      <td id=\"T_882f8_row15_col6\" class=\"data row15 col6\" >-0.046259</td>\n",
       "      <td id=\"T_882f8_row15_col7\" class=\"data row15 col7\" >-0.051186</td>\n",
       "      <td id=\"T_882f8_row15_col8\" class=\"data row15 col8\" >-0.016752</td>\n",
       "      <td id=\"T_882f8_row15_col9\" class=\"data row15 col9\" >-0.004438</td>\n",
       "      <td id=\"T_882f8_row15_col10\" class=\"data row15 col10\" >-0.027435</td>\n",
       "      <td id=\"T_882f8_row15_col11\" class=\"data row15 col11\" >-0.036396</td>\n",
       "      <td id=\"T_882f8_row15_col12\" class=\"data row15 col12\" >-0.068740</td>\n",
       "      <td id=\"T_882f8_row15_col13\" class=\"data row15 col13\" >0.014484</td>\n",
       "      <td id=\"T_882f8_row15_col14\" class=\"data row15 col14\" >0.019141</td>\n",
       "      <td id=\"T_882f8_row15_col15\" class=\"data row15 col15\" >1.000000</td>\n",
       "      <td id=\"T_882f8_row15_col16\" class=\"data row15 col16\" >0.013538</td>\n",
       "      <td id=\"T_882f8_row15_col17\" class=\"data row15 col17\" >-0.023710</td>\n",
       "      <td id=\"T_882f8_row15_col18\" class=\"data row15 col18\" >0.012898</td>\n",
       "      <td id=\"T_882f8_row15_col19\" class=\"data row15 col19\" >-0.054607</td>\n",
       "      <td id=\"T_882f8_row15_col20\" class=\"data row15 col20\" >0.094851</td>\n",
       "      <td id=\"T_882f8_row15_col21\" class=\"data row15 col21\" >0.031526</td>\n",
       "      <td id=\"T_882f8_row15_col22\" class=\"data row15 col22\" >0.001714</td>\n",
       "      <td id=\"T_882f8_row15_col23\" class=\"data row15 col23\" >0.031996</td>\n",
       "      <td id=\"T_882f8_row15_col24\" class=\"data row15 col24\" >0.022780</td>\n",
       "      <td id=\"T_882f8_row15_col25\" class=\"data row15 col25\" >0.010777</td>\n",
       "      <td id=\"T_882f8_row15_col26\" class=\"data row15 col26\" >-0.016134</td>\n",
       "      <td id=\"T_882f8_row15_col27\" class=\"data row15 col27\" >0.029202</td>\n",
       "      <td id=\"T_882f8_row15_col28\" class=\"data row15 col28\" >0.038744</td>\n",
       "      <td id=\"T_882f8_row15_col29\" class=\"data row15 col29\" >-0.071849</td>\n",
       "      <td id=\"T_882f8_row15_col30\" class=\"data row15 col30\" >-0.002841</td>\n",
       "    </tr>\n",
       "    <tr>\n",
       "      <th id=\"T_882f8_level0_row16\" class=\"row_heading level0 row16\" >V16</th>\n",
       "      <td id=\"T_882f8_row16_col0\" class=\"data row16 col0\" >0.002415</td>\n",
       "      <td id=\"T_882f8_row16_col1\" class=\"data row16 col1\" >0.037791</td>\n",
       "      <td id=\"T_882f8_row16_col2\" class=\"data row16 col2\" >0.068053</td>\n",
       "      <td id=\"T_882f8_row16_col3\" class=\"data row16 col3\" >-0.046590</td>\n",
       "      <td id=\"T_882f8_row16_col4\" class=\"data row16 col4\" >-0.041414</td>\n",
       "      <td id=\"T_882f8_row16_col5\" class=\"data row16 col5\" >-0.007564</td>\n",
       "      <td id=\"T_882f8_row16_col6\" class=\"data row16 col6\" >-0.020208</td>\n",
       "      <td id=\"T_882f8_row16_col7\" class=\"data row16 col7\" >-0.120372</td>\n",
       "      <td id=\"T_882f8_row16_col8\" class=\"data row16 col8\" >0.089504</td>\n",
       "      <td id=\"T_882f8_row16_col9\" class=\"data row16 col9\" >-0.031735</td>\n",
       "      <td id=\"T_882f8_row16_col10\" class=\"data row16 col10\" >-0.055068</td>\n",
       "      <td id=\"T_882f8_row16_col11\" class=\"data row16 col11\" >0.069376</td>\n",
       "      <td id=\"T_882f8_row16_col12\" class=\"data row16 col12\" >-0.118218</td>\n",
       "      <td id=\"T_882f8_row16_col13\" class=\"data row16 col13\" >0.000260</td>\n",
       "      <td id=\"T_882f8_row16_col14\" class=\"data row16 col14\" >-0.127108</td>\n",
       "      <td id=\"T_882f8_row16_col15\" class=\"data row16 col15\" >0.013538</td>\n",
       "      <td id=\"T_882f8_row16_col16\" class=\"data row16 col16\" >1.000000</td>\n",
       "      <td id=\"T_882f8_row16_col17\" class=\"data row16 col17\" >-0.237016</td>\n",
       "      <td id=\"T_882f8_row16_col18\" class=\"data row16 col18\" >0.023421</td>\n",
       "      <td id=\"T_882f8_row16_col19\" class=\"data row16 col19\" >0.017062</td>\n",
       "      <td id=\"T_882f8_row16_col20\" class=\"data row16 col20\" >0.176986</td>\n",
       "      <td id=\"T_882f8_row16_col21\" class=\"data row16 col21\" >0.091734</td>\n",
       "      <td id=\"T_882f8_row16_col22\" class=\"data row16 col22\" >-0.045050</td>\n",
       "      <td id=\"T_882f8_row16_col23\" class=\"data row16 col23\" >0.044663</td>\n",
       "      <td id=\"T_882f8_row16_col24\" class=\"data row16 col24\" >-0.029806</td>\n",
       "      <td id=\"T_882f8_row16_col25\" class=\"data row16 col25\" >-0.015480</td>\n",
       "      <td id=\"T_882f8_row16_col26\" class=\"data row16 col26\" >0.042409</td>\n",
       "      <td id=\"T_882f8_row16_col27\" class=\"data row16 col27\" >-0.046068</td>\n",
       "      <td id=\"T_882f8_row16_col28\" class=\"data row16 col28\" >-0.010306</td>\n",
       "      <td id=\"T_882f8_row16_col29\" class=\"data row16 col29\" >-0.106322</td>\n",
       "      <td id=\"T_882f8_row16_col30\" class=\"data row16 col30\" >-0.049936</td>\n",
       "    </tr>\n",
       "    <tr>\n",
       "      <th id=\"T_882f8_level0_row17\" class=\"row_heading level0 row17\" >V17</th>\n",
       "      <td id=\"T_882f8_row17_col0\" class=\"data row17 col0\" >-0.102351</td>\n",
       "      <td id=\"T_882f8_row17_col1\" class=\"data row17 col1\" >-0.057902</td>\n",
       "      <td id=\"T_882f8_row17_col2\" class=\"data row17 col2\" >-0.002416</td>\n",
       "      <td id=\"T_882f8_row17_col3\" class=\"data row17 col3\" >-0.035420</td>\n",
       "      <td id=\"T_882f8_row17_col4\" class=\"data row17 col4\" >0.049298</td>\n",
       "      <td id=\"T_882f8_row17_col5\" class=\"data row17 col5\" >-0.145735</td>\n",
       "      <td id=\"T_882f8_row17_col6\" class=\"data row17 col6\" >-0.027470</td>\n",
       "      <td id=\"T_882f8_row17_col7\" class=\"data row17 col7\" >-0.147005</td>\n",
       "      <td id=\"T_882f8_row17_col8\" class=\"data row17 col8\" >0.074985</td>\n",
       "      <td id=\"T_882f8_row17_col9\" class=\"data row17 col9\" >-0.068576</td>\n",
       "      <td id=\"T_882f8_row17_col10\" class=\"data row17 col10\" >-0.147597</td>\n",
       "      <td id=\"T_882f8_row17_col11\" class=\"data row17 col11\" >0.073664</td>\n",
       "      <td id=\"T_882f8_row17_col12\" class=\"data row17 col12\" >-0.204867</td>\n",
       "      <td id=\"T_882f8_row17_col13\" class=\"data row17 col13\" >-0.016981</td>\n",
       "      <td id=\"T_882f8_row17_col14\" class=\"data row17 col14\" >-0.165207</td>\n",
       "      <td id=\"T_882f8_row17_col15\" class=\"data row17 col15\" >-0.023710</td>\n",
       "      <td id=\"T_882f8_row17_col16\" class=\"data row17 col16\" >-0.237016</td>\n",
       "      <td id=\"T_882f8_row17_col17\" class=\"data row17 col17\" >1.000000</td>\n",
       "      <td id=\"T_882f8_row17_col18\" class=\"data row17 col18\" >-0.157970</td>\n",
       "      <td id=\"T_882f8_row17_col19\" class=\"data row17 col19\" >0.045430</td>\n",
       "      <td id=\"T_882f8_row17_col20\" class=\"data row17 col20\" >-0.017217</td>\n",
       "      <td id=\"T_882f8_row17_col21\" class=\"data row17 col21\" >-0.009305</td>\n",
       "      <td id=\"T_882f8_row17_col22\" class=\"data row17 col22\" >0.012551</td>\n",
       "      <td id=\"T_882f8_row17_col23\" class=\"data row17 col23\" >0.036941</td>\n",
       "      <td id=\"T_882f8_row17_col24\" class=\"data row17 col24\" >0.052269</td>\n",
       "      <td id=\"T_882f8_row17_col25\" class=\"data row17 col25\" >0.004485</td>\n",
       "      <td id=\"T_882f8_row17_col26\" class=\"data row17 col26\" >-0.008512</td>\n",
       "      <td id=\"T_882f8_row17_col27\" class=\"data row17 col27\" >0.045756</td>\n",
       "      <td id=\"T_882f8_row17_col28\" class=\"data row17 col28\" >0.064973</td>\n",
       "      <td id=\"T_882f8_row17_col29\" class=\"data row17 col29\" >0.053967</td>\n",
       "      <td id=\"T_882f8_row17_col30\" class=\"data row17 col30\" >-0.044335</td>\n",
       "    </tr>\n",
       "    <tr>\n",
       "      <th id=\"T_882f8_level0_row18\" class=\"row_heading level0 row18\" >V18</th>\n",
       "      <td id=\"T_882f8_row18_col0\" class=\"data row18 col0\" >0.090840</td>\n",
       "      <td id=\"T_882f8_row18_col1\" class=\"data row18 col1\" >-0.043565</td>\n",
       "      <td id=\"T_882f8_row18_col2\" class=\"data row18 col2\" >0.011481</td>\n",
       "      <td id=\"T_882f8_row18_col3\" class=\"data row18 col3\" >-0.045167</td>\n",
       "      <td id=\"T_882f8_row18_col4\" class=\"data row18 col4\" >0.021175</td>\n",
       "      <td id=\"T_882f8_row18_col5\" class=\"data row18 col5\" >-0.016252</td>\n",
       "      <td id=\"T_882f8_row18_col6\" class=\"data row18 col6\" >0.052293</td>\n",
       "      <td id=\"T_882f8_row18_col7\" class=\"data row18 col7\" >-0.070876</td>\n",
       "      <td id=\"T_882f8_row18_col8\" class=\"data row18 col8\" >0.066508</td>\n",
       "      <td id=\"T_882f8_row18_col9\" class=\"data row18 col9\" >-0.014809</td>\n",
       "      <td id=\"T_882f8_row18_col10\" class=\"data row18 col10\" >-0.053661</td>\n",
       "      <td id=\"T_882f8_row18_col11\" class=\"data row18 col11\" >0.069107</td>\n",
       "      <td id=\"T_882f8_row18_col12\" class=\"data row18 col12\" >-0.065605</td>\n",
       "      <td id=\"T_882f8_row18_col13\" class=\"data row18 col13\" >-0.009849</td>\n",
       "      <td id=\"T_882f8_row18_col14\" class=\"data row18 col14\" >-0.027373</td>\n",
       "      <td id=\"T_882f8_row18_col15\" class=\"data row18 col15\" >0.012898</td>\n",
       "      <td id=\"T_882f8_row18_col16\" class=\"data row18 col16\" >0.023421</td>\n",
       "      <td id=\"T_882f8_row18_col17\" class=\"data row18 col17\" >-0.157970</td>\n",
       "      <td id=\"T_882f8_row18_col18\" class=\"data row18 col18\" >1.000000</td>\n",
       "      <td id=\"T_882f8_row18_col19\" class=\"data row18 col19\" >-0.004237</td>\n",
       "      <td id=\"T_882f8_row18_col20\" class=\"data row18 col20\" >-0.106237</td>\n",
       "      <td id=\"T_882f8_row18_col21\" class=\"data row18 col21\" >0.025895</td>\n",
       "      <td id=\"T_882f8_row18_col22\" class=\"data row18 col22\" >0.057312</td>\n",
       "      <td id=\"T_882f8_row18_col23\" class=\"data row18 col23\" >-0.108939</td>\n",
       "      <td id=\"T_882f8_row18_col24\" class=\"data row18 col24\" >-0.047626</td>\n",
       "      <td id=\"T_882f8_row18_col25\" class=\"data row18 col25\" >-0.005767</td>\n",
       "      <td id=\"T_882f8_row18_col26\" class=\"data row18 col26\" >-0.026689</td>\n",
       "      <td id=\"T_882f8_row18_col27\" class=\"data row18 col27\" >0.020533</td>\n",
       "      <td id=\"T_882f8_row18_col28\" class=\"data row18 col28\" >0.022941</td>\n",
       "      <td id=\"T_882f8_row18_col29\" class=\"data row18 col29\" >0.047713</td>\n",
       "      <td id=\"T_882f8_row18_col30\" class=\"data row18 col30\" >-0.034872</td>\n",
       "    </tr>\n",
       "    <tr>\n",
       "      <th id=\"T_882f8_level0_row19\" class=\"row_heading level0 row19\" >V19</th>\n",
       "      <td id=\"T_882f8_row19_col0\" class=\"data row19 col0\" >0.025136</td>\n",
       "      <td id=\"T_882f8_row19_col1\" class=\"data row19 col1\" >0.031168</td>\n",
       "      <td id=\"T_882f8_row19_col2\" class=\"data row19 col2\" >0.002082</td>\n",
       "      <td id=\"T_882f8_row19_col3\" class=\"data row19 col3\" >-0.015326</td>\n",
       "      <td id=\"T_882f8_row19_col4\" class=\"data row19 col4\" >-0.017866</td>\n",
       "      <td id=\"T_882f8_row19_col5\" class=\"data row19 col5\" >0.012257</td>\n",
       "      <td id=\"T_882f8_row19_col6\" class=\"data row19 col6\" >0.031965</td>\n",
       "      <td id=\"T_882f8_row19_col7\" class=\"data row19 col7\" >0.000808</td>\n",
       "      <td id=\"T_882f8_row19_col8\" class=\"data row19 col8\" >-0.033248</td>\n",
       "      <td id=\"T_882f8_row19_col9\" class=\"data row19 col9\" >0.003057</td>\n",
       "      <td id=\"T_882f8_row19_col10\" class=\"data row19 col10\" >0.039552</td>\n",
       "      <td id=\"T_882f8_row19_col11\" class=\"data row19 col11\" >0.009885</td>\n",
       "      <td id=\"T_882f8_row19_col12\" class=\"data row19 col12\" >0.019610</td>\n",
       "      <td id=\"T_882f8_row19_col13\" class=\"data row19 col13\" >-0.006247</td>\n",
       "      <td id=\"T_882f8_row19_col14\" class=\"data row19 col14\" >0.021479</td>\n",
       "      <td id=\"T_882f8_row19_col15\" class=\"data row19 col15\" >-0.054607</td>\n",
       "      <td id=\"T_882f8_row19_col16\" class=\"data row19 col16\" >0.017062</td>\n",
       "      <td id=\"T_882f8_row19_col17\" class=\"data row19 col17\" >0.045430</td>\n",
       "      <td id=\"T_882f8_row19_col18\" class=\"data row19 col18\" >-0.004237</td>\n",
       "      <td id=\"T_882f8_row19_col19\" class=\"data row19 col19\" >1.000000</td>\n",
       "      <td id=\"T_882f8_row19_col20\" class=\"data row19 col20\" >0.232867</td>\n",
       "      <td id=\"T_882f8_row19_col21\" class=\"data row19 col21\" >-0.005717</td>\n",
       "      <td id=\"T_882f8_row19_col22\" class=\"data row19 col22\" >-0.012338</td>\n",
       "      <td id=\"T_882f8_row19_col23\" class=\"data row19 col23\" >-0.078460</td>\n",
       "      <td id=\"T_882f8_row19_col24\" class=\"data row19 col24\" >-0.055560</td>\n",
       "      <td id=\"T_882f8_row19_col25\" class=\"data row19 col25\" >0.003658</td>\n",
       "      <td id=\"T_882f8_row19_col26\" class=\"data row19 col26\" >-0.015603</td>\n",
       "      <td id=\"T_882f8_row19_col27\" class=\"data row19 col27\" >-0.018541</td>\n",
       "      <td id=\"T_882f8_row19_col28\" class=\"data row19 col28\" >-0.040927</td>\n",
       "      <td id=\"T_882f8_row19_col29\" class=\"data row19 col29\" >-0.009394</td>\n",
       "      <td id=\"T_882f8_row19_col30\" class=\"data row19 col30\" >0.022546</td>\n",
       "    </tr>\n",
       "    <tr>\n",
       "      <th id=\"T_882f8_level0_row20\" class=\"row_heading level0 row20\" >V20</th>\n",
       "      <td id=\"T_882f8_row20_col0\" class=\"data row20 col0\" >-0.120319</td>\n",
       "      <td id=\"T_882f8_row20_col1\" class=\"data row20 col1\" >-0.209614</td>\n",
       "      <td id=\"T_882f8_row20_col2\" class=\"data row20 col2\" >0.040716</td>\n",
       "      <td id=\"T_882f8_row20_col3\" class=\"data row20 col3\" >0.108271</td>\n",
       "      <td id=\"T_882f8_row20_col4\" class=\"data row20 col4\" >-0.009598</td>\n",
       "      <td id=\"T_882f8_row20_col5\" class=\"data row20 col5\" >0.056719</td>\n",
       "      <td id=\"T_882f8_row20_col6\" class=\"data row20 col6\" >0.052824</td>\n",
       "      <td id=\"T_882f8_row20_col7\" class=\"data row20 col7\" >0.160522</td>\n",
       "      <td id=\"T_882f8_row20_col8\" class=\"data row20 col8\" >0.006028</td>\n",
       "      <td id=\"T_882f8_row20_col9\" class=\"data row20 col9\" >-0.015357</td>\n",
       "      <td id=\"T_882f8_row20_col10\" class=\"data row20 col10\" >-0.087240</td>\n",
       "      <td id=\"T_882f8_row20_col11\" class=\"data row20 col11\" >0.042478</td>\n",
       "      <td id=\"T_882f8_row20_col12\" class=\"data row20 col12\" >0.013717</td>\n",
       "      <td id=\"T_882f8_row20_col13\" class=\"data row20 col13\" >0.100839</td>\n",
       "      <td id=\"T_882f8_row20_col14\" class=\"data row20 col14\" >-0.106410</td>\n",
       "      <td id=\"T_882f8_row20_col15\" class=\"data row20 col15\" >0.094851</td>\n",
       "      <td id=\"T_882f8_row20_col16\" class=\"data row20 col16\" >0.176986</td>\n",
       "      <td id=\"T_882f8_row20_col17\" class=\"data row20 col17\" >-0.017217</td>\n",
       "      <td id=\"T_882f8_row20_col18\" class=\"data row20 col18\" >-0.106237</td>\n",
       "      <td id=\"T_882f8_row20_col19\" class=\"data row20 col19\" >0.232867</td>\n",
       "      <td id=\"T_882f8_row20_col20\" class=\"data row20 col20\" >1.000000</td>\n",
       "      <td id=\"T_882f8_row20_col21\" class=\"data row20 col21\" >0.114530</td>\n",
       "      <td id=\"T_882f8_row20_col22\" class=\"data row20 col22\" >0.034381</td>\n",
       "      <td id=\"T_882f8_row20_col23\" class=\"data row20 col23\" >-0.194834</td>\n",
       "      <td id=\"T_882f8_row20_col24\" class=\"data row20 col24\" >0.041257</td>\n",
       "      <td id=\"T_882f8_row20_col25\" class=\"data row20 col25\" >0.044851</td>\n",
       "      <td id=\"T_882f8_row20_col26\" class=\"data row20 col26\" >0.046991</td>\n",
       "      <td id=\"T_882f8_row20_col27\" class=\"data row20 col27\" >0.103674</td>\n",
       "      <td id=\"T_882f8_row20_col28\" class=\"data row20 col28\" >0.275061</td>\n",
       "      <td id=\"T_882f8_row20_col29\" class=\"data row20 col29\" >0.201151</td>\n",
       "      <td id=\"T_882f8_row20_col30\" class=\"data row20 col30\" >0.021574</td>\n",
       "    </tr>\n",
       "    <tr>\n",
       "      <th id=\"T_882f8_level0_row21\" class=\"row_heading level0 row21\" >V21</th>\n",
       "      <td id=\"T_882f8_row21_col0\" class=\"data row21 col0\" >0.096564</td>\n",
       "      <td id=\"T_882f8_row21_col1\" class=\"data row21 col1\" >-0.061958</td>\n",
       "      <td id=\"T_882f8_row21_col2\" class=\"data row21 col2\" >-0.098255</td>\n",
       "      <td id=\"T_882f8_row21_col3\" class=\"data row21 col3\" >-0.040234</td>\n",
       "      <td id=\"T_882f8_row21_col4\" class=\"data row21 col4\" >0.038960</td>\n",
       "      <td id=\"T_882f8_row21_col5\" class=\"data row21 col5\" >-0.040364</td>\n",
       "      <td id=\"T_882f8_row21_col6\" class=\"data row21 col6\" >0.034595</td>\n",
       "      <td id=\"T_882f8_row21_col7\" class=\"data row21 col7\" >-0.022250</td>\n",
       "      <td id=\"T_882f8_row21_col8\" class=\"data row21 col8\" >0.076569</td>\n",
       "      <td id=\"T_882f8_row21_col9\" class=\"data row21 col9\" >-0.065773</td>\n",
       "      <td id=\"T_882f8_row21_col10\" class=\"data row21 col10\" >-0.046775</td>\n",
       "      <td id=\"T_882f8_row21_col11\" class=\"data row21 col11\" >-0.001111</td>\n",
       "      <td id=\"T_882f8_row21_col12\" class=\"data row21 col12\" >0.030667</td>\n",
       "      <td id=\"T_882f8_row21_col13\" class=\"data row21 col13\" >-0.049897</td>\n",
       "      <td id=\"T_882f8_row21_col14\" class=\"data row21 col14\" >0.084425</td>\n",
       "      <td id=\"T_882f8_row21_col15\" class=\"data row21 col15\" >0.031526</td>\n",
       "      <td id=\"T_882f8_row21_col16\" class=\"data row21 col16\" >0.091734</td>\n",
       "      <td id=\"T_882f8_row21_col17\" class=\"data row21 col17\" >-0.009305</td>\n",
       "      <td id=\"T_882f8_row21_col18\" class=\"data row21 col18\" >0.025895</td>\n",
       "      <td id=\"T_882f8_row21_col19\" class=\"data row21 col19\" >-0.005717</td>\n",
       "      <td id=\"T_882f8_row21_col20\" class=\"data row21 col20\" >0.114530</td>\n",
       "      <td id=\"T_882f8_row21_col21\" class=\"data row21 col21\" >1.000000</td>\n",
       "      <td id=\"T_882f8_row21_col22\" class=\"data row21 col22\" >0.676718</td>\n",
       "      <td id=\"T_882f8_row21_col23\" class=\"data row21 col23\" >-0.250182</td>\n",
       "      <td id=\"T_882f8_row21_col24\" class=\"data row21 col24\" >0.031954</td>\n",
       "      <td id=\"T_882f8_row21_col25\" class=\"data row21 col25\" >0.037247</td>\n",
       "      <td id=\"T_882f8_row21_col26\" class=\"data row21 col26\" >-0.039867</td>\n",
       "      <td id=\"T_882f8_row21_col27\" class=\"data row21 col27\" >-0.026841</td>\n",
       "      <td id=\"T_882f8_row21_col28\" class=\"data row21 col28\" >0.067260</td>\n",
       "      <td id=\"T_882f8_row21_col29\" class=\"data row21 col29\" >0.194075</td>\n",
       "      <td id=\"T_882f8_row21_col30\" class=\"data row21 col30\" >0.035442</td>\n",
       "    </tr>\n",
       "    <tr>\n",
       "      <th id=\"T_882f8_level0_row22\" class=\"row_heading level0 row22\" >V22</th>\n",
       "      <td id=\"T_882f8_row22_col0\" class=\"data row22 col0\" >0.132651</td>\n",
       "      <td id=\"T_882f8_row22_col1\" class=\"data row22 col1\" >-0.028827</td>\n",
       "      <td id=\"T_882f8_row22_col2\" class=\"data row22 col2\" >-0.056478</td>\n",
       "      <td id=\"T_882f8_row22_col3\" class=\"data row22 col3\" >0.004404</td>\n",
       "      <td id=\"T_882f8_row22_col4\" class=\"data row22 col4\" >-0.004931</td>\n",
       "      <td id=\"T_882f8_row22_col5\" class=\"data row22 col5\" >-0.010920</td>\n",
       "      <td id=\"T_882f8_row22_col6\" class=\"data row22 col6\" >0.040370</td>\n",
       "      <td id=\"T_882f8_row22_col7\" class=\"data row22 col7\" >-0.023750</td>\n",
       "      <td id=\"T_882f8_row22_col8\" class=\"data row22 col8\" >0.019775</td>\n",
       "      <td id=\"T_882f8_row22_col9\" class=\"data row22 col9\" >0.001958</td>\n",
       "      <td id=\"T_882f8_row22_col10\" class=\"data row22 col10\" >0.042022</td>\n",
       "      <td id=\"T_882f8_row22_col11\" class=\"data row22 col11\" >0.000753</td>\n",
       "      <td id=\"T_882f8_row22_col12\" class=\"data row22 col12\" >-0.014063</td>\n",
       "      <td id=\"T_882f8_row22_col13\" class=\"data row22 col13\" >0.006830</td>\n",
       "      <td id=\"T_882f8_row22_col14\" class=\"data row22 col14\" >-0.008544</td>\n",
       "      <td id=\"T_882f8_row22_col15\" class=\"data row22 col15\" >0.001714</td>\n",
       "      <td id=\"T_882f8_row22_col16\" class=\"data row22 col16\" >-0.045050</td>\n",
       "      <td id=\"T_882f8_row22_col17\" class=\"data row22 col17\" >0.012551</td>\n",
       "      <td id=\"T_882f8_row22_col18\" class=\"data row22 col18\" >0.057312</td>\n",
       "      <td id=\"T_882f8_row22_col19\" class=\"data row22 col19\" >-0.012338</td>\n",
       "      <td id=\"T_882f8_row22_col20\" class=\"data row22 col20\" >0.034381</td>\n",
       "      <td id=\"T_882f8_row22_col21\" class=\"data row22 col21\" >0.676718</td>\n",
       "      <td id=\"T_882f8_row22_col22\" class=\"data row22 col22\" >1.000000</td>\n",
       "      <td id=\"T_882f8_row22_col23\" class=\"data row22 col23\" >-0.239368</td>\n",
       "      <td id=\"T_882f8_row22_col24\" class=\"data row22 col24\" >0.014669</td>\n",
       "      <td id=\"T_882f8_row22_col25\" class=\"data row22 col25\" >0.028557</td>\n",
       "      <td id=\"T_882f8_row22_col26\" class=\"data row22 col26\" >-0.039765</td>\n",
       "      <td id=\"T_882f8_row22_col27\" class=\"data row22 col27\" >0.072514</td>\n",
       "      <td id=\"T_882f8_row22_col28\" class=\"data row22 col28\" >-0.036970</td>\n",
       "      <td id=\"T_882f8_row22_col29\" class=\"data row22 col29\" >0.080227</td>\n",
       "      <td id=\"T_882f8_row22_col30\" class=\"data row22 col30\" >0.002083</td>\n",
       "    </tr>\n",
       "    <tr>\n",
       "      <th id=\"T_882f8_level0_row23\" class=\"row_heading level0 row23\" >V23</th>\n",
       "      <td id=\"T_882f8_row23_col0\" class=\"data row23 col0\" >0.148505</td>\n",
       "      <td id=\"T_882f8_row23_col1\" class=\"data row23 col1\" >0.145440</td>\n",
       "      <td id=\"T_882f8_row23_col2\" class=\"data row23 col2\" >-0.094982</td>\n",
       "      <td id=\"T_882f8_row23_col3\" class=\"data row23 col3\" >-0.140076</td>\n",
       "      <td id=\"T_882f8_row23_col4\" class=\"data row23 col4\" >0.009615</td>\n",
       "      <td id=\"T_882f8_row23_col5\" class=\"data row23 col5\" >-0.108300</td>\n",
       "      <td id=\"T_882f8_row23_col6\" class=\"data row23 col6\" >-0.050293</td>\n",
       "      <td id=\"T_882f8_row23_col7\" class=\"data row23 col7\" >-0.186343</td>\n",
       "      <td id=\"T_882f8_row23_col8\" class=\"data row23 col8\" >0.075212</td>\n",
       "      <td id=\"T_882f8_row23_col9\" class=\"data row23 col9\" >0.074164</td>\n",
       "      <td id=\"T_882f8_row23_col10\" class=\"data row23 col10\" >0.077078</td>\n",
       "      <td id=\"T_882f8_row23_col11\" class=\"data row23 col11\" >0.031314</td>\n",
       "      <td id=\"T_882f8_row23_col12\" class=\"data row23 col12\" >0.081191</td>\n",
       "      <td id=\"T_882f8_row23_col13\" class=\"data row23 col13\" >0.002265</td>\n",
       "      <td id=\"T_882f8_row23_col14\" class=\"data row23 col14\" >0.016451</td>\n",
       "      <td id=\"T_882f8_row23_col15\" class=\"data row23 col15\" >0.031996</td>\n",
       "      <td id=\"T_882f8_row23_col16\" class=\"data row23 col16\" >0.044663</td>\n",
       "      <td id=\"T_882f8_row23_col17\" class=\"data row23 col17\" >0.036941</td>\n",
       "      <td id=\"T_882f8_row23_col18\" class=\"data row23 col18\" >-0.108939</td>\n",
       "      <td id=\"T_882f8_row23_col19\" class=\"data row23 col19\" >-0.078460</td>\n",
       "      <td id=\"T_882f8_row23_col20\" class=\"data row23 col20\" >-0.194834</td>\n",
       "      <td id=\"T_882f8_row23_col21\" class=\"data row23 col21\" >-0.250182</td>\n",
       "      <td id=\"T_882f8_row23_col22\" class=\"data row23 col22\" >-0.239368</td>\n",
       "      <td id=\"T_882f8_row23_col23\" class=\"data row23 col23\" >1.000000</td>\n",
       "      <td id=\"T_882f8_row23_col24\" class=\"data row23 col24\" >0.097100</td>\n",
       "      <td id=\"T_882f8_row23_col25\" class=\"data row23 col25\" >-0.425606</td>\n",
       "      <td id=\"T_882f8_row23_col26\" class=\"data row23 col26\" >-0.002068</td>\n",
       "      <td id=\"T_882f8_row23_col27\" class=\"data row23 col27\" >0.048683</td>\n",
       "      <td id=\"T_882f8_row23_col28\" class=\"data row23 col28\" >-0.069365</td>\n",
       "      <td id=\"T_882f8_row23_col29\" class=\"data row23 col29\" >-0.057364</td>\n",
       "      <td id=\"T_882f8_row23_col30\" class=\"data row23 col30\" >-0.005017</td>\n",
       "    </tr>\n",
       "    <tr>\n",
       "      <th id=\"T_882f8_level0_row24\" class=\"row_heading level0 row24\" >V24</th>\n",
       "      <td id=\"T_882f8_row24_col0\" class=\"data row24 col0\" >-0.015980</td>\n",
       "      <td id=\"T_882f8_row24_col1\" class=\"data row24 col1\" >-0.000315</td>\n",
       "      <td id=\"T_882f8_row24_col2\" class=\"data row24 col2\" >0.012617</td>\n",
       "      <td id=\"T_882f8_row24_col3\" class=\"data row24 col3\" >-0.000559</td>\n",
       "      <td id=\"T_882f8_row24_col4\" class=\"data row24 col4\" >-0.008782</td>\n",
       "      <td id=\"T_882f8_row24_col5\" class=\"data row24 col5\" >-0.023076</td>\n",
       "      <td id=\"T_882f8_row24_col6\" class=\"data row24 col6\" >-0.135166</td>\n",
       "      <td id=\"T_882f8_row24_col7\" class=\"data row24 col7\" >-0.012879</td>\n",
       "      <td id=\"T_882f8_row24_col8\" class=\"data row24 col8\" >-0.024536</td>\n",
       "      <td id=\"T_882f8_row24_col9\" class=\"data row24 col9\" >-0.001572</td>\n",
       "      <td id=\"T_882f8_row24_col10\" class=\"data row24 col10\" >-0.007778</td>\n",
       "      <td id=\"T_882f8_row24_col11\" class=\"data row24 col11\" >-0.005295</td>\n",
       "      <td id=\"T_882f8_row24_col12\" class=\"data row24 col12\" >-0.001926</td>\n",
       "      <td id=\"T_882f8_row24_col13\" class=\"data row24 col13\" >0.004753</td>\n",
       "      <td id=\"T_882f8_row24_col14\" class=\"data row24 col14\" >-0.022123</td>\n",
       "      <td id=\"T_882f8_row24_col15\" class=\"data row24 col15\" >0.022780</td>\n",
       "      <td id=\"T_882f8_row24_col16\" class=\"data row24 col16\" >-0.029806</td>\n",
       "      <td id=\"T_882f8_row24_col17\" class=\"data row24 col17\" >0.052269</td>\n",
       "      <td id=\"T_882f8_row24_col18\" class=\"data row24 col18\" >-0.047626</td>\n",
       "      <td id=\"T_882f8_row24_col19\" class=\"data row24 col19\" >-0.055560</td>\n",
       "      <td id=\"T_882f8_row24_col20\" class=\"data row24 col20\" >0.041257</td>\n",
       "      <td id=\"T_882f8_row24_col21\" class=\"data row24 col21\" >0.031954</td>\n",
       "      <td id=\"T_882f8_row24_col22\" class=\"data row24 col22\" >0.014669</td>\n",
       "      <td id=\"T_882f8_row24_col23\" class=\"data row24 col23\" >0.097100</td>\n",
       "      <td id=\"T_882f8_row24_col24\" class=\"data row24 col24\" >1.000000</td>\n",
       "      <td id=\"T_882f8_row24_col25\" class=\"data row24 col25\" >0.001259</td>\n",
       "      <td id=\"T_882f8_row24_col26\" class=\"data row24 col26\" >0.005153</td>\n",
       "      <td id=\"T_882f8_row24_col27\" class=\"data row24 col27\" >-0.036420</td>\n",
       "      <td id=\"T_882f8_row24_col28\" class=\"data row24 col28\" >0.046572</td>\n",
       "      <td id=\"T_882f8_row24_col29\" class=\"data row24 col29\" >-0.012550</td>\n",
       "      <td id=\"T_882f8_row24_col30\" class=\"data row24 col30\" >-0.009188</td>\n",
       "    </tr>\n",
       "    <tr>\n",
       "      <th id=\"T_882f8_level0_row25\" class=\"row_heading level0 row25\" >V25</th>\n",
       "      <td id=\"T_882f8_row25_col0\" class=\"data row25 col0\" >-0.259220</td>\n",
       "      <td id=\"T_882f8_row25_col1\" class=\"data row25 col1\" >0.049291</td>\n",
       "      <td id=\"T_882f8_row25_col2\" class=\"data row25 col2\" >-0.085682</td>\n",
       "      <td id=\"T_882f8_row25_col3\" class=\"data row25 col3\" >0.031854</td>\n",
       "      <td id=\"T_882f8_row25_col4\" class=\"data row25 col4\" >0.060647</td>\n",
       "      <td id=\"T_882f8_row25_col5\" class=\"data row25 col5\" >-0.015618</td>\n",
       "      <td id=\"T_882f8_row25_col6\" class=\"data row25 col6\" >-0.011131</td>\n",
       "      <td id=\"T_882f8_row25_col7\" class=\"data row25 col7\" >-0.046468</td>\n",
       "      <td id=\"T_882f8_row25_col8\" class=\"data row25 col8\" >-0.074303</td>\n",
       "      <td id=\"T_882f8_row25_col9\" class=\"data row25 col9\" >-0.022575</td>\n",
       "      <td id=\"T_882f8_row25_col10\" class=\"data row25 col10\" >-0.016904</td>\n",
       "      <td id=\"T_882f8_row25_col11\" class=\"data row25 col11\" >-0.005389</td>\n",
       "      <td id=\"T_882f8_row25_col12\" class=\"data row25 col12\" >0.003252</td>\n",
       "      <td id=\"T_882f8_row25_col13\" class=\"data row25 col13\" >0.002930</td>\n",
       "      <td id=\"T_882f8_row25_col14\" class=\"data row25 col14\" >0.035528</td>\n",
       "      <td id=\"T_882f8_row25_col15\" class=\"data row25 col15\" >0.010777</td>\n",
       "      <td id=\"T_882f8_row25_col16\" class=\"data row25 col16\" >-0.015480</td>\n",
       "      <td id=\"T_882f8_row25_col17\" class=\"data row25 col17\" >0.004485</td>\n",
       "      <td id=\"T_882f8_row25_col18\" class=\"data row25 col18\" >-0.005767</td>\n",
       "      <td id=\"T_882f8_row25_col19\" class=\"data row25 col19\" >0.003658</td>\n",
       "      <td id=\"T_882f8_row25_col20\" class=\"data row25 col20\" >0.044851</td>\n",
       "      <td id=\"T_882f8_row25_col21\" class=\"data row25 col21\" >0.037247</td>\n",
       "      <td id=\"T_882f8_row25_col22\" class=\"data row25 col22\" >0.028557</td>\n",
       "      <td id=\"T_882f8_row25_col23\" class=\"data row25 col23\" >-0.425606</td>\n",
       "      <td id=\"T_882f8_row25_col24\" class=\"data row25 col24\" >0.001259</td>\n",
       "      <td id=\"T_882f8_row25_col25\" class=\"data row25 col25\" >1.000000</td>\n",
       "      <td id=\"T_882f8_row25_col26\" class=\"data row25 col26\" >-0.052895</td>\n",
       "      <td id=\"T_882f8_row25_col27\" class=\"data row25 col27\" >-0.091530</td>\n",
       "      <td id=\"T_882f8_row25_col28\" class=\"data row25 col28\" >-0.052147</td>\n",
       "      <td id=\"T_882f8_row25_col29\" class=\"data row25 col29\" >0.023020</td>\n",
       "      <td id=\"T_882f8_row25_col30\" class=\"data row25 col30\" >0.004682</td>\n",
       "    </tr>\n",
       "    <tr>\n",
       "      <th id=\"T_882f8_level0_row26\" class=\"row_heading level0 row26\" >V26</th>\n",
       "      <td id=\"T_882f8_row26_col0\" class=\"data row26 col0\" >0.000132</td>\n",
       "      <td id=\"T_882f8_row26_col1\" class=\"data row26 col1\" >0.006380</td>\n",
       "      <td id=\"T_882f8_row26_col2\" class=\"data row26 col2\" >0.033865</td>\n",
       "      <td id=\"T_882f8_row26_col3\" class=\"data row26 col3\" >-0.016689</td>\n",
       "      <td id=\"T_882f8_row26_col4\" class=\"data row26 col4\" >-0.064357</td>\n",
       "      <td id=\"T_882f8_row26_col5\" class=\"data row26 col5\" >0.029513</td>\n",
       "      <td id=\"T_882f8_row26_col6\" class=\"data row26 col6\" >-0.023932</td>\n",
       "      <td id=\"T_882f8_row26_col7\" class=\"data row26 col7\" >0.016724</td>\n",
       "      <td id=\"T_882f8_row26_col8\" class=\"data row26 col8\" >-0.007648</td>\n",
       "      <td id=\"T_882f8_row26_col9\" class=\"data row26 col9\" >0.026677</td>\n",
       "      <td id=\"T_882f8_row26_col10\" class=\"data row26 col10\" >-0.026877</td>\n",
       "      <td id=\"T_882f8_row26_col11\" class=\"data row26 col11\" >-0.005930</td>\n",
       "      <td id=\"T_882f8_row26_col12\" class=\"data row26 col12\" >0.011659</td>\n",
       "      <td id=\"T_882f8_row26_col13\" class=\"data row26 col13\" >-0.003904</td>\n",
       "      <td id=\"T_882f8_row26_col14\" class=\"data row26 col14\" >-0.004562</td>\n",
       "      <td id=\"T_882f8_row26_col15\" class=\"data row26 col15\" >-0.016134</td>\n",
       "      <td id=\"T_882f8_row26_col16\" class=\"data row26 col16\" >0.042409</td>\n",
       "      <td id=\"T_882f8_row26_col17\" class=\"data row26 col17\" >-0.008512</td>\n",
       "      <td id=\"T_882f8_row26_col18\" class=\"data row26 col18\" >-0.026689</td>\n",
       "      <td id=\"T_882f8_row26_col19\" class=\"data row26 col19\" >-0.015603</td>\n",
       "      <td id=\"T_882f8_row26_col20\" class=\"data row26 col20\" >0.046991</td>\n",
       "      <td id=\"T_882f8_row26_col21\" class=\"data row26 col21\" >-0.039867</td>\n",
       "      <td id=\"T_882f8_row26_col22\" class=\"data row26 col22\" >-0.039765</td>\n",
       "      <td id=\"T_882f8_row26_col23\" class=\"data row26 col23\" >-0.002068</td>\n",
       "      <td id=\"T_882f8_row26_col24\" class=\"data row26 col24\" >0.005153</td>\n",
       "      <td id=\"T_882f8_row26_col25\" class=\"data row26 col25\" >-0.052895</td>\n",
       "      <td id=\"T_882f8_row26_col26\" class=\"data row26 col26\" >1.000000</td>\n",
       "      <td id=\"T_882f8_row26_col27\" class=\"data row26 col27\" >-0.163095</td>\n",
       "      <td id=\"T_882f8_row26_col28\" class=\"data row26 col28\" >-0.021550</td>\n",
       "      <td id=\"T_882f8_row26_col29\" class=\"data row26 col29\" >-0.066698</td>\n",
       "      <td id=\"T_882f8_row26_col30\" class=\"data row26 col30\" >0.005466</td>\n",
       "    </tr>\n",
       "    <tr>\n",
       "      <th id=\"T_882f8_level0_row27\" class=\"row_heading level0 row27\" >V27</th>\n",
       "      <td id=\"T_882f8_row27_col0\" class=\"data row27 col0\" >-0.035063</td>\n",
       "      <td id=\"T_882f8_row27_col1\" class=\"data row27 col1\" >-0.104815</td>\n",
       "      <td id=\"T_882f8_row27_col2\" class=\"data row27 col2\" >0.129234</td>\n",
       "      <td id=\"T_882f8_row27_col3\" class=\"data row27 col3\" >0.140724</td>\n",
       "      <td id=\"T_882f8_row27_col4\" class=\"data row27 col4\" >-0.033634</td>\n",
       "      <td id=\"T_882f8_row27_col5\" class=\"data row27 col5\" >0.012883</td>\n",
       "      <td id=\"T_882f8_row27_col6\" class=\"data row27 col6\" >0.073772</td>\n",
       "      <td id=\"T_882f8_row27_col7\" class=\"data row27 col7\" >-0.094494</td>\n",
       "      <td id=\"T_882f8_row27_col8\" class=\"data row27 col8\" >0.189916</td>\n",
       "      <td id=\"T_882f8_row27_col9\" class=\"data row27 col9\" >-0.001804</td>\n",
       "      <td id=\"T_882f8_row27_col10\" class=\"data row27 col10\" >-0.020471</td>\n",
       "      <td id=\"T_882f8_row27_col11\" class=\"data row27 col11\" >-0.026304</td>\n",
       "      <td id=\"T_882f8_row27_col12\" class=\"data row27 col12\" >0.028654</td>\n",
       "      <td id=\"T_882f8_row27_col13\" class=\"data row27 col13\" >0.003783</td>\n",
       "      <td id=\"T_882f8_row27_col14\" class=\"data row27 col14\" >-0.090996</td>\n",
       "      <td id=\"T_882f8_row27_col15\" class=\"data row27 col15\" >0.029202</td>\n",
       "      <td id=\"T_882f8_row27_col16\" class=\"data row27 col16\" >-0.046068</td>\n",
       "      <td id=\"T_882f8_row27_col17\" class=\"data row27 col17\" >0.045756</td>\n",
       "      <td id=\"T_882f8_row27_col18\" class=\"data row27 col18\" >0.020533</td>\n",
       "      <td id=\"T_882f8_row27_col19\" class=\"data row27 col19\" >-0.018541</td>\n",
       "      <td id=\"T_882f8_row27_col20\" class=\"data row27 col20\" >0.103674</td>\n",
       "      <td id=\"T_882f8_row27_col21\" class=\"data row27 col21\" >-0.026841</td>\n",
       "      <td id=\"T_882f8_row27_col22\" class=\"data row27 col22\" >0.072514</td>\n",
       "      <td id=\"T_882f8_row27_col23\" class=\"data row27 col23\" >0.048683</td>\n",
       "      <td id=\"T_882f8_row27_col24\" class=\"data row27 col24\" >-0.036420</td>\n",
       "      <td id=\"T_882f8_row27_col25\" class=\"data row27 col25\" >-0.091530</td>\n",
       "      <td id=\"T_882f8_row27_col26\" class=\"data row27 col26\" >-0.163095</td>\n",
       "      <td id=\"T_882f8_row27_col27\" class=\"data row27 col27\" >1.000000</td>\n",
       "      <td id=\"T_882f8_row27_col28\" class=\"data row27 col28\" >0.458497</td>\n",
       "      <td id=\"T_882f8_row27_col29\" class=\"data row27 col29\" >-0.126824</td>\n",
       "      <td id=\"T_882f8_row27_col30\" class=\"data row27 col30\" >0.028311</td>\n",
       "    </tr>\n",
       "    <tr>\n",
       "      <th id=\"T_882f8_level0_row28\" class=\"row_heading level0 row28\" >V28</th>\n",
       "      <td id=\"T_882f8_row28_col0\" class=\"data row28 col0\" >-0.143200</td>\n",
       "      <td id=\"T_882f8_row28_col1\" class=\"data row28 col1\" >-0.207967</td>\n",
       "      <td id=\"T_882f8_row28_col2\" class=\"data row28 col2\" >0.137976</td>\n",
       "      <td id=\"T_882f8_row28_col3\" class=\"data row28 col3\" >0.180169</td>\n",
       "      <td id=\"T_882f8_row28_col4\" class=\"data row28 col4\" >0.004757</td>\n",
       "      <td id=\"T_882f8_row28_col5\" class=\"data row28 col5\" >-0.027806</td>\n",
       "      <td id=\"T_882f8_row28_col6\" class=\"data row28 col6\" >0.020459</td>\n",
       "      <td id=\"T_882f8_row28_col7\" class=\"data row28 col7\" >0.056405</td>\n",
       "      <td id=\"T_882f8_row28_col8\" class=\"data row28 col8\" >0.089700</td>\n",
       "      <td id=\"T_882f8_row28_col9\" class=\"data row28 col9\" >-0.103743</td>\n",
       "      <td id=\"T_882f8_row28_col10\" class=\"data row28 col10\" >-0.130545</td>\n",
       "      <td id=\"T_882f8_row28_col11\" class=\"data row28 col11\" >-0.027859</td>\n",
       "      <td id=\"T_882f8_row28_col12\" class=\"data row28 col12\" >-0.007827</td>\n",
       "      <td id=\"T_882f8_row28_col13\" class=\"data row28 col13\" >-0.006607</td>\n",
       "      <td id=\"T_882f8_row28_col14\" class=\"data row28 col14\" >-0.018130</td>\n",
       "      <td id=\"T_882f8_row28_col15\" class=\"data row28 col15\" >0.038744</td>\n",
       "      <td id=\"T_882f8_row28_col16\" class=\"data row28 col16\" >-0.010306</td>\n",
       "      <td id=\"T_882f8_row28_col17\" class=\"data row28 col17\" >0.064973</td>\n",
       "      <td id=\"T_882f8_row28_col18\" class=\"data row28 col18\" >0.022941</td>\n",
       "      <td id=\"T_882f8_row28_col19\" class=\"data row28 col19\" >-0.040927</td>\n",
       "      <td id=\"T_882f8_row28_col20\" class=\"data row28 col20\" >0.275061</td>\n",
       "      <td id=\"T_882f8_row28_col21\" class=\"data row28 col21\" >0.067260</td>\n",
       "      <td id=\"T_882f8_row28_col22\" class=\"data row28 col22\" >-0.036970</td>\n",
       "      <td id=\"T_882f8_row28_col23\" class=\"data row28 col23\" >-0.069365</td>\n",
       "      <td id=\"T_882f8_row28_col24\" class=\"data row28 col24\" >0.046572</td>\n",
       "      <td id=\"T_882f8_row28_col25\" class=\"data row28 col25\" >-0.052147</td>\n",
       "      <td id=\"T_882f8_row28_col26\" class=\"data row28 col26\" >-0.021550</td>\n",
       "      <td id=\"T_882f8_row28_col27\" class=\"data row28 col27\" >0.458497</td>\n",
       "      <td id=\"T_882f8_row28_col28\" class=\"data row28 col28\" >1.000000</td>\n",
       "      <td id=\"T_882f8_row28_col29\" class=\"data row28 col29\" >0.010416</td>\n",
       "      <td id=\"T_882f8_row28_col30\" class=\"data row28 col30\" >0.020417</td>\n",
       "    </tr>\n",
       "    <tr>\n",
       "      <th id=\"T_882f8_level0_row29\" class=\"row_heading level0 row29\" >Amount</th>\n",
       "      <td id=\"T_882f8_row29_col0\" class=\"data row29 col0\" >-0.040007</td>\n",
       "      <td id=\"T_882f8_row29_col1\" class=\"data row29 col1\" >-0.086663</td>\n",
       "      <td id=\"T_882f8_row29_col2\" class=\"data row29 col2\" >-0.502052</td>\n",
       "      <td id=\"T_882f8_row29_col3\" class=\"data row29 col3\" >-0.000236</td>\n",
       "      <td id=\"T_882f8_row29_col4\" class=\"data row29 col4\" >-0.022117</td>\n",
       "      <td id=\"T_882f8_row29_col5\" class=\"data row29 col5\" >-0.314061</td>\n",
       "      <td id=\"T_882f8_row29_col6\" class=\"data row29 col6\" >0.205452</td>\n",
       "      <td id=\"T_882f8_row29_col7\" class=\"data row29 col7\" >-0.030003</td>\n",
       "      <td id=\"T_882f8_row29_col8\" class=\"data row29 col8\" >0.004371</td>\n",
       "      <td id=\"T_882f8_row29_col9\" class=\"data row29 col9\" >-0.077437</td>\n",
       "      <td id=\"T_882f8_row29_col10\" class=\"data row29 col10\" >0.054835</td>\n",
       "      <td id=\"T_882f8_row29_col11\" class=\"data row29 col11\" >-0.044158</td>\n",
       "      <td id=\"T_882f8_row29_col12\" class=\"data row29 col12\" >-0.038711</td>\n",
       "      <td id=\"T_882f8_row29_col13\" class=\"data row29 col13\" >-0.005677</td>\n",
       "      <td id=\"T_882f8_row29_col14\" class=\"data row29 col14\" >-0.004950</td>\n",
       "      <td id=\"T_882f8_row29_col15\" class=\"data row29 col15\" >-0.071849</td>\n",
       "      <td id=\"T_882f8_row29_col16\" class=\"data row29 col16\" >-0.106322</td>\n",
       "      <td id=\"T_882f8_row29_col17\" class=\"data row29 col17\" >0.053967</td>\n",
       "      <td id=\"T_882f8_row29_col18\" class=\"data row29 col18\" >0.047713</td>\n",
       "      <td id=\"T_882f8_row29_col19\" class=\"data row29 col19\" >-0.009394</td>\n",
       "      <td id=\"T_882f8_row29_col20\" class=\"data row29 col20\" >0.201151</td>\n",
       "      <td id=\"T_882f8_row29_col21\" class=\"data row29 col21\" >0.194075</td>\n",
       "      <td id=\"T_882f8_row29_col22\" class=\"data row29 col22\" >0.080227</td>\n",
       "      <td id=\"T_882f8_row29_col23\" class=\"data row29 col23\" >-0.057364</td>\n",
       "      <td id=\"T_882f8_row29_col24\" class=\"data row29 col24\" >-0.012550</td>\n",
       "      <td id=\"T_882f8_row29_col25\" class=\"data row29 col25\" >0.023020</td>\n",
       "      <td id=\"T_882f8_row29_col26\" class=\"data row29 col26\" >-0.066698</td>\n",
       "      <td id=\"T_882f8_row29_col27\" class=\"data row29 col27\" >-0.126824</td>\n",
       "      <td id=\"T_882f8_row29_col28\" class=\"data row29 col28\" >0.010416</td>\n",
       "      <td id=\"T_882f8_row29_col29\" class=\"data row29 col29\" >1.000000</td>\n",
       "      <td id=\"T_882f8_row29_col30\" class=\"data row29 col30\" >-0.008339</td>\n",
       "    </tr>\n",
       "    <tr>\n",
       "      <th id=\"T_882f8_level0_row30\" class=\"row_heading level0 row30\" >Class</th>\n",
       "      <td id=\"T_882f8_row30_col0\" class=\"data row30 col0\" >-0.011692</td>\n",
       "      <td id=\"T_882f8_row30_col1\" class=\"data row30 col1\" >-0.042424</td>\n",
       "      <td id=\"T_882f8_row30_col2\" class=\"data row30 col2\" >0.051062</td>\n",
       "      <td id=\"T_882f8_row30_col3\" class=\"data row30 col3\" >-0.059278</td>\n",
       "      <td id=\"T_882f8_row30_col4\" class=\"data row30 col4\" >0.063045</td>\n",
       "      <td id=\"T_882f8_row30_col5\" class=\"data row30 col5\" >-0.030147</td>\n",
       "      <td id=\"T_882f8_row30_col6\" class=\"data row30 col6\" >-0.038410</td>\n",
       "      <td id=\"T_882f8_row30_col7\" class=\"data row30 col7\" >-0.048308</td>\n",
       "      <td id=\"T_882f8_row30_col8\" class=\"data row30 col8\" >0.022706</td>\n",
       "      <td id=\"T_882f8_row30_col9\" class=\"data row30 col9\" >-0.049499</td>\n",
       "      <td id=\"T_882f8_row30_col10\" class=\"data row30 col10\" >-0.059564</td>\n",
       "      <td id=\"T_882f8_row30_col11\" class=\"data row30 col11\" >0.060143</td>\n",
       "      <td id=\"T_882f8_row30_col12\" class=\"data row30 col12\" >-0.062870</td>\n",
       "      <td id=\"T_882f8_row30_col13\" class=\"data row30 col13\" >-0.003653</td>\n",
       "      <td id=\"T_882f8_row30_col14\" class=\"data row30 col14\" >-0.064613</td>\n",
       "      <td id=\"T_882f8_row30_col15\" class=\"data row30 col15\" >-0.002841</td>\n",
       "      <td id=\"T_882f8_row30_col16\" class=\"data row30 col16\" >-0.049936</td>\n",
       "      <td id=\"T_882f8_row30_col17\" class=\"data row30 col17\" >-0.044335</td>\n",
       "      <td id=\"T_882f8_row30_col18\" class=\"data row30 col18\" >-0.034872</td>\n",
       "      <td id=\"T_882f8_row30_col19\" class=\"data row30 col19\" >0.022546</td>\n",
       "      <td id=\"T_882f8_row30_col20\" class=\"data row30 col20\" >0.021574</td>\n",
       "      <td id=\"T_882f8_row30_col21\" class=\"data row30 col21\" >0.035442</td>\n",
       "      <td id=\"T_882f8_row30_col22\" class=\"data row30 col22\" >0.002083</td>\n",
       "      <td id=\"T_882f8_row30_col23\" class=\"data row30 col23\" >-0.005017</td>\n",
       "      <td id=\"T_882f8_row30_col24\" class=\"data row30 col24\" >-0.009188</td>\n",
       "      <td id=\"T_882f8_row30_col25\" class=\"data row30 col25\" >0.004682</td>\n",
       "      <td id=\"T_882f8_row30_col26\" class=\"data row30 col26\" >0.005466</td>\n",
       "      <td id=\"T_882f8_row30_col27\" class=\"data row30 col27\" >0.028311</td>\n",
       "      <td id=\"T_882f8_row30_col28\" class=\"data row30 col28\" >0.020417</td>\n",
       "      <td id=\"T_882f8_row30_col29\" class=\"data row30 col29\" >-0.008339</td>\n",
       "      <td id=\"T_882f8_row30_col30\" class=\"data row30 col30\" >1.000000</td>\n",
       "    </tr>\n",
       "  </tbody>\n",
       "</table>\n"
      ],
      "text/plain": [
       "<pandas.io.formats.style.Styler at 0x1ba4ac13820>"
      ]
     },
     "execution_count": 3,
     "metadata": {},
     "output_type": "execute_result"
    }
   ],
   "source": [
    "# Utilizando Spearman devido a não Normalidade da resposta.\n",
    "corr = base.corr(method = 'spearman')\n",
    "corr.style.background_gradient(cmap='coolwarm')"
   ]
  },
  {
   "cell_type": "markdown",
   "id": "86806357",
   "metadata": {},
   "source": [
    "# Obtendo as features que podem ser incluídas no modelo"
   ]
  },
  {
   "cell_type": "markdown",
   "id": "41beb7eb",
   "metadata": {},
   "source": [
    "Utilizar o feature selector Boruta, que já vinha do R.\n",
    "\n",
    "A Ideia por trás do Algoritmo do Boruta, é apresentar quais variáveis possuem o melhor grau de informação à serem implementadas no modelo.\n",
    "\n",
    "#### O Boruta nos ajuda a avaliar a correlação Linear e NÃO Linear, além da multicolinearidade.\n",
    "\n",
    "Assim, teremos as features corretas para evitarmos Overfit dos Modelos"
   ]
  },
  {
   "cell_type": "markdown",
   "id": "8e726e23",
   "metadata": {},
   "source": [
    "Devido a sintaxe do Boruta exigir array's do DataFrame, fazemos as modificações abaixo:"
   ]
  },
  {
   "cell_type": "code",
   "execution_count": 8,
   "id": "1698ea62",
   "metadata": {},
   "outputs": [
    {
     "name": "stdout",
     "output_type": "stream",
     "text": [
      "[[ 0.00000000e+00 -1.35980713e+00 -7.27811733e-02 ...  1.33558377e-01\n",
      "  -2.10530535e-02  1.49620000e+02]\n",
      " [ 0.00000000e+00  1.19185711e+00  2.66150712e-01 ... -8.98309914e-03\n",
      "   1.47241692e-02  2.69000000e+00]\n",
      " [ 1.00000000e+00 -1.35835406e+00 -1.34016307e+00 ... -5.53527940e-02\n",
      "  -5.97518406e-02  3.78660000e+02]\n",
      " ...\n",
      " [ 1.72788000e+05  1.91956501e+00 -3.01253846e-01 ...  4.45477214e-03\n",
      "  -2.65608286e-02  6.78800000e+01]\n",
      " [ 1.72788000e+05 -2.40440050e-01  5.30482513e-01 ...  1.08820735e-01\n",
      "   1.04532821e-01  1.00000000e+01]\n",
      " [ 1.72792000e+05 -5.33412522e-01 -1.89733337e-01 ... -2.41530880e-03\n",
      "   1.36489143e-02  2.17000000e+02]]\n"
     ]
    },
    {
     "data": {
      "text/plain": [
       "numpy.ndarray"
      ]
     },
     "execution_count": 8,
     "metadata": {},
     "output_type": "execute_result"
    }
   ],
   "source": [
    "#x = base[['V1']].to_numpy()\n",
    "#y = base[['Class']].to_numpy()\n",
    "\n",
    "X_treino = base.drop(['Class'], axis = 1).to_numpy()\n",
    "y_treino = base.Class.to_numpy()\n",
    "\n",
    "X = base.drop(['Class'], axis =1)\n",
    "\n",
    "print(X_treino)\n",
    "type(X_treino)"
   ]
  },
  {
   "cell_type": "markdown",
   "id": "0759678b",
   "metadata": {},
   "source": [
    "# Algoritmo Boruta\n",
    "\n",
    "## Porque utilizar o Boruta?\n",
    "\n",
    "Boruta é um selecionador de features para a criação dos modelos, selecionamos as melhores features mais informativas para evitar overfit"
   ]
  },
  {
   "cell_type": "code",
   "execution_count": 17,
   "id": "0a49ef3b",
   "metadata": {},
   "outputs": [],
   "source": [
    "# Iniciando o Boruta\n",
    "forest = RandomForestClassifier()\n",
    "boruta = BorutaPy(\n",
    "   estimator = forest,\n",
    "    n_estimators = 10,\n",
    "   max_iter = 20 # number of trials to perform\n",
    ")"
   ]
  },
  {
   "cell_type": "code",
   "execution_count": 18,
   "id": "c655fd7f",
   "metadata": {},
   "outputs": [
    {
     "data": {
      "text/plain": [
       "BorutaPy(estimator=RandomForestClassifier(n_estimators=10,\n",
       "                                          random_state=RandomState(MT19937) at 0x225D0A87840),\n",
       "         max_iter=20, n_estimators=10,\n",
       "         random_state=RandomState(MT19937) at 0x225D0A87840)"
      ]
     },
     "execution_count": 18,
     "metadata": {},
     "output_type": "execute_result"
    }
   ],
   "source": [
    "# fitando o Boruta\n",
    "boruta.fit(X_treino, y_treino)"
   ]
  },
  {
   "cell_type": "code",
   "execution_count": 19,
   "id": "d90169a6",
   "metadata": {},
   "outputs": [],
   "source": [
    "# printando os resultados das variáveis que o Boruta obteve\n",
    "green_area = X.columns[boruta.support_].to_list()\n",
    "blue_area = X.columns[boruta.support_weak_].to_list()"
   ]
  },
  {
   "cell_type": "code",
   "execution_count": 20,
   "id": "274cac01",
   "metadata": {},
   "outputs": [
    {
     "name": "stdout",
     "output_type": "stream",
     "text": [
      "features in the green area: ['Time', 'V3', 'V4', 'V5', 'V7', 'V8', 'V9', 'V10', 'V11', 'V12', 'V14', 'V16', 'V17', 'V18', 'V20', 'V21', 'V26']\n",
      "features in the blue area: ['V1', 'V2', 'V6', 'V15', 'V19', 'V27', 'V28', 'Amount']\n"
     ]
    }
   ],
   "source": [
    "print('features in the green area:', green_area)\n",
    "print('features in the blue area:', blue_area)"
   ]
  },
  {
   "cell_type": "markdown",
   "id": "53d0fc09",
   "metadata": {},
   "source": [
    "# Retirar dos dados as features que não foram apresentadas no Boruta"
   ]
  },
  {
   "cell_type": "code",
   "execution_count": 9,
   "id": "4d5e9629",
   "metadata": {},
   "outputs": [],
   "source": [
    "db = base.drop(['V13','V22','V23','V24','V25','Class'], axis =1)\n",
    "y_db = base['Class']"
   ]
  },
  {
   "cell_type": "markdown",
   "id": "a4b1a7ca",
   "metadata": {},
   "source": [
    "Transformando as variáveis abaixo em Array's para entrar no Cross Validation"
   ]
  },
  {
   "cell_type": "code",
   "execution_count": 10,
   "id": "6b3b757f",
   "metadata": {},
   "outputs": [
    {
     "name": "stdout",
     "output_type": "stream",
     "text": [
      "[[ 0.00000000e+00 -1.35980713e+00 -7.27811733e-02 ...  1.33558377e-01\n",
      "  -2.10530535e-02  1.49620000e+02]\n",
      " [ 0.00000000e+00  1.19185711e+00  2.66150712e-01 ... -8.98309914e-03\n",
      "   1.47241692e-02  2.69000000e+00]\n",
      " [ 1.00000000e+00 -1.35835406e+00 -1.34016307e+00 ... -5.53527940e-02\n",
      "  -5.97518406e-02  3.78660000e+02]\n",
      " ...\n",
      " [ 1.72788000e+05  1.91956501e+00 -3.01253846e-01 ...  4.45477214e-03\n",
      "  -2.65608286e-02  6.78800000e+01]\n",
      " [ 1.72788000e+05 -2.40440050e-01  5.30482513e-01 ...  1.08820735e-01\n",
      "   1.04532821e-01  1.00000000e+01]\n",
      " [ 1.72792000e+05 -5.33412522e-01 -1.89733337e-01 ... -2.41530880e-03\n",
      "   1.36489143e-02  2.17000000e+02]]\n",
      "[0 0 0 ... 0 0 0]\n"
     ]
    }
   ],
   "source": [
    "X_validacao = db.to_numpy()\n",
    "y_validacao = y_db.to_numpy()\n",
    "\n",
    "print(X_validacao)\n",
    "print(y_validacao)"
   ]
  },
  {
   "cell_type": "markdown",
   "id": "89f5f75f",
   "metadata": {},
   "source": [
    "\n",
    "\n",
    "#  Modelo de árvore de decisão - DTC\n",
    "\n",
    "## Validação K-Fold"
   ]
  },
  {
   "cell_type": "code",
   "execution_count": 12,
   "id": "90eaa02d",
   "metadata": {},
   "outputs": [],
   "source": [
    "clf = tree.DecisionTreeClassifier()"
   ]
  },
  {
   "cell_type": "markdown",
   "id": "eb184dbe",
   "metadata": {},
   "source": [
    "Abaixo, segue as modificações utilizadas para adaptar os códigos da função.\n",
    "\n",
    "Tais funções foram adaptadas Iniabasi Affiah, no site: https://www.section.io/engineering-education/how-to-implement-k-fold-cross-validation/\n",
    "\n",
    "### Qual métrica de função custo, deveria ser utilizada?\n",
    "\n",
    "#### Optei pelo uso da Roc_auc e Average precision, segundo as leituras que realizei, Acurácia está fora de cogitação, devido ao desbalanceamento dos dados, Recall ou Precision também não nos auxiliam completamente."
   ]
  },
  {
   "cell_type": "markdown",
   "id": "436486f4",
   "metadata": {},
   "source": [
    "### Através da modificação abaixo, é possível obter a expressão das funções custo, Acurácia, Precisão, F1_score e Recall."
   ]
  },
  {
   "cell_type": "code",
   "execution_count": 11,
   "id": "e55d6478",
   "metadata": {},
   "outputs": [],
   "source": [
    "def cross_validation(model, _X, _y, _cv=5):\n",
    "      _scoring = ['accuracy','precision','recall','roc_auc', 'average_precision']\n",
    "      results = cross_validate(estimator=model,\n",
    "                               X=_X,\n",
    "                               y=_y,\n",
    "                               cv=_cv,\n",
    "                               scoring=_scoring,\n",
    "                               return_train_score=True)\n",
    "      \n",
    "      return {\"Training Accuracy scores\": results['train_accuracy'],\n",
    "              \"Mean Training Accuracy\": results['train_accuracy'].mean()*100,\n",
    "              \"Training Precision scores\": results['train_precision'],\n",
    "              \"Mean Training Precision\": results['train_precision'].mean(),\n",
    "              \"Training Average precision scores\": results['train_average_precision'],\n",
    "              \"Mean Training Average precision\": results['train_average_precision'].mean(),\n",
    "              \"Training Roc_Auc\": results['train_roc_auc'],\n",
    "              \"Mean Roc_Auc\": results['train_roc_auc'].mean(),\n",
    "              \"Validation Accuracy scores\": results['test_accuracy'],\n",
    "              \"Mean Validation Accuracy\": results['test_accuracy'].mean()*100,\n",
    "              \"Validation Precision scores\": results['test_precision'],\n",
    "              \"Mean Validation Precision\": results['test_precision'].mean(),\n",
    "              \"Average Precision Score\": results['test_average_precision'],\n",
    "              \"Mean Average Precision Score\": results['test_average_precision'].mean(),\n",
    "              \"Roc Auc Score\": results['test_roc_auc'],\n",
    "              \"Mean Roc Auc Score\": results['test_roc_auc'].mean()\n",
    "              }"
   ]
  },
  {
   "cell_type": "code",
   "execution_count": 12,
   "id": "c8f598d6",
   "metadata": {},
   "outputs": [],
   "source": [
    "def plot_result(x_label, y_label, plot_title, train_data, val_data):\n",
    "        '''Function to plot a grouped bar chart showing the training and validation\n",
    "          results of the ML model in each fold after applying K-fold cross-validation.\n",
    "         Parameters\n",
    "         ----------\n",
    "         x_label: str, \n",
    "            Name of the algorithm used for training e.g 'Decision Tree'\n",
    "          \n",
    "         y_label: str, \n",
    "            Name of metric being visualized e.g 'Accuracy'\n",
    "         plot_title: str, \n",
    "            This is the title of the plot e.g 'Accuracy Plot'\n",
    "         \n",
    "         train_result: list, array\n",
    "            This is the list containing either training precision, accuracy, or f1 score.\n",
    "        \n",
    "         val_result: list, array\n",
    "            This is the list containing either validation precision, accuracy, or f1 score.\n",
    "         Returns\n",
    "         -------\n",
    "         The function returns a Grouped Barchart showing the training and validation result\n",
    "         in each fold.\n",
    "        '''\n",
    "        \n",
    "        # Set size of plot\n",
    "        plt.figure(figsize=(12,6))\n",
    "        labels = [\"1st Fold\", \"2nd Fold\", \"3rd Fold\", \"4th Fold\", \"5th Fold\"]\n",
    "        X_axis = np.arange(len(labels))\n",
    "        ax = plt.gca()\n",
    "        plt.ylim(0.40000, 1)\n",
    "        plt.bar(X_axis-0.2, train_data, 0.4, color='blue', label='Training')\n",
    "        plt.bar(X_axis+0.2, val_data, 0.4, color='red', label='Validation')\n",
    "        plt.title(plot_title, fontsize=30)\n",
    "        plt.xticks(X_axis, labels)\n",
    "        plt.xlabel(x_label, fontsize=14)\n",
    "        plt.ylabel(y_label, fontsize=14)\n",
    "        plt.legend()\n",
    "        plt.grid(True)\n",
    "        plt.show()"
   ]
  },
  {
   "cell_type": "markdown",
   "id": "b08bb74a",
   "metadata": {},
   "source": [
    "### Plotando as métricas possíveis para incluir no DTC"
   ]
  },
  {
   "cell_type": "code",
   "execution_count": 30,
   "id": "b2c8fa82",
   "metadata": {},
   "outputs": [
    {
     "data": {
      "text/plain": [
       "dict_keys(['explained_variance', 'r2', 'max_error', 'neg_median_absolute_error', 'neg_mean_absolute_error', 'neg_mean_absolute_percentage_error', 'neg_mean_squared_error', 'neg_mean_squared_log_error', 'neg_root_mean_squared_error', 'neg_mean_poisson_deviance', 'neg_mean_gamma_deviance', 'accuracy', 'top_k_accuracy', 'roc_auc', 'roc_auc_ovr', 'roc_auc_ovo', 'roc_auc_ovr_weighted', 'roc_auc_ovo_weighted', 'balanced_accuracy', 'average_precision', 'neg_log_loss', 'neg_brier_score', 'adjusted_rand_score', 'rand_score', 'homogeneity_score', 'completeness_score', 'v_measure_score', 'mutual_info_score', 'adjusted_mutual_info_score', 'normalized_mutual_info_score', 'fowlkes_mallows_score', 'precision', 'precision_macro', 'precision_micro', 'precision_samples', 'precision_weighted', 'recall', 'recall_macro', 'recall_micro', 'recall_samples', 'recall_weighted', 'f1', 'f1_macro', 'f1_micro', 'f1_samples', 'f1_weighted', 'jaccard', 'jaccard_macro', 'jaccard_micro', 'jaccard_samples', 'jaccard_weighted'])"
      ]
     },
     "execution_count": 30,
     "metadata": {},
     "output_type": "execute_result"
    }
   ],
   "source": [
    "sk.metrics.SCORERS.keys()"
   ]
  },
  {
   "cell_type": "markdown",
   "id": "15d9a46f",
   "metadata": {},
   "source": [
    "# Rodando o K-Fold"
   ]
  },
  {
   "cell_type": "markdown",
   "id": "41a96c1a",
   "metadata": {},
   "source": [
    "Rodamos um K-fold para testar a robustes do modelom de DTC\n",
    "\n",
    "\n",
    "Através das funções que foram modificadas acima, contextualizadas, vamos utilizar as modificações feitas anteriormente nas variáveis para desenvolver a validação cruzada e obter a função custo"
   ]
  },
  {
   "cell_type": "code",
   "execution_count": 38,
   "id": "5bb6f001",
   "metadata": {},
   "outputs": [
    {
     "name": "stdout",
     "output_type": "stream",
     "text": [
      "{'Training Accuracy scores': array([1., 1., 1., 1., 1.]), 'Mean Training Accuracy': 100.0, 'Training Precision scores': array([1., 1., 1., 1., 1.]), 'Mean Training Precision': 1.0, 'Training Average precision scores': array([1., 1., 1., 1., 1.]), 'Mean Training Average precision': 1.0, 'Training Roc_Auc': array([1., 1., 1., 1., 1.]), 'Mean Roc_Auc': 1.0, 'Validation Accuracy scores': array([0.00609178, 0.99910467, 0.9950668 , 0.99899932, 0.99892909]), 'Mean Validation Accuracy': 79.96383308002082, 'Validation Precision scores': array([0.00164015, 0.82432432, 0.2       , 0.68807339, 0.71264368]), 'Mean Validation Precision': 0.4853363101534239, 'Average Precision Score': array([0.00164608, 0.50858412, 0.12513936, 0.52699057, 0.45148822]), 'Mean Average Precision Score': 0.3227696697744124, 'Roc Auc Score': array([0.47193041, 0.8079665 , 0.80907898, 0.8823541 , 0.8161067 ]), 'Mean Roc Auc Score': 0.7574873378881006}\n"
     ]
    }
   ],
   "source": [
    "Val = cross_validation(clf,X_validacao, y_validacao, _cv=5)\n",
    "print(Val)\n",
    "\n",
    "#Manaus isso aqui ta bom?\n",
    "\n",
    "#Plotei os gráficos das normais pra ver como se distribuem"
   ]
  },
  {
   "cell_type": "markdown",
   "id": "9263cd88",
   "metadata": {},
   "source": [
    "### Plotando o Recall referente ao training e Validação do K-FOLD"
   ]
  },
  {
   "cell_type": "code",
   "execution_count": 46,
   "id": "9d6336bd",
   "metadata": {},
   "outputs": [
    {
     "data": {
      "image/png": "[encoded data removed]",
      "text/plain": [
       "<Figure size 864x432 with 1 Axes>"
      ]
     },
     "metadata": {
      "needs_background": "light"
     },
     "output_type": "display_data"
    },
    {
     "name": "stdout",
     "output_type": "stream",
     "text": [
      "[0.47193041 0.8079665  0.80907898 0.8823541  0.8161067 ]\n",
      "0.7574873378881006\n"
     ]
    }
   ],
   "source": [
    "model_name = 'DecisionTree'\n",
    "plot_result(model_name,\n",
    "            \"roc_auc\",\n",
    "            \"Roc_Auc Score in 5 Folds\",\n",
    "            Val[\"Training Roc_Auc\"],\n",
    "            Val[\"Roc Auc Score\"])\n",
    "print(Val[\"Roc Auc Score\"])\n",
    "print(Val[\"Mean Roc Auc Score\"])"
   ]
  },
  {
   "cell_type": "code",
   "execution_count": 48,
   "id": "259c9f3b",
   "metadata": {
    "scrolled": false
   },
   "outputs": [
    {
     "data": {
      "image/png": "[encoded data removed]",
      "text/plain": [
       "<Figure size 864x432 with 1 Axes>"
      ]
     },
     "metadata": {
      "needs_background": "light"
     },
     "output_type": "display_data"
    },
    {
     "name": "stdout",
     "output_type": "stream",
     "text": [
      "[0.00164608 0.50858412 0.12513936 0.52699057 0.45148822]\n"
     ]
    }
   ],
   "source": [
    "model_name = 'DecisionTree'\n",
    "plot_result(model_name,\n",
    "            \"Average Precision\",\n",
    "            \"Average Precision Score in 5 Folds\",\n",
    "            Val[\"Training Average precision scores\"],\n",
    "            Val[\"Average Precision Score\"])\n",
    "print(Val[\"Average Precision Score\"])"
   ]
  },
  {
   "cell_type": "markdown",
   "id": "bfb7702a",
   "metadata": {},
   "source": [
    "# Alterando os valores de min_samples_split para 5"
   ]
  },
  {
   "cell_type": "code",
   "execution_count": 42,
   "id": "f6696f31",
   "metadata": {},
   "outputs": [
    {
     "name": "stdout",
     "output_type": "stream",
     "text": [
      "{'Training Accuracy scores': array([1., 1., 1., 1., 1.]), 'Mean Training Accuracy': 100.0, 'Training Precision scores': array([1., 1., 1., 1., 1.]), 'Mean Training Precision': 1.0, 'Training Average precision scores': array([1., 1., 1., 1., 1.]), 'Mean Training Average precision': 1.0, 'Training Roc_Auc': array([1., 1., 1., 1., 1.]), 'Mean Roc_Auc': 1.0, 'Validation Accuracy scores': array([0.00610934, 0.999368  , 0.99513702, 0.99901687, 0.99899932]), 'Mean Validation Accuracy': 79.9726109171764, 'Validation Precision scores': array([0.00160502, 0.88888889, 0.21221865, 0.6875    , 0.74117647]), 'Mean Validation Precision': 0.5062778064376552, 'Average Precision Score': array([0.00161577, 0.64693865, 0.14348455, 0.54054724, 0.47708504]), 'Mean Average Precision Score': 0.3619342511707745, 'Roc Auc Score': array([0.46185578, 0.86355723, 0.83458039, 0.89254939, 0.82123512]), 'Mean Roc Auc Score': 0.7747555811875819}\n"
     ]
    }
   ],
   "source": [
    "Decision2 = tree.DecisionTreeClassifier(criterion=\"entropy\",\n",
    "                                               min_samples_split=5,\n",
    "                                               random_state=0)\n",
    "Val2 = cross_validation(clf,X_validacao, y_validacao, _cv=5)\n",
    "print(Val2)"
   ]
  },
  {
   "cell_type": "code",
   "execution_count": 44,
   "id": "e18eca1c",
   "metadata": {},
   "outputs": [
    {
     "data": {
      "image/png": "[encoded data removed]",
      "text/plain": [
       "<Figure size 864x432 with 1 Axes>"
      ]
     },
     "metadata": {
      "needs_background": "light"
     },
     "output_type": "display_data"
    },
    {
     "name": "stdout",
     "output_type": "stream",
     "text": [
      "[0.00161577 0.64693865 0.14348455 0.54054724 0.47708504]\n"
     ]
    }
   ],
   "source": [
    "model_name = 'DecisionTree'\n",
    "plot_result(model_name,\n",
    "            \"Average Precision\",\n",
    "            \"Average Precision Score in 5 Folds\",\n",
    "            Val2[\"Training Average precision scores\"],\n",
    "            Val2[\"Average Precision Score\"])\n",
    "print(Val2[\"Average Precision Score\"])"
   ]
  },
  {
   "cell_type": "code",
   "execution_count": 47,
   "id": "1cadefbf",
   "metadata": {},
   "outputs": [
    {
     "data": {
      "image/png": "[encoded data removed]",
      "text/plain": [
       "<Figure size 864x432 with 1 Axes>"
      ]
     },
     "metadata": {
      "needs_background": "light"
     },
     "output_type": "display_data"
    },
    {
     "name": "stdout",
     "output_type": "stream",
     "text": [
      "[0.46185578 0.86355723 0.83458039 0.89254939 0.82123512]\n",
      "0.7747555811875819\n"
     ]
    }
   ],
   "source": [
    "model_name = 'DecisionTree'\n",
    "plot_result(model_name,\n",
    "            \"roc_auc\",\n",
    "            \"Roc_Auc Score in 5 Folds\",\n",
    "            Val2[\"Training Roc_Auc\"],\n",
    "            Val2[\"Roc Auc Score\"])\n",
    "print(Val2[\"Roc Auc Score\"])\n",
    "print(Val2[\"Mean Roc Auc Score\"])"
   ]
  },
  {
   "cell_type": "markdown",
   "id": "62ca7d63",
   "metadata": {},
   "source": [
    "# Resolvendo o problema de Overfit do Modelo de Arvore de decisão"
   ]
  },
  {
   "cell_type": "markdown",
   "id": "c9297b4a",
   "metadata": {},
   "source": [
    "Rodando o GridSearch para encontrar os melhores valores para os hyperparâmetros"
   ]
  },
  {
   "cell_type": "code",
   "execution_count": 17,
   "id": "ee8d8d20",
   "metadata": {},
   "outputs": [],
   "source": [
    "param_grid = {\n",
    "    \"max_depth\": [3,5,10],\n",
    "    \"min_samples_split\": [2,5,7,10,20,30,40,50],\n",
    "    \"min_samples_leaf\": [1,2,5,7,9,13,15,20,25]\n",
    "}\n",
    "\n",
    "clf = DecisionTreeClassifier()\n",
    "grid_cv = GridSearchCV(clf, param_grid, scoring=\"roc_auc\", n_jobs=-1, cv=5).fit(X_validacao, y_validacao)"
   ]
  },
  {
   "cell_type": "code",
   "execution_count": 18,
   "id": "5bd3b836",
   "metadata": {},
   "outputs": [
    {
     "name": "stdout",
     "output_type": "stream",
     "text": [
      "Param for GS {'max_depth': 10, 'min_samples_leaf': 25, 'min_samples_split': 10}\n",
      "CV score for GS 0.9314837696841058\n",
      "0.8759775706808649\n"
     ]
    }
   ],
   "source": [
    "print(\"Param for GS\", grid_cv.best_params_)\n",
    "print(\"CV score for GS\", grid_cv.best_score_)\n",
    "print(roc_auc_score(y_db, grid_cv.predict(X_validacao)))"
   ]
  },
  {
   "cell_type": "code",
   "execution_count": 27,
   "id": "56aa09b8",
   "metadata": {},
   "outputs": [
    {
     "name": "stdout",
     "output_type": "stream",
     "text": [
      "{'Training Accuracy scores': array([1., 1., 1., 1., 1.]), 'Mean Training Accuracy': 100.0, 'Training Precision scores': array([1., 1., 1., 1., 1.]), 'Mean Training Precision': 1.0, 'Training Average precision scores': array([1., 1., 1., 1., 1.]), 'Mean Training Average precision': 1.0, 'Training Roc_Auc': array([1., 1., 1., 1., 1.]), 'Mean Roc_Auc': 1.0, 'Validation Accuracy scores': array([0.00610934, 0.99922756, 0.99813908, 0.99894665, 0.99889398]), 'Mean Validation Accuracy': 80.02633193346631, 'Validation Precision scores': array([0.00160502, 0.83950617, 0.46875   , 0.67272727, 0.69662921]), 'Mean Validation Precision': 0.5358435364486784, 'Average Precision Score': array([0.00161577, 0.57717473, 0.28765692, 0.50839908, 0.44135662]), 'Mean Average Precision Score': 0.3632406212411995, 'Roc Auc Score': array([0.46185578, 0.84332003, 0.80552452, 0.87723447, 0.81608912]), 'Mean Roc Auc Score': 0.7608047838531633}\n"
     ]
    }
   ],
   "source": [
    "Decision4 = tree.DecisionTreeClassifier(criterion=\"entropy\",\n",
    "                                               min_samples_split=10,\n",
    "                                               random_state=0,\n",
    "                                               max_depth = 5,\n",
    "                                               min_samples_leaf = 25,)\n",
    "Val4 = cross_validation(clf,X_validacao, y_validacao, _cv=5)\n",
    "print(Val4)"
   ]
  },
  {
   "cell_type": "code",
   "execution_count": 30,
   "id": "b27af179",
   "metadata": {},
   "outputs": [
    {
     "data": {
      "image/png": "[encoded data removed]",
      "text/plain": [
       "<Figure size 864x432 with 1 Axes>"
      ]
     },
     "metadata": {
      "needs_background": "light"
     },
     "output_type": "display_data"
    },
    {
     "name": "stdout",
     "output_type": "stream",
     "text": [
      "[0.46185578 0.84332003 0.80552452 0.87723447 0.81608912]\n",
      "0.7608047838531633\n"
     ]
    }
   ],
   "source": [
    "model_name = 'DecisionTree'\n",
    "plot_result(model_name,\n",
    "            \"roc_auc\",\n",
    "            \"Roc_Auc Score in 5 Folds\",\n",
    "            Val4[\"Training Roc_Auc\"],\n",
    "            Val4[\"Roc Auc Score\"])\n",
    "print(Val4[\"Roc Auc Score\"])\n",
    "print(Val4[\"Mean Roc Auc Score\"])"
   ]
  },
  {
   "cell_type": "code",
   "execution_count": 36,
   "id": "4ba1c829",
   "metadata": {},
   "outputs": [
    {
     "data": {
      "text/html": [
       "<style>#sk-container-id-3 {color: black;background-color: white;}#sk-container-id-3 pre{padding: 0;}#sk-container-id-3 div.sk-toggleable {background-color: white;}#sk-container-id-3 label.sk-toggleable__label {cursor: pointer;display: block;width: 100%;margin-bottom: 0;padding: 0.3em;box-sizing: border-box;text-align: center;}#sk-container-id-3 label.sk-toggleable__label-arrow:before {content: \"▸\";float: left;margin-right: 0.25em;color: #696969;}#sk-container-id-3 label.sk-toggleable__label-arrow:hover:before {color: black;}#sk-container-id-3 div.sk-estimator:hover label.sk-toggleable__label-arrow:before {color: black;}#sk-container-id-3 div.sk-toggleable__content {max-height: 0;max-width: 0;overflow: hidden;text-align: left;background-color: #f0f8ff;}#sk-container-id-3 div.sk-toggleable__content pre {margin: 0.2em;color: black;border-radius: 0.25em;background-color: #f0f8ff;}#sk-container-id-3 input.sk-toggleable__control:checked~div.sk-toggleable__content {max-height: 200px;max-width: 100%;overflow: auto;}#sk-container-id-3 input.sk-toggleable__control:checked~label.sk-toggleable__label-arrow:before {content: \"▾\";}#sk-container-id-3 div.sk-estimator input.sk-toggleable__control:checked~label.sk-toggleable__label {background-color: #d4ebff;}#sk-container-id-3 div.sk-label input.sk-toggleable__control:checked~label.sk-toggleable__label {background-color: #d4ebff;}#sk-container-id-3 input.sk-hidden--visually {border: 0;clip: rect(1px 1px 1px 1px);clip: rect(1px, 1px, 1px, 1px);height: 1px;margin: -1px;overflow: hidden;padding: 0;position: absolute;width: 1px;}#sk-container-id-3 div.sk-estimator {font-family: monospace;background-color: #f0f8ff;border: 1px dotted black;border-radius: 0.25em;box-sizing: border-box;margin-bottom: 0.5em;}#sk-container-id-3 div.sk-estimator:hover {background-color: #d4ebff;}#sk-container-id-3 div.sk-parallel-item::after {content: \"\";width: 100%;border-bottom: 1px solid gray;flex-grow: 1;}#sk-container-id-3 div.sk-label:hover label.sk-toggleable__label {background-color: #d4ebff;}#sk-container-id-3 div.sk-serial::before {content: \"\";position: absolute;border-left: 1px solid gray;box-sizing: border-box;top: 0;bottom: 0;left: 50%;z-index: 0;}#sk-container-id-3 div.sk-serial {display: flex;flex-direction: column;align-items: center;background-color: white;padding-right: 0.2em;padding-left: 0.2em;position: relative;}#sk-container-id-3 div.sk-item {position: relative;z-index: 1;}#sk-container-id-3 div.sk-parallel {display: flex;align-items: stretch;justify-content: center;background-color: white;position: relative;}#sk-container-id-3 div.sk-item::before, #sk-container-id-3 div.sk-parallel-item::before {content: \"\";position: absolute;border-left: 1px solid gray;box-sizing: border-box;top: 0;bottom: 0;left: 50%;z-index: -1;}#sk-container-id-3 div.sk-parallel-item {display: flex;flex-direction: column;z-index: 1;position: relative;background-color: white;}#sk-container-id-3 div.sk-parallel-item:first-child::after {align-self: flex-end;width: 50%;}#sk-container-id-3 div.sk-parallel-item:last-child::after {align-self: flex-start;width: 50%;}#sk-container-id-3 div.sk-parallel-item:only-child::after {width: 0;}#sk-container-id-3 div.sk-dashed-wrapped {border: 1px dashed gray;margin: 0 0.4em 0.5em 0.4em;box-sizing: border-box;padding-bottom: 0.4em;background-color: white;}#sk-container-id-3 div.sk-label label {font-family: monospace;font-weight: bold;display: inline-block;line-height: 1.2em;}#sk-container-id-3 div.sk-label-container {text-align: center;}#sk-container-id-3 div.sk-container {/* jupyter's `normalize.less` sets `[hidden] { display: none; }` but bootstrap.min.css set `[hidden] { display: none !important; }` so we also need the `!important` here to be able to override the default hidden behavior on the sphinx rendered scikit-learn.org. See: https://github.com/scikit-learn/scikit-learn/issues/21755 */display: inline-block !important;position: relative;}#sk-container-id-3 div.sk-text-repr-fallback {display: none;}</style><div id=\"sk-container-id-3\" class=\"sk-top-container\"><div class=\"sk-text-repr-fallback\"><pre>DecisionTreeClassifier(criterion=&#x27;entropy&#x27;, max_depth=5, min_samples_leaf=25,\n",
       "                       min_samples_split=10, random_state=0)</pre><b>In a Jupyter environment, please rerun this cell to show the HTML representation or trust the notebook. <br />On GitHub, the HTML representation is unable to render, please try loading this page with nbviewer.org.</b></div><div class=\"sk-container\" hidden><div class=\"sk-item\"><div class=\"sk-estimator sk-toggleable\"><input class=\"sk-toggleable__control sk-hidden--visually\" id=\"sk-estimator-id-3\" type=\"checkbox\" checked><label for=\"sk-estimator-id-3\" class=\"sk-toggleable__label sk-toggleable__label-arrow\">DecisionTreeClassifier</label><div class=\"sk-toggleable__content\"><pre>DecisionTreeClassifier(criterion=&#x27;entropy&#x27;, max_depth=5, min_samples_leaf=25,\n",
       "                       min_samples_split=10, random_state=0)</pre></div></div></div></div></div>"
      ],
      "text/plain": [
       "DecisionTreeClassifier(criterion='entropy', max_depth=5, min_samples_leaf=25,\n",
       "                       min_samples_split=10, random_state=0)"
      ]
     },
     "execution_count": 36,
     "metadata": {},
     "output_type": "execute_result"
    }
   ],
   "source": [
    "# Rodar a DTC forçando os dados \n",
    "\n",
    "X_train, X_test, y_train, y_test = train_test_split(X_validacao, y_validacao, test_size=0.3, random_state=0)\n",
    "clf_2 = tree.DecisionTreeClassifier(criterion=\"entropy\",\n",
    "                                               min_samples_split=10,\n",
    "                                               random_state=0,\n",
    "                                               max_depth = 5,\n",
    "                                               min_samples_leaf = 25,)\n",
    "clf_2.fit(X_train, y_train)"
   ]
  },
  {
   "cell_type": "code",
   "execution_count": 42,
   "id": "cded282e",
   "metadata": {},
   "outputs": [
    {
     "data": {
      "image/png": "[encoded data removed]",
      "text/plain": [
       "<Figure size 432x432 with 1 Axes>"
      ]
     },
     "metadata": {
      "needs_background": "light"
     },
     "output_type": "display_data"
    }
   ],
   "source": [
    "probs1 = clf_2.predict_proba(X_test)[:,1] # Probabilidades de SER FRAUDE (Ser BOM)\n",
    "\n",
    "\n",
    "# Cálculo da área sobre a curva\n",
    "auc_model1 = roc_auc_score(y_test, probs1)\n",
    "\n",
    "# Cálculo dos rates para plot da Curva ROC\n",
    "fpr_model1, tpr_model1, _ = roc_curve(y_test, probs1)\n",
    "\n",
    "#Plotagem\n",
    "plt.figure(figsize=(6,6))\n",
    "plt.plot([0, 1], [0, 1], '--', color='orange', lw=2)\n",
    "plt.plot(fpr_model1, tpr_model1, marker='.', label='Árvore de Decisão (area = %0.3f)' % auc_model1)\n",
    "plt.title('Curva ROC')\n",
    "plt.xlabel('% Falso Positivo')\n",
    "plt.ylabel('% Verdadeiro Positivo')\n",
    "plt.legend()\n",
    "plt.show()"
   ]
  },
  {
   "cell_type": "code",
   "execution_count": 43,
   "id": "88e5930b",
   "metadata": {},
   "outputs": [
    {
     "name": "stdout",
     "output_type": "stream",
     "text": [
      "[0 0 0 ... 0 0 0]\n"
     ]
    }
   ],
   "source": [
    "print(y_test)"
   ]
  },
  {
   "cell_type": "code",
   "execution_count": 47,
   "id": "a97eecdf",
   "metadata": {},
   "outputs": [],
   "source": [
    "test_predictions = clf_2.predict(X_test)"
   ]
  },
  {
   "cell_type": "markdown",
   "id": "71f4ce49",
   "metadata": {},
   "source": [
    "# Função custo - Plotagem"
   ]
  },
  {
   "cell_type": "markdown",
   "id": "d48f2119",
   "metadata": {},
   "source": [
    "Não podemos tirar interpretação abaixo, por se tratar de dados desbalanceados"
   ]
  },
  {
   "cell_type": "code",
   "execution_count": 50,
   "id": "8b8b7fc3",
   "metadata": {},
   "outputs": [
    {
     "name": "stdout",
     "output_type": "stream",
     "text": [
      "              precision    recall  f1-score   support\n",
      "\n",
      "  NÃO FRAUDE       1.00      1.00      1.00     85296\n",
      "      FRAUDE       0.93      0.69      0.79       147\n",
      "\n",
      "    accuracy                           1.00     85443\n",
      "   macro avg       0.96      0.84      0.89     85443\n",
      "weighted avg       1.00      1.00      1.00     85443\n",
      "\n"
     ]
    }
   ],
   "source": [
    "print(classification_report(y_test, test_predictions, target_names=['NÃO FRAUDE','FRAUDE']))"
   ]
  },
  {
   "cell_type": "markdown",
   "id": "d07d035f",
   "metadata": {},
   "source": [
    "# Modelo de Regressão Logística"
   ]
  },
  {
   "cell_type": "markdown",
   "id": "65252a31",
   "metadata": {},
   "source": [
    "Como vimos anteriormente, os dados encontram-se muito desbalanceados, vamos rodar um modelo Logístico, com as alterações na base de dados, buscando um balanceamento e um modelo padrão."
   ]
  },
  {
   "cell_type": "code",
   "execution_count": 51,
   "id": "76ddfd81",
   "metadata": {},
   "outputs": [
    {
     "data": {
      "text/plain": [
       "[Text(0, 0, '284315'), Text(0, 0, '492')]"
      ]
     },
     "execution_count": 51,
     "metadata": {},
     "output_type": "execute_result"
    },
    {
     "data": {
      "image/png": "[encoded data removed]",
      "text/plain": [
       "<Figure size 432x288 with 1 Axes>"
      ]
     },
     "metadata": {
      "needs_background": "light"
     },
     "output_type": "display_data"
    }
   ],
   "source": [
    "graph = sns.countplot(x=y_db, data = db, palette ='Set2',\n",
    "                   order = y_db.value_counts().index)\n",
    "\n",
    "graph_valores = y_db.value_counts(ascending=False).values\n",
    "\n",
    "graph.bar_label(container=ax.containers[0], labels=graph_valores)"
   ]
  },
  {
   "cell_type": "markdown",
   "id": "c395ade8",
   "metadata": {},
   "source": [
    "# Observamos abaixo um modelo Logito forçado, sem validação."
   ]
  },
  {
   "cell_type": "markdown",
   "id": "535fce17",
   "metadata": {},
   "source": [
    "Realizamos assim para observar os comportamentos de cada V.A através do P-valor"
   ]
  },
  {
   "cell_type": "code",
   "execution_count": 21,
   "id": "f7a3fece",
   "metadata": {},
   "outputs": [
    {
     "name": "stdout",
     "output_type": "stream",
     "text": [
      "Optimization terminated successfully.\n",
      "         Current function value: 0.011175\n",
      "         Iterations 13\n",
      "                          Results: Logit\n",
      "==================================================================\n",
      "Model:              Logit            Pseudo R-squared: 0.121      \n",
      "Dependent Variable: Class            AIC:              6415.5246  \n",
      "Date:               2022-08-05 08:21 BIC:              6679.5138  \n",
      "No. Observations:   284807           Log-Likelihood:   -3182.8    \n",
      "Df Model:           24               LL-Null:          -3621.2    \n",
      "Df Residuals:       284782           LLR p-value:      1.1142e-169\n",
      "Converged:          1.0000           Scale:            1.0000     \n",
      "No. Iterations:     13.0000                                       \n",
      "--------------------------------------------------------------------\n",
      "           Coef.    Std.Err.      z       P>|z|     [0.025    0.975]\n",
      "--------------------------------------------------------------------\n",
      "Time      -0.0001     0.0000   -55.0492   0.0000   -0.0001   -0.0001\n",
      "V1         0.3443     0.0239    14.4005   0.0000    0.2974    0.3911\n",
      "V2        -1.5787     0.0409   -38.5623   0.0000   -1.6589   -1.4984\n",
      "V3        -1.4432     0.0337   -42.8488   0.0000   -1.5092   -1.3772\n",
      "V4         0.3156     0.0290    10.8844   0.0000    0.2588    0.3724\n",
      "V5        -1.2644     0.0590   -21.4414   0.0000   -1.3800   -1.1488\n",
      "V6         0.6429     0.0431    14.9076   0.0000    0.5584    0.7275\n",
      "V7         2.1752     0.0614    35.4191   0.0000    2.0548    2.2956\n",
      "V8        -0.6261     0.0235   -26.5902   0.0000   -0.6722   -0.5799\n",
      "V9        -0.9212     0.0420   -21.9191   0.0000   -1.0036   -0.8388\n",
      "V10       -0.9453     0.0482   -19.6054   0.0000   -1.0399   -0.8508\n",
      "V11       -0.4977     0.0378   -13.1669   0.0000   -0.5718   -0.4236\n",
      "V12       -0.2094     0.0349    -5.9978   0.0000   -0.2778   -0.1410\n",
      "V14       -0.5218     0.0327   -15.9601   0.0000   -0.5859   -0.4577\n",
      "V15       -1.0082     0.0481   -20.9504   0.0000   -1.1025   -0.9139\n",
      "V16       -0.7692     0.0472   -16.2958   0.0000   -0.8617   -0.6767\n",
      "V17       -0.5060     0.0385   -13.1500   0.0000   -0.5814   -0.4306\n",
      "V18        0.5551     0.0543    10.2191   0.0000    0.4487    0.6616\n",
      "V19       -0.3648     0.0571    -6.3927   0.0000   -0.4767   -0.2530\n",
      "V20        3.8798     0.1394    27.8247   0.0000    3.6065    4.1531\n",
      "V21        1.6212     0.0572    28.3179   0.0000    1.5090    1.7334\n",
      "V26        0.2580     0.0800     3.2255   0.0013    0.1012    0.4147\n",
      "V27       -1.1529     0.1058   -10.8936   0.0000   -1.3603   -0.9455\n",
      "V28        1.2183     0.0910    13.3890   0.0000    1.0399    1.3966\n",
      "Amount    -0.0295     0.0009   -34.6716   0.0000   -0.0312   -0.0278\n",
      "==================================================================\n",
      "\n"
     ]
    }
   ],
   "source": [
    "# Rodar a Regressão Logística e uma curva ROC pra ela\n",
    "import statsmodels.api as sm\n",
    "m0 = sm.Logit(y_db,db)\n",
    "log = m0.fit()\n",
    "print(log.summary2())"
   ]
  },
  {
   "cell_type": "code",
   "execution_count": 40,
   "id": "6a859845",
   "metadata": {},
   "outputs": [
    {
     "name": "stdout",
     "output_type": "stream",
     "text": [
      "Acurácia score do modelo: 0.999\n"
     ]
    }
   ],
   "source": [
    "clf_3 = LogisticRegression(random_state = 0, max_iter = 300).fit(db,y_db)\n",
    "print(\"Acurácia score do modelo: %.3f\" % clf_3.score(db,y_db))\n",
    "\n",
    "#O que afeta o max_iter = 300?"
   ]
  },
  {
   "cell_type": "markdown",
   "id": "b074697f",
   "metadata": {},
   "source": [
    "### Aplicar SMOTE.\n",
    "\n",
    "Synthetic Minority Oversampling Technique or SMOTE\n",
    "\n",
    "Vamos utilizar essa tecnica para poder aumentar o nosso número de observações que estão condicionadas à serem fraudes, pois a regressão Logística é afetada no seu intercepto quando os dados não estão muito bem balanceados, podendo causar erro nas predições.\n",
    "\n",
    "Isto é, a média dos valores obtidos da Regressão logística, ficam muito viciados"
   ]
  },
  {
   "cell_type": "code",
   "execution_count": 1,
   "id": "95c3e784",
   "metadata": {
    "scrolled": true
   },
   "outputs": [
    {
     "name": "stdout",
     "output_type": "stream",
     "text": [
      "Requirement already satisfied: imblearn in c:\\users\\vinic\\anaconda3\\lib\\site-packages (0.0)\n",
      "Requirement already satisfied: imbalanced-learn in c:\\users\\vinic\\anaconda3\\lib\\site-packages (from imblearn) (0.9.1)\n",
      "Requirement already satisfied: scipy>=1.3.2 in c:\\users\\vinic\\anaconda3\\lib\\site-packages (from imbalanced-learn->imblearn) (1.7.1)\n",
      "Requirement already satisfied: numpy>=1.17.3 in c:\\users\\vinic\\anaconda3\\lib\\site-packages (from imbalanced-learn->imblearn) (1.20.3)\n",
      "Requirement already satisfied: threadpoolctl>=2.0.0 in c:\\users\\vinic\\anaconda3\\lib\\site-packages (from imbalanced-learn->imblearn) (2.2.0)\n",
      "Requirement already satisfied: joblib>=1.0.0 in c:\\users\\vinic\\anaconda3\\lib\\site-packages (from imbalanced-learn->imblearn) (1.1.0)\n",
      "Requirement already satisfied: scikit-learn>=1.1.0 in c:\\users\\vinic\\anaconda3\\lib\\site-packages (from imbalanced-learn->imblearn) (1.1.2)\n"
     ]
    }
   ],
   "source": [
    "!pip install imblearn"
   ]
  },
  {
   "cell_type": "code",
   "execution_count": 2,
   "id": "729ea1bf",
   "metadata": {},
   "outputs": [],
   "source": [
    "import imblearn"
   ]
  },
  {
   "cell_type": "code",
   "execution_count": 3,
   "id": "1256c31c",
   "metadata": {},
   "outputs": [],
   "source": [
    "from imblearn.over_sampling import SMOTE"
   ]
  },
  {
   "cell_type": "code",
   "execution_count": 4,
   "id": "7853f22b",
   "metadata": {},
   "outputs": [
    {
     "name": "stdout",
     "output_type": "stream",
     "text": [
      "0.9.1\n"
     ]
    }
   ],
   "source": [
    "print(imblearn.__version__)"
   ]
  },
  {
   "cell_type": "code",
   "execution_count": 13,
   "id": "1470283c",
   "metadata": {},
   "outputs": [],
   "source": [
    "db = base.drop(['V13','V22','V23','V24','V25','Class'], axis =1)\n",
    "y_db = base['Class']"
   ]
  },
  {
   "cell_type": "code",
   "execution_count": 14,
   "id": "64b585c7",
   "metadata": {},
   "outputs": [],
   "source": [
    "os = SMOTE(random_state=0)"
   ]
  },
  {
   "cell_type": "code",
   "execution_count": 15,
   "id": "21c499d2",
   "metadata": {},
   "outputs": [],
   "source": [
    "X_treino, X_teste, y_treino, y_teste = train_test_split(db, y_db, test_size=0.3, random_state=0)\n",
    "\n",
    "columns = X_treino.columns"
   ]
  },
  {
   "cell_type": "markdown",
   "id": "277a82c8",
   "metadata": {},
   "source": [
    "### Utilizamos so os dados de Treino ou Training, pois utilizamos os dados de teste para validar o resto do modelo"
   ]
  },
  {
   "cell_type": "code",
   "execution_count": 16,
   "id": "8cebb498",
   "metadata": {},
   "outputs": [
    {
     "name": "stdout",
     "output_type": "stream",
     "text": [
      "398038\n"
     ]
    }
   ],
   "source": [
    "os_data_X, os_data_y =os.fit_resample(X_treino, y_treino)\n",
    "\n",
    "counter = Counter(os_data_y)\n",
    "\n",
    "os_data_X = pd.DataFrame(data=os_data_X,columns= columns )\n",
    "\n",
    "print(len(os_data_y))\n",
    "\n",
    "#print(counter)\n",
    "\n",
    "#print(os_data_y)\n",
    "\n",
    "#print(type(os_data_y))\n",
    "\n",
    "#Problema ta aqui\\/\n",
    "\n",
    "#os_data_y= pd.DataFrame(data=os_data_y, columns = ['y_db'])\n"
   ]
  },
  {
   "cell_type": "code",
   "execution_count": 17,
   "id": "0be07d7c",
   "metadata": {},
   "outputs": [
    {
     "name": "stdout",
     "output_type": "stream",
     "text": [
      "398038\n"
     ]
    }
   ],
   "source": [
    "print(len(os_data_y))"
   ]
  },
  {
   "cell_type": "code",
   "execution_count": 18,
   "id": "948a3634",
   "metadata": {},
   "outputs": [
    {
     "name": "stdout",
     "output_type": "stream",
     "text": [
      "Antes do SMOTE: 284807\n",
      "Pós SMOTE: 398038\n",
      "Proporção de dados de Fraude e Complementar:  Counter({0: 199019, 1: 199019})\n"
     ]
    }
   ],
   "source": [
    "print(\"Antes do SMOTE:\", len(db))\n",
    "print(\"Pós SMOTE:\",len(os_data_X))\n",
    "print(\"Proporção de dados de Fraude e Complementar: \",counter)\n",
    "#print(\"Number of no subscription in oversampled data\", len(os_data_y[os_data_y['y']==0]))\n",
    "#print(\"Number of subscription\",len(os_data_y[os_data_y['y']==1]))\n",
    "#print(\"Proportion of no subscription data in oversampled data is \",len(os_data_y[os_data_y['y']==0])/len(os_data_X))\n",
    "#print(\"Proportion of subscription data in oversampled data is \",len(os_data_y[os_data_y['y']==1])/len(os_data_X))"
   ]
  },
  {
   "cell_type": "code",
   "execution_count": 24,
   "id": "79e5ef75",
   "metadata": {},
   "outputs": [
    {
     "name": "stdout",
     "output_type": "stream",
     "text": [
      "Optimization terminated successfully.\n",
      "         Current function value: 0.081518\n",
      "         Iterations 15\n",
      "                          Results: Logit\n",
      "==================================================================\n",
      "Model:              Logit            Pseudo R-squared: 0.882      \n",
      "Dependent Variable: Class            AIC:              64944.6698 \n",
      "Date:               2022-08-06 15:51 BIC:              65217.0273 \n",
      "No. Observations:   398038           Log-Likelihood:   -32447.    \n",
      "Df Model:           24               LL-Null:          -2.7590e+05\n",
      "Df Residuals:       398013           LLR p-value:      0.0000     \n",
      "Converged:          1.0000           Scale:            1.0000     \n",
      "No. Iterations:     15.0000                                       \n",
      "--------------------------------------------------------------------\n",
      "          Coef.    Std.Err.       z       P>|z|     [0.025    0.975]\n",
      "--------------------------------------------------------------------\n",
      "Time     -0.0000     0.0000   -170.7846   0.0000   -0.0000   -0.0000\n",
      "V1       -0.0427     0.0100     -4.2814   0.0000   -0.0623   -0.0232\n",
      "V2       -0.0928     0.0140     -6.6096   0.0000   -0.1203   -0.0653\n",
      "V3       -1.1069     0.0121    -91.2008   0.0000   -1.1307   -1.0831\n",
      "V4        0.9176     0.0098     93.3811   0.0000    0.8983    0.9369\n",
      "V5       -0.2648     0.0133    -19.9605   0.0000   -0.2908   -0.2388\n",
      "V6       -0.2390     0.0105    -22.7879   0.0000   -0.2596   -0.2185\n",
      "V7       -0.3225     0.0174    -18.4893   0.0000   -0.3567   -0.2883\n",
      "V8       -0.3583     0.0113    -31.8370   0.0000   -0.3804   -0.3363\n",
      "V9       -0.7605     0.0142    -53.6464   0.0000   -0.7883   -0.7327\n",
      "V10      -1.2938     0.0199    -65.0815   0.0000   -1.3327   -1.2548\n",
      "V11       0.5835     0.0141     41.3907   0.0000    0.5559    0.6111\n",
      "V12      -1.5043     0.0200    -75.2863   0.0000   -1.5435   -1.4652\n",
      "V14      -2.2143     0.0209   -105.8911   0.0000   -2.2553   -2.1733\n",
      "V15      -0.5110     0.0120    -42.6902   0.0000   -0.5344   -0.4875\n",
      "V16      -1.1320     0.0203    -55.6552   0.0000   -1.1719   -1.0921\n",
      "V17      -2.1519     0.0305    -70.5720   0.0000   -2.2117   -2.0921\n",
      "V18      -0.4395     0.0181    -24.3149   0.0000   -0.4750   -0.4041\n",
      "V19       0.3125     0.0140     22.2671   0.0000    0.2850    0.3400\n",
      "V20       0.3425     0.0191     17.9260   0.0000    0.3051    0.3800\n",
      "V21       0.3835     0.0121     31.7516   0.0000    0.3598    0.4072\n",
      "V26       0.2073     0.0232      8.9525   0.0000    0.1619    0.2527\n",
      "V27       0.5718     0.0345     16.5915   0.0000    0.5042    0.6393\n",
      "V28       0.3294     0.0319     10.3106   0.0000    0.2668    0.3920\n",
      "Amount   -0.0031     0.0001    -25.3069   0.0000   -0.0033   -0.0028\n",
      "==================================================================\n",
      "\n"
     ]
    }
   ],
   "source": [
    "# ajustando as V.A's\n",
    "X = os_data_X\n",
    "y = os_data_y\n",
    "\n",
    "\n",
    "# testando o p-valor.\n",
    "m1 = sm.Logit(y,X)\n",
    "log = m1.fit()\n",
    "print(log.summary2())"
   ]
  },
  {
   "cell_type": "code",
   "execution_count": 23,
   "id": "1a6fd45a",
   "metadata": {},
   "outputs": [
    {
     "data": {
      "text/html": [
       "<style>#sk-container-id-2 {color: black;background-color: white;}#sk-container-id-2 pre{padding: 0;}#sk-container-id-2 div.sk-toggleable {background-color: white;}#sk-container-id-2 label.sk-toggleable__label {cursor: pointer;display: block;width: 100%;margin-bottom: 0;padding: 0.3em;box-sizing: border-box;text-align: center;}#sk-container-id-2 label.sk-toggleable__label-arrow:before {content: \"▸\";float: left;margin-right: 0.25em;color: #696969;}#sk-container-id-2 label.sk-toggleable__label-arrow:hover:before {color: black;}#sk-container-id-2 div.sk-estimator:hover label.sk-toggleable__label-arrow:before {color: black;}#sk-container-id-2 div.sk-toggleable__content {max-height: 0;max-width: 0;overflow: hidden;text-align: left;background-color: #f0f8ff;}#sk-container-id-2 div.sk-toggleable__content pre {margin: 0.2em;color: black;border-radius: 0.25em;background-color: #f0f8ff;}#sk-container-id-2 input.sk-toggleable__control:checked~div.sk-toggleable__content {max-height: 200px;max-width: 100%;overflow: auto;}#sk-container-id-2 input.sk-toggleable__control:checked~label.sk-toggleable__label-arrow:before {content: \"▾\";}#sk-container-id-2 div.sk-estimator input.sk-toggleable__control:checked~label.sk-toggleable__label {background-color: #d4ebff;}#sk-container-id-2 div.sk-label input.sk-toggleable__control:checked~label.sk-toggleable__label {background-color: #d4ebff;}#sk-container-id-2 input.sk-hidden--visually {border: 0;clip: rect(1px 1px 1px 1px);clip: rect(1px, 1px, 1px, 1px);height: 1px;margin: -1px;overflow: hidden;padding: 0;position: absolute;width: 1px;}#sk-container-id-2 div.sk-estimator {font-family: monospace;background-color: #f0f8ff;border: 1px dotted black;border-radius: 0.25em;box-sizing: border-box;margin-bottom: 0.5em;}#sk-container-id-2 div.sk-estimator:hover {background-color: #d4ebff;}#sk-container-id-2 div.sk-parallel-item::after {content: \"\";width: 100%;border-bottom: 1px solid gray;flex-grow: 1;}#sk-container-id-2 div.sk-label:hover label.sk-toggleable__label {background-color: #d4ebff;}#sk-container-id-2 div.sk-serial::before {content: \"\";position: absolute;border-left: 1px solid gray;box-sizing: border-box;top: 0;bottom: 0;left: 50%;z-index: 0;}#sk-container-id-2 div.sk-serial {display: flex;flex-direction: column;align-items: center;background-color: white;padding-right: 0.2em;padding-left: 0.2em;position: relative;}#sk-container-id-2 div.sk-item {position: relative;z-index: 1;}#sk-container-id-2 div.sk-parallel {display: flex;align-items: stretch;justify-content: center;background-color: white;position: relative;}#sk-container-id-2 div.sk-item::before, #sk-container-id-2 div.sk-parallel-item::before {content: \"\";position: absolute;border-left: 1px solid gray;box-sizing: border-box;top: 0;bottom: 0;left: 50%;z-index: -1;}#sk-container-id-2 div.sk-parallel-item {display: flex;flex-direction: column;z-index: 1;position: relative;background-color: white;}#sk-container-id-2 div.sk-parallel-item:first-child::after {align-self: flex-end;width: 50%;}#sk-container-id-2 div.sk-parallel-item:last-child::after {align-self: flex-start;width: 50%;}#sk-container-id-2 div.sk-parallel-item:only-child::after {width: 0;}#sk-container-id-2 div.sk-dashed-wrapped {border: 1px dashed gray;margin: 0 0.4em 0.5em 0.4em;box-sizing: border-box;padding-bottom: 0.4em;background-color: white;}#sk-container-id-2 div.sk-label label {font-family: monospace;font-weight: bold;display: inline-block;line-height: 1.2em;}#sk-container-id-2 div.sk-label-container {text-align: center;}#sk-container-id-2 div.sk-container {/* jupyter's `normalize.less` sets `[hidden] { display: none; }` but bootstrap.min.css set `[hidden] { display: none !important; }` so we also need the `!important` here to be able to override the default hidden behavior on the sphinx rendered scikit-learn.org. See: https://github.com/scikit-learn/scikit-learn/issues/21755 */display: inline-block !important;position: relative;}#sk-container-id-2 div.sk-text-repr-fallback {display: none;}</style><div id=\"sk-container-id-2\" class=\"sk-top-container\"><div class=\"sk-text-repr-fallback\"><pre>LogisticRegression()</pre><b>In a Jupyter environment, please rerun this cell to show the HTML representation or trust the notebook. <br />On GitHub, the HTML representation is unable to render, please try loading this page with nbviewer.org.</b></div><div class=\"sk-container\" hidden><div class=\"sk-item\"><div class=\"sk-estimator sk-toggleable\"><input class=\"sk-toggleable__control sk-hidden--visually\" id=\"sk-estimator-id-2\" type=\"checkbox\" checked><label for=\"sk-estimator-id-2\" class=\"sk-toggleable__label sk-toggleable__label-arrow\">LogisticRegression</label><div class=\"sk-toggleable__content\"><pre>LogisticRegression()</pre></div></div></div></div></div>"
      ],
      "text/plain": [
       "LogisticRegression()"
      ]
     },
     "execution_count": 23,
     "metadata": {},
     "output_type": "execute_result"
    }
   ],
   "source": [
    "X_train, X_test, y_train, y_test = train_test_split(X, y, test_size=0.3, random_state=0)\n",
    "logreg = LogisticRegression()\n",
    "logreg.fit(X_train, y_train)"
   ]
  },
  {
   "cell_type": "code",
   "execution_count": 24,
   "id": "027b09ea",
   "metadata": {},
   "outputs": [
    {
     "name": "stdout",
     "output_type": "stream",
     "text": [
      "Acurácia score do modelo: 0.973\n"
     ]
    }
   ],
   "source": [
    "clf_3 = LogisticRegression(random_state = 0, max_iter = 300).fit(X,y)\n",
    "print(\"Acurácia score do modelo: %.3f\" % clf_3.score(X,y))\n",
    "\n",
    "#Provando o mesmo resultado"
   ]
  },
  {
   "cell_type": "code",
   "execution_count": 142,
   "id": "fc8920ff",
   "metadata": {},
   "outputs": [
    {
     "name": "stdout",
     "output_type": "stream",
     "text": [
      "Accuracy of logistic regression classifier on test set: 0.97\n"
     ]
    }
   ],
   "source": [
    "y_pred = logreg.predict(X_test)\n",
    "print('Accuracy of logistic regression classifier on test set: {:.2f}'.format(logreg.score(X_test, y_test)))\n",
    "\n",
    "#Provando o resultado do teste."
   ]
  },
  {
   "cell_type": "code",
   "execution_count": 143,
   "id": "c695691e",
   "metadata": {},
   "outputs": [
    {
     "name": "stdout",
     "output_type": "stream",
     "text": [
      "[[58922  1129]\n",
      " [ 1955 57406]]\n"
     ]
    }
   ],
   "source": [
    "confusion_matrix = confusion_matrix(y_test, y_pred)\n",
    "print(confusion_matrix)"
   ]
  },
  {
   "cell_type": "code",
   "execution_count": 144,
   "id": "f3b7f893",
   "metadata": {},
   "outputs": [
    {
     "name": "stdout",
     "output_type": "stream",
     "text": [
      "              precision    recall  f1-score   support\n",
      "\n",
      "           0       0.97      0.98      0.97     60051\n",
      "           1       0.98      0.97      0.97     59361\n",
      "\n",
      "    accuracy                           0.97    119412\n",
      "   macro avg       0.97      0.97      0.97    119412\n",
      "weighted avg       0.97      0.97      0.97    119412\n",
      "\n"
     ]
    }
   ],
   "source": [
    "print(classification_report(y_test, y_pred))"
   ]
  },
  {
   "cell_type": "code",
   "execution_count": 34,
   "id": "cf0518dd",
   "metadata": {},
   "outputs": [
    {
     "data": {
      "image/png": "[encoded data removed]",
      "text/plain": [
       "<Figure size 432x288 with 1 Axes>"
      ]
     },
     "metadata": {
      "needs_background": "light"
     },
     "output_type": "display_data"
    }
   ],
   "source": [
    "logit_roc_auc = roc_auc_score(y_test, logreg.predict(X_test))\n",
    "fpr, tpr, thresholds = roc_curve(y_test, logreg.predict_proba(X_test)[:,1])\n",
    "plt.figure()\n",
    "plt.plot(fpr, tpr, label='Regressão Logística (area = %0.2f)' % logit_roc_auc)\n",
    "plt.plot([0, 1], [0, 1],'r--')\n",
    "plt.xlim([0.0, 1.0])\n",
    "plt.ylim([0.0, 1.05])\n",
    "plt.xlabel('% Falso Positivo')\n",
    "plt.ylabel('% Verdadeiro Positivo')\n",
    "plt.title('Curva ROC para o modelo Logístico')\n",
    "plt.legend(loc=\"lower right\")\n",
    "plt.savefig('Log_ROC')\n",
    "plt.show()"
   ]
  },
  {
   "cell_type": "markdown",
   "id": "0b7525e2",
   "metadata": {},
   "source": [
    "# Colocar os dois modelos juntos na mesma curva ROC"
   ]
  },
  {
   "cell_type": "code",
   "execution_count": 33,
   "id": "eecacc4a",
   "metadata": {},
   "outputs": [
    {
     "data": {
      "image/png": "[encoded data removed]",
      "text/plain": [
       "<Figure size 432x288 with 1 Axes>"
      ]
     },
     "metadata": {
      "needs_background": "light"
     },
     "output_type": "display_data"
    }
   ],
   "source": [
    "logit_roc_auc = roc_auc_score(y_test, logreg.predict(X_test))\n",
    "fpr, tpr, thresholds = roc_curve(y_test, logreg.predict_proba(X_test)[:,1])\n",
    "plt.figure()\n",
    "plt.plot(fpr, tpr, label='Regressão Logística (area = %0.2f)' % logit_roc_auc)\n",
    "plt.plot(fpr_model1, tpr_model1, marker='.', label='Árvore de Decisão (area = %0.3f)' % auc_model1)\n",
    "plt.plot([0, 1], [0, 1],'r--')\n",
    "plt.xlim([0.0, 1.0])\n",
    "plt.ylim([0.0, 1.05])\n",
    "plt.xlabel('% Falso Positivo')\n",
    "plt.ylabel('% Verdadeiro Positivo')\n",
    "plt.title('Curva ROC dos modelos')\n",
    "plt.legend(loc=\"lower right\")\n",
    "plt.savefig('Log_ROC')\n",
    "plt.show()"
   ]
  },
  {
   "cell_type": "markdown",
   "id": "192c0479",
   "metadata": {},
   "source": [
    "# Modelo XGBoost"
   ]
  },
  {
   "cell_type": "code",
   "execution_count": 26,
   "id": "1caa148d",
   "metadata": {},
   "outputs": [
    {
     "name": "stdout",
     "output_type": "stream",
     "text": [
      "Requirement already satisfied: xgboost in c:\\users\\vinic\\anaconda3\\lib\\site-packages (1.6.1)\n",
      "Requirement already satisfied: numpy in c:\\users\\vinic\\anaconda3\\lib\\site-packages (from xgboost) (1.20.3)\n",
      "Requirement already satisfied: scipy in c:\\users\\vinic\\anaconda3\\lib\\site-packages (from xgboost) (1.7.1)\n"
     ]
    }
   ],
   "source": [
    "!pip install xgboost"
   ]
  },
  {
   "cell_type": "code",
   "execution_count": 27,
   "id": "2a5aed4b",
   "metadata": {},
   "outputs": [
    {
     "name": "stdout",
     "output_type": "stream",
     "text": [
      "Requirement already satisfied: xgboost in c:\\users\\vinic\\anaconda3\\lib\\site-packages (1.6.1)\n",
      "Requirement already satisfied: numpy in c:\\users\\vinic\\anaconda3\\lib\\site-packages (from xgboost) (1.20.3)\n",
      "Requirement already satisfied: scipy in c:\\users\\vinic\\anaconda3\\lib\\site-packages (from xgboost) (1.7.1)\n"
     ]
    }
   ],
   "source": [
    "!pip install --upgrade xgboost"
   ]
  },
  {
   "cell_type": "code",
   "execution_count": 28,
   "id": "7f842fb6",
   "metadata": {},
   "outputs": [],
   "source": [
    "from numpy import loadtxt\n",
    "from xgboost import XGBClassifier"
   ]
  },
  {
   "cell_type": "code",
   "execution_count": 29,
   "id": "c6b927a8",
   "metadata": {},
   "outputs": [],
   "source": [
    "X_treino, X_teste, y_treino, y_teste = train_test_split(X, y, test_size=0.3, random_state=0)\n",
    "m2 = XGBClassifier()\n"
   ]
  },
  {
   "cell_type": "code",
   "execution_count": 30,
   "id": "d4ec52d4",
   "metadata": {},
   "outputs": [
    {
     "data": {
      "text/html": [
       "<style>#sk-container-id-1 {color: black;background-color: white;}#sk-container-id-1 pre{padding: 0;}#sk-container-id-1 div.sk-toggleable {background-color: white;}#sk-container-id-1 label.sk-toggleable__label {cursor: pointer;display: block;width: 100%;margin-bottom: 0;padding: 0.3em;box-sizing: border-box;text-align: center;}#sk-container-id-1 label.sk-toggleable__label-arrow:before {content: \"▸\";float: left;margin-right: 0.25em;color: #696969;}#sk-container-id-1 label.sk-toggleable__label-arrow:hover:before {color: black;}#sk-container-id-1 div.sk-estimator:hover label.sk-toggleable__label-arrow:before {color: black;}#sk-container-id-1 div.sk-toggleable__content {max-height: 0;max-width: 0;overflow: hidden;text-align: left;background-color: #f0f8ff;}#sk-container-id-1 div.sk-toggleable__content pre {margin: 0.2em;color: black;border-radius: 0.25em;background-color: #f0f8ff;}#sk-container-id-1 input.sk-toggleable__control:checked~div.sk-toggleable__content {max-height: 200px;max-width: 100%;overflow: auto;}#sk-container-id-1 input.sk-toggleable__control:checked~label.sk-toggleable__label-arrow:before {content: \"▾\";}#sk-container-id-1 div.sk-estimator input.sk-toggleable__control:checked~label.sk-toggleable__label {background-color: #d4ebff;}#sk-container-id-1 div.sk-label input.sk-toggleable__control:checked~label.sk-toggleable__label {background-color: #d4ebff;}#sk-container-id-1 input.sk-hidden--visually {border: 0;clip: rect(1px 1px 1px 1px);clip: rect(1px, 1px, 1px, 1px);height: 1px;margin: -1px;overflow: hidden;padding: 0;position: absolute;width: 1px;}#sk-container-id-1 div.sk-estimator {font-family: monospace;background-color: #f0f8ff;border: 1px dotted black;border-radius: 0.25em;box-sizing: border-box;margin-bottom: 0.5em;}#sk-container-id-1 div.sk-estimator:hover {background-color: #d4ebff;}#sk-container-id-1 div.sk-parallel-item::after {content: \"\";width: 100%;border-bottom: 1px solid gray;flex-grow: 1;}#sk-container-id-1 div.sk-label:hover label.sk-toggleable__label {background-color: #d4ebff;}#sk-container-id-1 div.sk-serial::before {content: \"\";position: absolute;border-left: 1px solid gray;box-sizing: border-box;top: 0;bottom: 0;left: 50%;z-index: 0;}#sk-container-id-1 div.sk-serial {display: flex;flex-direction: column;align-items: center;background-color: white;padding-right: 0.2em;padding-left: 0.2em;position: relative;}#sk-container-id-1 div.sk-item {position: relative;z-index: 1;}#sk-container-id-1 div.sk-parallel {display: flex;align-items: stretch;justify-content: center;background-color: white;position: relative;}#sk-container-id-1 div.sk-item::before, #sk-container-id-1 div.sk-parallel-item::before {content: \"\";position: absolute;border-left: 1px solid gray;box-sizing: border-box;top: 0;bottom: 0;left: 50%;z-index: -1;}#sk-container-id-1 div.sk-parallel-item {display: flex;flex-direction: column;z-index: 1;position: relative;background-color: white;}#sk-container-id-1 div.sk-parallel-item:first-child::after {align-self: flex-end;width: 50%;}#sk-container-id-1 div.sk-parallel-item:last-child::after {align-self: flex-start;width: 50%;}#sk-container-id-1 div.sk-parallel-item:only-child::after {width: 0;}#sk-container-id-1 div.sk-dashed-wrapped {border: 1px dashed gray;margin: 0 0.4em 0.5em 0.4em;box-sizing: border-box;padding-bottom: 0.4em;background-color: white;}#sk-container-id-1 div.sk-label label {font-family: monospace;font-weight: bold;display: inline-block;line-height: 1.2em;}#sk-container-id-1 div.sk-label-container {text-align: center;}#sk-container-id-1 div.sk-container {/* jupyter's `normalize.less` sets `[hidden] { display: none; }` but bootstrap.min.css set `[hidden] { display: none !important; }` so we also need the `!important` here to be able to override the default hidden behavior on the sphinx rendered scikit-learn.org. See: https://github.com/scikit-learn/scikit-learn/issues/21755 */display: inline-block !important;position: relative;}#sk-container-id-1 div.sk-text-repr-fallback {display: none;}</style><div id=\"sk-container-id-1\" class=\"sk-top-container\"><div class=\"sk-text-repr-fallback\"><pre>XGBClassifier(base_score=0.5, booster=&#x27;gbtree&#x27;, callbacks=None,\n",
       "              colsample_bylevel=1, colsample_bynode=1, colsample_bytree=1,\n",
       "              early_stopping_rounds=None, enable_categorical=False,\n",
       "              eval_metric=None, gamma=0, gpu_id=-1, grow_policy=&#x27;depthwise&#x27;,\n",
       "              importance_type=None, interaction_constraints=&#x27;&#x27;,\n",
       "              learning_rate=0.300000012, max_bin=256, max_cat_to_onehot=4,\n",
       "              max_delta_step=0, max_depth=6, max_leaves=0, min_child_weight=1,\n",
       "              missing=nan, monotone_constraints=&#x27;()&#x27;, n_estimators=100,\n",
       "              n_jobs=0, num_parallel_tree=1, predictor=&#x27;auto&#x27;, random_state=0,\n",
       "              reg_alpha=0, reg_lambda=1, ...)</pre><b>In a Jupyter environment, please rerun this cell to show the HTML representation or trust the notebook. <br />On GitHub, the HTML representation is unable to render, please try loading this page with nbviewer.org.</b></div><div class=\"sk-container\" hidden><div class=\"sk-item\"><div class=\"sk-estimator sk-toggleable\"><input class=\"sk-toggleable__control sk-hidden--visually\" id=\"sk-estimator-id-1\" type=\"checkbox\" checked><label for=\"sk-estimator-id-1\" class=\"sk-toggleable__label sk-toggleable__label-arrow\">XGBClassifier</label><div class=\"sk-toggleable__content\"><pre>XGBClassifier(base_score=0.5, booster=&#x27;gbtree&#x27;, callbacks=None,\n",
       "              colsample_bylevel=1, colsample_bynode=1, colsample_bytree=1,\n",
       "              early_stopping_rounds=None, enable_categorical=False,\n",
       "              eval_metric=None, gamma=0, gpu_id=-1, grow_policy=&#x27;depthwise&#x27;,\n",
       "              importance_type=None, interaction_constraints=&#x27;&#x27;,\n",
       "              learning_rate=0.300000012, max_bin=256, max_cat_to_onehot=4,\n",
       "              max_delta_step=0, max_depth=6, max_leaves=0, min_child_weight=1,\n",
       "              missing=nan, monotone_constraints=&#x27;()&#x27;, n_estimators=100,\n",
       "              n_jobs=0, num_parallel_tree=1, predictor=&#x27;auto&#x27;, random_state=0,\n",
       "              reg_alpha=0, reg_lambda=1, ...)</pre></div></div></div></div></div>"
      ],
      "text/plain": [
       "XGBClassifier(base_score=0.5, booster='gbtree', callbacks=None,\n",
       "              colsample_bylevel=1, colsample_bynode=1, colsample_bytree=1,\n",
       "              early_stopping_rounds=None, enable_categorical=False,\n",
       "              eval_metric=None, gamma=0, gpu_id=-1, grow_policy='depthwise',\n",
       "              importance_type=None, interaction_constraints='',\n",
       "              learning_rate=0.300000012, max_bin=256, max_cat_to_onehot=4,\n",
       "              max_delta_step=0, max_depth=6, max_leaves=0, min_child_weight=1,\n",
       "              missing=nan, monotone_constraints='()', n_estimators=100,\n",
       "              n_jobs=0, num_parallel_tree=1, predictor='auto', random_state=0,\n",
       "              reg_alpha=0, reg_lambda=1, ...)"
      ]
     },
     "execution_count": 30,
     "metadata": {},
     "output_type": "execute_result"
    }
   ],
   "source": [
    "m2.fit(X_treino,y_treino)"
   ]
  },
  {
   "cell_type": "code",
   "execution_count": null,
   "id": "970ccae6",
   "metadata": {},
   "outputs": [],
   "source": []
  }
 ],
 "metadata": {
  "kernelspec": {
   "display_name": "Python 3 (ipykernel)",
   "language": "python",
   "name": "python3"
  },
  "language_info": {
   "codemirror_mode": {
    "name": "ipython",
    "version": 3
   },
   "file_extension": ".py",
   "mimetype": "text/x-python",
   "name": "python",
   "nbconvert_exporter": "python",
   "pygments_lexer": "ipython3",
   "version": "3.9.7"
  }
 },
 "nbformat": 4,
 "nbformat_minor": 5
}
